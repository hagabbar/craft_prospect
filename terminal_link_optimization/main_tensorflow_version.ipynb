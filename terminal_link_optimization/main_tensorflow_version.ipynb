{
 "cells": [
  {
   "cell_type": "markdown",
   "metadata": {
    "colab_type": "text",
    "id": "av9AyAigIHXG"
   },
   "source": [
    "# Terminal Link Optimization\n",
    "\n",
    "This is the main ipython script for the terminal link optimization algorithm.\n",
    "I will update the documentation accordingly once the project has progressed further."
   ]
  },
  {
   "cell_type": "markdown",
   "metadata": {
    "colab_type": "text",
    "id": "jUjABdnxIHXM"
   },
   "source": [
    "## Import packages"
   ]
  },
  {
   "cell_type": "code",
   "execution_count": 1,
   "metadata": {
    "colab": {
     "base_uri": "https://localhost:8080/",
     "height": 208
    },
    "colab_type": "code",
    "id": "rmpV99xvIHXP",
    "outputId": "b42e25f4-31d0-4a5e-d8a3-0021156ab91d"
   },
   "outputs": [],
   "source": [
    "import tensorflow as tf\n",
    "tf.enable_eager_execution()\n",
    "tfe = tf.contrib.eager\n",
    "\n",
    "from __future__ import absolute_import, division, print_function, unicode_literals\n",
    "\n",
    "import numpy as np\n",
    "import matplotlib.pyplot as plt\n",
    "\n",
    "\n",
    "from tensorflow.keras import datasets, layers, models"
   ]
  },
  {
   "cell_type": "markdown",
   "metadata": {
    "colab_type": "text",
    "id": "NunbIazmIHXW"
   },
   "source": [
    "## Make simulation of satellite and customers\n",
    "\n",
    "Lets first start by simulating customers on the ground. This will essentially \n",
    "end up being a straight line with dots (representing customers) being randomly \n",
    "distributed along the line. The line will be spaced according to some \n",
    "arbitrary time metric. Each customer will have (for now) 4 attributes which \n",
    "describe the \"importantness\" of each customer."
   ]
  },
  {
   "cell_type": "code",
   "execution_count": 2,
   "metadata": {
    "colab": {},
    "colab_type": "code",
    "collapsed": true,
    "id": "TuYKIBsZIHXY"
   },
   "outputs": [],
   "source": [
    "\"\"\"\n",
    "Lets make an array containing the physical location of some simulated customers.\n",
    "The array will have the shape (N_time_segments,length_of_time_segment)\n",
    "\n",
    "customer data array `customer_arr` will be of shape (number of training orbits, number of customers \n",
    "in orbit, number of features describing priority of customers)\n",
    "\"\"\"\n",
    "\n",
    "# training set hyperparameters\n",
    "num_customers = 10 # total number of customers on planet\n",
    "num_orbits = 10000  # total number of training samples (in this case orbits)\n",
    "max_dist = 1000    # maximum distance allowed for customers\n",
    "dist_step = 200     # distance traveled per step by satellite\n",
    "obs_window = 200    # total size of observation window of satellite in units of distance\n",
    "customer_arr = np.zeros((num_orbits,num_customers,5)) # Define emtpy array to contain customer data\n",
    "\n",
    "# Make training set\n",
    "for i in range(num_orbits):\n",
    "    # Make customer index labels\n",
    "    customer_arr[i,:,0] = np.arange(start=0,stop=num_customers,step=1)\n",
    "\n",
    "    # Define random locations of customers on a line defining the planet\n",
    "    customer_arr[i,:,1] = np.random.randint(low=0,high=max_dist,size=(num_customers))\n",
    "\n",
    "    # Assign a random customer important factor. 0 == low importance, 1 == high importance\n",
    "    customer_arr[i,:,2] = np.random.uniform(low=0.0,high=1.0,size=(num_customers))\n",
    "\n",
    "    # Assign a random customer weather factor. 0 == high cloud coverage, 1 == low cloud coverage\n",
    "    customer_arr[i,:,3] = np.random.uniform(low=0.0,high=1.0,size=(num_customers))\n",
    "\n",
    "# Testing set hyperparameters\n",
    "num_test_orbits = 100 # number of test samples to use\n",
    "customer_test_arr = np.zeros((num_test_orbits,num_customers,5))\n",
    "\n",
    "# Make test set\n",
    "for i in range(num_test_orbits):\n",
    "    # Make customer index labels\n",
    "    customer_test_arr[i,:,0] = np.arange(start=0,stop=num_customers,step=1)\n",
    "\n",
    "    # Define random locations of customers on a line defining the planet\n",
    "    customer_test_arr[i,:,1] = np.random.randint(low=0,high=max_dist,size=(num_customers))\n",
    "\n",
    "    # Assign a random customer important factor. 0 == low importance, 1 == high importance\n",
    "    customer_test_arr[i,:,2] = np.random.uniform(low=0.0,high=1.0,size=(num_customers))\n",
    "\n",
    "    # Assign a random customer weather factor. 0 == high cloud coverage, 1 == low cloud coverage\n",
    "    customer_test_arr[i,:,3] = np.random.uniform(low=0.0,high=1.0,size=(num_customers))"
   ]
  },
  {
   "cell_type": "code",
   "execution_count": 3,
   "metadata": {
    "colab": {},
    "colab_type": "code",
    "collapsed": true,
    "id": "e_58XuoNpT3u"
   },
   "outputs": [],
   "source": [
    "# training features: location, importance, weather\n",
    "X_train = customer_arr[:,:,1:4]\n",
    "X_train = X_train.reshape(X_train.shape[0],X_train.shape[1],X_train.shape[2],1)\n",
    "X_test = customer_test_arr[:,:,1:4].reshape(num_test_orbits,num_customers,3,1)\n",
    "Y_train = np.ones((num_orbits,num_customers))\n",
    "Y_test = np.ones((num_test_orbits,num_customers))"
   ]
  },
  {
   "cell_type": "markdown",
   "metadata": {
    "colab_type": "text",
    "id": "LeqCYfHIIHXc"
   },
   "source": [
    "## Choose optimal order in which to distribute keys (simple approach)\n",
    "\n",
    "This is an incredibly simple algorithm which only takes into account \n",
    "the importantness and weather factors for each customer. It does not \n",
    "take into account the total time customers have been waiting for \n",
    "a key to be distributed to them."
   ]
  },
  {
   "cell_type": "code",
   "execution_count": 4,
   "metadata": {
    "colab": {},
    "colab_type": "code",
    "collapsed": true,
    "id": "hHoQra2aIHXe"
   },
   "outputs": [],
   "source": [
    "# Loop over all available customers within line-of-sight (this is by default set to num_customers)\n",
    "# This is an example using only one training orbit.\n",
    "for i in range(num_customers):\n",
    "    customer_arr[0,i,4] = customer_arr[0,i,2] * customer_arr[0,i,3]\n",
    "\n",
    "customer_prob_list_idx = np.argsort(customer_arr[0,:,4])\n",
    "customer_prob_list = customer_arr[0,customer_prob_list_idx,0]"
   ]
  },
  {
   "cell_type": "code",
   "execution_count": 7,
   "metadata": {
    "colab": {
     "base_uri": "https://localhost:8080/",
     "height": 298
    },
    "colab_type": "code",
    "id": "YHVHRhx-IHXi",
    "outputId": "f6b50a80-a00c-4690-93cf-fc0960b7b909"
   },
   "outputs": [
    {
     "data": {
      "image/png": "[encoded data removed]",
      "text/plain": [
       "<Figure size 432x288 with 1 Axes>"
      ]
     },
     "metadata": {},
     "output_type": "display_data"
    }
   ],
   "source": [
    "# Plot importantness as a function of predicted key probability\n",
    "plt.plot(customer_arr[0,customer_prob_list_idx,2], marker='.')\n",
    "plt.xlabel('Predicted probability of key distribution low to high')\n",
    "plt.ylabel('Importantness of customer from low to high')\n",
    "plt.show()"
   ]
  },
  {
   "cell_type": "code",
   "execution_count": 8,
   "metadata": {
    "colab": {
     "base_uri": "https://localhost:8080/",
     "height": 343
    },
    "colab_type": "code",
    "id": "EEkO8TvlsfgZ",
    "outputId": "0573ce7e-a4f2-47e2-ced5-9c12f4a6332b"
   },
   "outputs": [
    {
     "data": {
      "image/png": "[encoded data removed]",
      "text/plain": [
       "<Figure size 432x288 with 1 Axes>"
      ]
     },
     "metadata": {},
     "output_type": "display_data"
    }
   ],
   "source": [
    "# Plot weather as a function of predicted key probability\n",
    "plt.close()\n",
    "plt.plot(customer_arr[0,customer_prob_list_idx,3], marker='.')\n",
    "plt.xlabel('Predicted probability of key distribution low to high')\n",
    "plt.ylabel('weather around customer from high cloud coverage to low')\n",
    "plt.show()"
   ]
  },
  {
   "cell_type": "markdown",
   "metadata": {
    "colab_type": "text",
    "id": "6pgpxmkGIHXn"
   },
   "source": [
    "## Neural Network Approach (complicated approach)\n",
    "\n",
    "I've written some pseudo code down on a piece of paper. Not guranteeing that \n",
    "this will actually work in practice, but I will make my first attempt of this here. \n",
    "\n",
    "Need to eventually take into account the fact that we will see the customer \n",
    "multiple times over several days. Will also need to account for a decrease \n",
    "in priority for those customers at much greater distances, since it takes \n",
    "longer to distribute keys as the distance between satellite and ground terminal \n",
    "increases."
   ]
  },
  {
   "cell_type": "markdown",
   "metadata": {
    "colab_type": "text",
    "id": "xXOblSrwIHXo"
   },
   "source": [
    "### Define TensorFlow network archetecture"
   ]
  },
  {
   "cell_type": "code",
   "execution_count": 29,
   "metadata": {
    "colab": {},
    "colab_type": "code",
    "collapsed": true,
    "id": "462PZnjkIHXs"
   },
   "outputs": [],
   "source": [
    "def custom_loss(output=None, target=None, batch_feature_data=None):\n",
    "    \"\"\" This is a custom loss function which \n",
    "    takes as input the raw output from the neural \n",
    "    network and returns a loss which attempts to \n",
    "    minimize the number of keys not distributed \n",
    "    within the alloted amount of time.\n",
    "    \"\"\"\n",
    "    \n",
    "    def my_model(output, batch_feature_data):\n",
    "        \"\"\" This is a model which will iterate \n",
    "        over the predicted ordering of keys to be \n",
    "        distributed. There will be a penalty \n",
    "        associated with any keys which are predicted to \n",
    "        be distributed outside of the obersvation window.\n",
    "        \"\"\"\n",
    "\n",
    "        # Assume 5 seconds to distribute key to customer downstream\n",
    "        # Array to store the calculated number of keys lying outside of time alloted\n",
    "#        new_output = tf.zeros((batch_feature_data.shape[0],num_customers))\n",
    "#        new_output = np.zeros((batch_feature_data.shape[0],num_customers))\n",
    "\n",
    "        # Make sure to delete the dummy tensor from previous runs\n",
    "        try:\n",
    "          batch_dummy_tensor\n",
    "          del batch_dummy_tensor\n",
    "        except NameError:\n",
    "          None\n",
    "\n",
    "        # Iterate over all samples in batch \n",
    "        for i in range(batch_size):\n",
    "\n",
    "          print('Starting operations on sample %d' % i)\n",
    "          # Get predicted output for current sample in batch\n",
    "          tmp_output = output[i,:]\n",
    "\n",
    "          dist_cnt = 0\n",
    "          customers_accessed = []     # list to store customers who have already had a key distributed to them\n",
    "\n",
    "          # Make sure to delete the dummy tensors from previous batch samples\n",
    "          try: \n",
    "            train_samp_dummy_tensor\n",
    "            del train_samp_dummy_tensor\n",
    "          except NameError:\n",
    "            None\n",
    "\n",
    "          # Simulate satellite traveling until maximum distance reached (defined as 1 orbit around Earth)\n",
    "          while dist_cnt <= max_dist:       \n",
    "\n",
    "            customers_in_cur_wind_prob = []\n",
    "            customers_in_cur_wind_idx = []\n",
    "            customers_in_cur_wind_feat = []\n",
    "            \n",
    "            # Iterate over all customers around the globe\n",
    "            for customer_idx,customer in enumerate(batch_feature_data[i,:,:].numpy()):\n",
    " \n",
    "              # If the location of a customer lies within the line-of-sight of satellite \n",
    "              if customer[0] < (dist_cnt + obs_window) and customer[0] > (dist_cnt) :\n",
    "                # Check if customer has already had a key distributed to them\n",
    "                try:\n",
    "                    customers_accessed.index(customer_idx)\n",
    "                except ValueError:\n",
    "                    None\n",
    "                else:\n",
    "                    continue\n",
    "\n",
    "                # Append predicted probability of key being distributed\n",
    "                customers_in_cur_wind_prob.append(tmp_output[customer_idx])\n",
    "\n",
    "                # Append the index of the customer\n",
    "                customers_in_cur_wind_idx.append(customer_idx)\n",
    "\n",
    "                # Append loss value of customer\n",
    "                customers_in_cur_wind_feat.append(customer[1]*customer[2])            \n",
    "\n",
    "            # If there are no customers within the current line-of-sight, add some small distance traveled to satellite\n",
    "            if not customers_in_cur_wind_prob:\n",
    "              dist_cnt+=dist_step\n",
    "              continue\n",
    "            \n",
    "            customers_in_cur_wind_idx = customers_in_cur_wind_idx\n",
    "            # Of all customers within line-of-sight, choose one with max probability\n",
    "            max_cust = tf.gather(customers_in_cur_wind_idx, tf.argmax(tf.gather(tmp_output,customers_in_cur_wind_idx)))\n",
    "#            max_cust = customers_in_cur_wind_idx.get_item(tf.math.argmax(tmp_output[customers_in_cur_wind_idx]))\n",
    "            # Add customer to list of keys already delivered\n",
    "            customers_accessed.append(max_cust.numpy())\n",
    "\n",
    "            # Add to batch sample loss max prob customer weather and importantness scaled by predicted probability of key distribution\n",
    "#            new_output = tf.concat(new_output, (tmp_output[max_cust]**1 * \n",
    "#                                                          batch_feature_data[i,max_cust,1]**1 *\n",
    "#                                                          batch_feature_data[i,max_cust,2]**1))\n",
    "            max_cust = max_cust.numpy()\n",
    "#            print(gr_tape.gradient(tmp_output[max_cust],output))\n",
    "            \"\"\"\n",
    "            # TODO: Need to figure out a way to not use .eval() here!! Otherwise \n",
    "            you loose gradient!! Try using the tensorflow concatenate function. \n",
    "            This should preserve any tensorflow operations performed before \n",
    "            \"\"\"\n",
    "\n",
    "#            new_output[i,max_cust] = tf.add(tf.convert_to_tensor(new_output[i,max_cust], dtype=tf.float32), (tmp_output[max_cust]**1 * \n",
    "#                                                          batch_feature_data[i,max_cust,1]**1 *\n",
    "#                                                          batch_feature_data[i,max_cust,2]**1)).eval()\n",
    "            # check if the training sample customer loop variable exists\n",
    "            try:\n",
    "              train_samp_dummy_tensor\n",
    "            except NameError:\n",
    "              train_samp_dummy_tensor = tf.Variable(tmp_output[max_cust]**1 * \n",
    "                                         tf.Variable(batch_feature_data[i,max_cust,1], dtype=tf.float32)**1 *\n",
    "                                         tf.Variable(batch_feature_data[i,max_cust,2], dtype=tf.float32)**1)\n",
    "              \n",
    "            # if it does exist, add it to existing customer list\n",
    "            else:\n",
    "              train_samp_dummy_tensor = tf.concat([train_samp_dummy_tensor, tf.Variable(tmp_output[max_cust]**1 * \n",
    "                                                          tf.Variable(batch_feature_data[i,max_cust,1], dtype=tf.float32)**1 *\n",
    "                                                          tf.Variable(batch_feature_data[i,max_cust,2], dtype=tf.float32)**1)], axis=0)\n",
    "\n",
    "            # Add a distance traveled by satellite (dist_step)\n",
    "            dist_cnt+=dist_step\n",
    "\n",
    "          \"\"\"\n",
    "          # TODO: Need to somehow organize the outputs such that it is the same order as that which it went in\n",
    "          \"\"\"\n",
    "          # Sort delivered keys from closest to farthest away\n",
    "          train_samp_dummy_tensor = tf.gather(train_samp_dummy_tensor, tf.argsort(customers_accessed))\n",
    "\n",
    "          dummy_idx = 0\n",
    "          # Iterate through keys delivered\n",
    "          for customer_idx,customer in enumerate(batch_feature_data[i,:,:].numpy()):\n",
    "            # Was key delivered?\n",
    "            try:\n",
    "              customers_accessed.index(customer_idx)\n",
    "            # If not delivered, Give penalty of zero\n",
    "            except ValueError:\n",
    "              # Check if the final tensor has been created\n",
    "              try:\n",
    "                train_samp_tensor_final\n",
    "              # If new final tensor hasn't been created, make a new one\n",
    "              except NameError:\n",
    "                # if this is the first customer and the key wasn't delivered, set output to zero\n",
    "                if customer_idx == 0:\n",
    "                  train_samp_tensor_final = tf.expand_dims(tf.gather(tmp_output, customer_idx)*0, axis=0)\n",
    "              # if keys were delivered before this key which wasn't delivered append new result to final tensor\n",
    "              else:\n",
    "                train_samp_tensor_final = tf.concat([train_samp_tensor_final, \n",
    "                                                 tf.expand_dims(tf.gather(tmp_output, customer_idx)*0, axis=0)], axis=0)\n",
    "            # If key was delivered, assign positive reward to final tensor \n",
    "            else:\n",
    "              # Check if the final tensor has been created\n",
    "              try:\n",
    "                train_samp_tensor_final\n",
    "              # If new final tensor hasn't been created, make a new one\n",
    "              except NameError:\n",
    "                if customer_idx == 0:\n",
    "                  # If this is the first customer and the key WAS delivered, set output to precomputed reward from model\n",
    "                  train_samp_tensor_final = tf.expand_dims(train_samp_dummy_tensor[dummy_idx], axis=0)\n",
    "              else:\n",
    "                train_samp_tensor_final = tf.concat([train_samp_tensor_final, \n",
    "                                                 tf.expand_dims(train_samp_dummy_tensor[dummy_idx], axis=0)], axis=0)\n",
    "\n",
    "\n",
    "                dummy_idx+=1\n",
    "\n",
    "          # Add computed loss for current sample to batch loss\n",
    "          try:\n",
    "            batch_dummy_tensor\n",
    "          except NameError:\n",
    "            batch_dummy_tensor = tf.expand_dims(train_samp_tensor_final, axis=0)\n",
    "            del train_samp_tensor_final\n",
    "          else:\n",
    "            batch_dummy_tensor = tf.concat([batch_dummy_tensor, tf.expand_dims(train_samp_tensor_final, axis=0)], axis=0)\n",
    "            del train_samp_tensor_final\n",
    "\n",
    "          #print(len(customers_accessed)) \n",
    "          #print('Found %d cutomers inside required window of operation' % num_inside_dist)\n",
    "    \n",
    "        return batch_dummy_tensor\n",
    "\n",
    "    # record all gradient operations done to predicted output from NN\n",
    "#    with tf.GradientTape(persistent=True) as gr_tape:\n",
    "#        gr_tape.watch(output)\n",
    "\n",
    "    # Get number of keys predicted to be outside of target window\n",
    "    pred_model_score = my_model(output, batch_feature_data)\n",
    "\n",
    "        # Normalize score to be between zero and 1\n",
    "    #    pred_model_score = torch.div( pred_model_score, torch.max(pred_model_score))\n",
    "        #print(pred_model_score)\n",
    "\n",
    "        # Compute mean squared loss between predictions and target\n",
    "    #    loss *= 100\n",
    "    return tf.reduce_mean(tf.squared_difference(pred_model_score, tf.Variable(target, dtype=tf.float32)))"
   ]
  },
  {
   "cell_type": "code",
   "execution_count": 30,
   "metadata": {
    "colab": {},
    "colab_type": "code",
    "collapsed": true,
    "id": "GRYxGOiyDzz7"
   },
   "outputs": [],
   "source": [
    "def grad(model, inputs, targets):\n",
    "  with tf.GradientTape() as tape:\n",
    "    output = model(inputs)\n",
    "    loss_value = custom_loss(output=output, target=targets, batch_feature_data=inputs)\n",
    "    print('Computed loss')\n",
    "    stop\n",
    "  return tape.gradient(loss_value, [model.W, model.B])"
   ]
  },
  {
   "cell_type": "code",
   "execution_count": 31,
   "metadata": {
    "colab": {
     "base_uri": "https://localhost:8080/",
     "height": 468
    },
    "colab_type": "code",
    "id": "fPpgkEB0IHXp",
    "outputId": "588cc3c7-99b3-4aa7-ae30-88be39476f4e"
   },
   "outputs": [
    {
     "name": "stdout",
     "output_type": "stream",
     "text": [
      "_________________________________________________________________\n",
      "Layer (type)                 Output Shape              Param #   \n",
      "=================================================================\n",
      "conv2d_28 (Conv2D)           (None, 9, 2, 32)          160       \n",
      "_________________________________________________________________\n",
      "conv2d_29 (Conv2D)           (None, 8, 1, 64)          8256      \n",
      "_________________________________________________________________\n",
      "flatten_14 (Flatten)         (None, 512)               0         \n",
      "_________________________________________________________________\n",
      "dense_28 (Dense)             (None, 1000)              513000    \n",
      "_________________________________________________________________\n",
      "dense_29 (Dense)             (None, 10)                10010     \n",
      "=================================================================\n",
      "Total params: 531,426\n",
      "Trainable params: 531,426\n",
      "Non-trainable params: 0\n",
      "_________________________________________________________________\n",
      "None\n",
      "Starting operations on sample 0\n"
     ]
    },
    {
     "ename": "AttributeError",
     "evalue": "module 'tensorflow' has no attribute 'argsort'",
     "output_type": "error",
     "traceback": [
      "\u001b[0;31m---------------------------------------------------------------------------\u001b[0m",
      "\u001b[0;31mAttributeError\u001b[0m                            Traceback (most recent call last)",
      "\u001b[0;32m<ipython-input-31-e919e1b5be6d>\u001b[0m in \u001b[0;36m<module>\u001b[0;34m()\u001b[0m\n\u001b[1;32m    153\u001b[0m \u001b[0;31m# Train network\u001b[0m\u001b[0;34m\u001b[0m\u001b[0;34m\u001b[0m\u001b[0;34m\u001b[0m\u001b[0m\n\u001b[1;32m    154\u001b[0m \u001b[0;31m#train_tf_neural_network(X_train, Y_train)\u001b[0m\u001b[0;34m\u001b[0m\u001b[0;34m\u001b[0m\u001b[0;34m\u001b[0m\u001b[0m\n\u001b[0;32m--> 155\u001b[0;31m \u001b[0mtrain_keras_neural_network\u001b[0m\u001b[0;34m(\u001b[0m\u001b[0mX_train\u001b[0m\u001b[0;34m,\u001b[0m \u001b[0mY_train\u001b[0m\u001b[0;34m)\u001b[0m\u001b[0;34m\u001b[0m\u001b[0;34m\u001b[0m\u001b[0m\n\u001b[0m",
      "\u001b[0;32m<ipython-input-31-e919e1b5be6d>\u001b[0m in \u001b[0;36mtrain_keras_neural_network\u001b[0;34m(X_train, Y_train)\u001b[0m\n\u001b[1;32m     92\u001b[0m       \u001b[0mprediction\u001b[0m \u001b[0;34m=\u001b[0m \u001b[0mmodel\u001b[0m\u001b[0;34m(\u001b[0m\u001b[0mepoch_x\u001b[0m\u001b[0;34m)\u001b[0m\u001b[0;34m\u001b[0m\u001b[0;34m\u001b[0m\u001b[0m\n\u001b[1;32m     93\u001b[0m \u001b[0;34m\u001b[0m\u001b[0m\n\u001b[0;32m---> 94\u001b[0;31m       \u001b[0mprint\u001b[0m\u001b[0;34m(\u001b[0m\u001b[0;34m\"Initial loss: {:.3f}\"\u001b[0m\u001b[0;34m.\u001b[0m\u001b[0mformat\u001b[0m\u001b[0;34m(\u001b[0m\u001b[0mcustom_loss\u001b[0m\u001b[0;34m(\u001b[0m\u001b[0moutput\u001b[0m\u001b[0;34m=\u001b[0m\u001b[0mprediction\u001b[0m\u001b[0;34m,\u001b[0m \u001b[0mtarget\u001b[0m\u001b[0;34m=\u001b[0m\u001b[0mepoch_y\u001b[0m\u001b[0;34m,\u001b[0m \u001b[0mbatch_feature_data\u001b[0m\u001b[0;34m=\u001b[0m\u001b[0mepoch_x\u001b[0m\u001b[0;34m)\u001b[0m\u001b[0;34m)\u001b[0m\u001b[0;34m)\u001b[0m\u001b[0;34m\u001b[0m\u001b[0;34m\u001b[0m\u001b[0m\n\u001b[0m\u001b[1;32m     95\u001b[0m       \u001b[0mstop\u001b[0m\u001b[0;34m\u001b[0m\u001b[0;34m\u001b[0m\u001b[0m\n\u001b[1;32m     96\u001b[0m \u001b[0;34m\u001b[0m\u001b[0m\n",
      "\u001b[0;32m<ipython-input-29-5305bfa07a3a>\u001b[0m in \u001b[0;36mcustom_loss\u001b[0;34m(output, target, batch_feature_data)\u001b[0m\n\u001b[1;32m    180\u001b[0m \u001b[0;34m\u001b[0m\u001b[0m\n\u001b[1;32m    181\u001b[0m     \u001b[0;31m# Get number of keys predicted to be outside of target window\u001b[0m\u001b[0;34m\u001b[0m\u001b[0;34m\u001b[0m\u001b[0;34m\u001b[0m\u001b[0m\n\u001b[0;32m--> 182\u001b[0;31m     \u001b[0mpred_model_score\u001b[0m \u001b[0;34m=\u001b[0m \u001b[0mmy_model\u001b[0m\u001b[0;34m(\u001b[0m\u001b[0moutput\u001b[0m\u001b[0;34m,\u001b[0m \u001b[0mbatch_feature_data\u001b[0m\u001b[0;34m)\u001b[0m\u001b[0;34m\u001b[0m\u001b[0;34m\u001b[0m\u001b[0m\n\u001b[0m\u001b[1;32m    183\u001b[0m \u001b[0;34m\u001b[0m\u001b[0m\n\u001b[1;32m    184\u001b[0m         \u001b[0;31m# Normalize score to be between zero and 1\u001b[0m\u001b[0;34m\u001b[0m\u001b[0;34m\u001b[0m\u001b[0;34m\u001b[0m\u001b[0m\n",
      "\u001b[0;32m<ipython-input-29-5305bfa07a3a>\u001b[0m in \u001b[0;36mmy_model\u001b[0;34m(output, batch_feature_data)\u001b[0m\n\u001b[1;32m    121\u001b[0m           \"\"\"\n\u001b[1;32m    122\u001b[0m           \u001b[0;31m# Sort delivered keys from closest to farthest away\u001b[0m\u001b[0;34m\u001b[0m\u001b[0;34m\u001b[0m\u001b[0;34m\u001b[0m\u001b[0m\n\u001b[0;32m--> 123\u001b[0;31m           \u001b[0mtrain_samp_dummy_tensor\u001b[0m \u001b[0;34m=\u001b[0m \u001b[0mtf\u001b[0m\u001b[0;34m.\u001b[0m\u001b[0mgather\u001b[0m\u001b[0;34m(\u001b[0m\u001b[0mtrain_samp_dummy_tensor\u001b[0m\u001b[0;34m,\u001b[0m \u001b[0mtf\u001b[0m\u001b[0;34m.\u001b[0m\u001b[0margsort\u001b[0m\u001b[0;34m(\u001b[0m\u001b[0mcustomers_accessed\u001b[0m\u001b[0;34m)\u001b[0m\u001b[0;34m)\u001b[0m\u001b[0;34m\u001b[0m\u001b[0;34m\u001b[0m\u001b[0m\n\u001b[0m\u001b[1;32m    124\u001b[0m \u001b[0;34m\u001b[0m\u001b[0m\n\u001b[1;32m    125\u001b[0m           \u001b[0mdummy_idx\u001b[0m \u001b[0;34m=\u001b[0m \u001b[0;36m0\u001b[0m\u001b[0;34m\u001b[0m\u001b[0;34m\u001b[0m\u001b[0m\n",
      "\u001b[0;31mAttributeError\u001b[0m: module 'tensorflow' has no attribute 'argsort'"
     ]
    }
   ],
   "source": [
    "# This approach uses the TensorFlow neural network library\n",
    "\n",
    "# tf Graph input. We will flatten out input.\n",
    "#x = tf.placeholder(tf.float32, [None, X_train.shape[1], X_train.shape[2],1])\n",
    "#y = tf.placeholder(tf.float32, [None, Y_train.shape[1]])\n",
    "#output_placeholder = tf.placeholder(tf.float32, [None, X_train.shape[1], X_train.shape[2],1])\n",
    "\n",
    "# neural network hyperparameters\n",
    "batch_size = 1\n",
    "\n",
    "# Simple function to do convolution layer\n",
    "def conv2d(x, W):\n",
    "  return tf.nn.conv2d(x, W, strides=[1, 1, 1, 1], padding='SAME')\n",
    "\n",
    "# Simple function to pooling layer\n",
    "def maxpool2d(x):\n",
    "  return tf.nn.max_pool(x, ksize=[1, 2, 2, 1], strides=[1, 2, 2, 1], padding='SAME')\n",
    "\n",
    "# Define the convolutional model (convolutional neural network)\n",
    "def convolutional_neural_network(x):#, keep_rate):\n",
    "    weights = {\n",
    "        # 5 x 5 convolution, 1 input image, 32 outputs\n",
    "        'W_conv1': tf.Variable(tf.random_normal([3, 1, 1, 32])),\n",
    "        # 5x5 conv, 32 inputs, 64 outputs \n",
    "        'W_conv2': tf.Variable(tf.random_normal([3, 1, 32, 64])),\n",
    "        # fully connected, 7*7*64 inputs, 1024 outputs\n",
    "        'W_fc': tf.Variable(tf.random_normal([(64*num_customers*3), 1024])),\n",
    "        # 1024 inputs, 10 outputs (class prediction)\n",
    "        'out': tf.Variable(tf.random_normal([1024, num_customers]))\n",
    "    }\n",
    "\n",
    "    biases = {\n",
    "        'b_conv1': tf.Variable(tf.random_normal([32])),\n",
    "        'b_conv2': tf.Variable(tf.random_normal([64])),\n",
    "        'b_fc': tf.Variable(tf.random_normal([1024])),\n",
    "        'out': tf.Variable(tf.random_normal([num_customers]))\n",
    "    }\n",
    "\n",
    "    # Reshape input to a 4D tensor \n",
    "    x = tf.reshape(x, shape=[-1, num_customers, 3, 1])\n",
    "    # Convolution Layer, using our function\n",
    "    conv1 = tf.nn.relu(conv2d(x, weights['W_conv1']) + biases['b_conv1'])\n",
    "    # Max Pooling (down-sampling)\n",
    "#    conv1 = maxpool2d(conv1)\n",
    "    # Convolution Layer\n",
    "    conv2 = tf.nn.relu(conv2d(conv1, weights['W_conv2']) + biases['b_conv2'])\n",
    "    # Max Pooling (down-sampling)\n",
    "#    conv2 = maxpool2d(conv2)\n",
    "\n",
    "    # Fully connected layer\n",
    "    # Reshape conv2 output to fit fully connected layer\n",
    "    fc = tf.reshape(conv2, [batch_size, num_customers*64*3])\n",
    "    fc = tf.nn.relu(tf.matmul(fc, weights['W_fc']) + biases['b_fc'])\n",
    "\n",
    "    output = tf.sigmoid(tf.matmul(fc, weights['out']) + biases['out'])\n",
    "    return output\n",
    "\n",
    "def train_keras_neural_network(X_train,Y_train):\n",
    "\n",
    "  # Define the keras CNN model\n",
    "  model = models.Sequential()\n",
    "  model.add(layers.Conv2D(32, kernel_size=(2, 2), strides=(1, 1),\n",
    "                 activation='relu',\n",
    "                 input_shape=(num_customers,3,1)))\n",
    "#  model.add(layers.MaxPooling2D(pool_size=(2, 2), strides=(2, 2)))\n",
    "  model.add(layers.Conv2D(64, (2, 2), activation='relu'))\n",
    "#  model.add(layers.MaxPooling2D(pool_size=(2, 2)))\n",
    "  model.add(layers.Flatten())\n",
    "  model.add(layers.Dense(1000, activation='relu'))\n",
    "  model.add(layers.Dense(num_customers, activation='sigmoid'))\n",
    "\n",
    "  print(model.summary())\n",
    "\n",
    "  optimizer = tf.keras.optimizers.SGD(lr=0.01)\n",
    "\n",
    "  hm_epochs = 10\n",
    "\n",
    "  # Iterate over pre-defined number of training epochs\n",
    "  for epoch in range(hm_epochs):\n",
    "    i_batch = 0\n",
    "    \n",
    "    # Start iteration over current epoch in batches\n",
    "    for batch in dataset:\n",
    "      i_batch+=batch_size\n",
    "      if (num_orbits - (batch_size * i_batch)) < batch_size:\n",
    "        break\n",
    "        \n",
    "      epoch_x = tf.cast(batch[0], dtype=tf.float32)\n",
    "      epoch_y = tf.cast(batch[1], dtype=tf.float32)\n",
    "\n",
    "      # Make prediction on current batch\n",
    "      prediction = model(epoch_x)\n",
    "\n",
    "      print(\"Initial loss: {:.3f}\".format(custom_loss(output=prediction, target=epoch_y, batch_feature_data=epoch_x)))\n",
    "      stop\n",
    "\n",
    "\n",
    "def train_tf_neural_network(X_train,Y_train):\n",
    "    prediction = convolutional_neural_network(x=x)\n",
    "#    cost = tf.reduce_mean(tf.squared_difference(prediction, y)) # cost is mean squared error\n",
    "    cost = custom_loss(output=y, target=y, batch_feature_data=x)\n",
    "\n",
    "    optimizer = tf.train.AdamOptimizer.minimize(cost)\n",
    "    print('Made it past initilization stage')\n",
    "    stop\n",
    "    \n",
    "    hm_epochs = 10\n",
    "    # setup the variable initialisation\n",
    "    init_op = tf.global_variables_initializer()\n",
    "    # Start TensorFlow training session\n",
    "    with tf.Session() as sess:\n",
    "        sess.run(init_op)\n",
    "        sess.run(iterator.initializer)\n",
    "\n",
    "        # Iterate over pre-defined number of training epochs\n",
    "        for epoch in range(hm_epochs):\n",
    "            epoch_loss = 0\n",
    "            i_batch = 0\n",
    "            # Start iteration over current epoch in batches\n",
    "            for _ in range(int(num_orbits/batch_size)):\n",
    "                i_batch += batch_size\n",
    "                if (num_orbits - (batch_size * i_batch)) < batch_size:\n",
    "                   break\n",
    "                val = sess.run(next_element)\n",
    "                epoch_x, epoch_y = val[0], val[1]\n",
    "                out_pred = sess.run([prediction], feed_dict={x: epoch_x})\n",
    "                out_loss = custom_loss(output=tf.convert_to_tensor(out_pred[0], dtype=tf.float32), target=epoch_y, batch_feature_data=epoch_x)\n",
    "                sess.run([optimizer.minimize(out_loss)])\n",
    "                print(i_batch)\n",
    "                stop\n",
    "\n",
    "                epoch_loss += out_loss / int(num_orbits/batch_size)\n",
    "\n",
    "            print('Epoch', epoch, 'completed out of',hm_epochs,'loss:',epoch_loss)\n",
    "\n",
    "        #correct = tf.equal(tf.argmax(prediction, 1), tf.argmax(y, 1))\n",
    "\n",
    "        #accuracy = tf.reduce_mean(tf.cast(correct, 'float'))\n",
    "        #print('Accuracy:',accuracy.eval({x:X_test, y:Y_test}))\n",
    "\n",
    "        pred_test = sess.run(prediction, feed_dict={x: X_test[:batch_size]})\n",
    "        print(pred_test)\n",
    "\n",
    "\n",
    "# Make tensorflow dataset\n",
    "dataset = tf.data.Dataset.from_tensor_slices((X_train, Y_train))\n",
    "dataset = dataset.batch(batch_size=batch_size)\n",
    "# Create the iterator\n",
    "#iterator = dataset.make_initializable_iterator()\n",
    "# Get first batch of iterator\n",
    "#next_element = iterator.get_next()\n",
    "\n",
    "# Train network\n",
    "#train_tf_neural_network(X_train, Y_train)\n",
    "train_keras_neural_network(X_train, Y_train)"
   ]
  },
  {
   "cell_type": "code",
   "execution_count": 15,
   "metadata": {
    "colab": {
     "base_uri": "https://localhost:8080/",
     "height": 35
    },
    "colab_type": "code",
    "id": "KH6mv8ANdQrB",
    "outputId": "df5e90a6-b183-4465-eff2-7d8de0a787dd"
   },
   "outputs": [
    {
     "ename": "SyntaxError",
     "evalue": "EOL while scanning string literal (<ipython-input-15-4d4230fe72b6>, line 1)",
     "output_type": "error",
     "traceback": [
      "\u001b[0;36m  File \u001b[0;32m\"<ipython-input-15-4d4230fe72b6>\"\u001b[0;36m, line \u001b[0;32m1\u001b[0m\n\u001b[0;31m    \"print(X_train.shape)\u001b[0m\n\u001b[0m                         ^\u001b[0m\n\u001b[0;31mSyntaxError\u001b[0m\u001b[0;31m:\u001b[0m EOL while scanning string literal\n"
     ]
    }
   ],
   "source": [
    "\"print(X_train.shape)\n"
   ]
  },
  {
   "cell_type": "markdown",
   "metadata": {
    "colab_type": "text",
    "id": "opdnwSZqoKm-"
   },
   "source": [
    "Need to fix loss function, such that it is differentiable. This can be done by \n",
    "scaling the loss calculated for each customer by the predicted probability \n",
    "associated with each customer. We would try to maximize the cost function associated with those who had keys distributed to them, rather than minimize the cost function associated with those who did not get keys distributed to them. See picture on your phone for more details.\n"
   ]
  },
  {
   "cell_type": "markdown",
   "metadata": {
    "colab_type": "text",
    "id": "efk69hR3IHXv"
   },
   "source": [
    "### Run network over entire training set"
   ]
  },
  {
   "cell_type": "code",
   "execution_count": 0,
   "metadata": {
    "colab": {
     "base_uri": "https://localhost:8080/",
     "height": 717
    },
    "colab_type": "code",
    "id": "5VIwpRiYIHXz",
    "outputId": "dd196534-1ea5-461b-ba33-84bcd106d885"
   },
   "outputs": [
    {
     "name": "stdout",
     "output_type": "stream",
     "text": [
      "0\n"
     ]
    },
    {
     "name": "stderr",
     "output_type": "stream",
     "text": [
      "/usr/local/lib/python3.6/dist-packages/ipykernel_launcher.py:88: UserWarning: To copy construct from a tensor, it is recommended to use sourceTensor.clone().detach() or sourceTensor.clone().detach().requires_grad_(True), rather than torch.tensor(sourceTensor).\n",
      "/usr/local/lib/python3.6/dist-packages/ipykernel_launcher.py:98: UserWarning: To copy construct from a tensor, it is recommended to use sourceTensor.clone().detach() or sourceTensor.clone().detach().requires_grad_(True), rather than torch.tensor(sourceTensor).\n"
     ]
    },
    {
     "name": "stdout",
     "output_type": "stream",
     "text": [
      "loss: 89.984\n",
      "1\n",
      "loss: 90.088\n",
      "2\n",
      "loss: 89.988\n",
      "3\n",
      "loss: 89.962\n",
      "4\n",
      "loss: 89.871\n",
      "5\n",
      "loss: 89.714\n",
      "6\n",
      "loss: 89.877\n",
      "7\n",
      "loss: 90.353\n",
      "8\n"
     ]
    },
    {
     "ename": "KeyboardInterrupt",
     "evalue": "ignored",
     "output_type": "error",
     "traceback": [
      "\u001b[0;31m---------------------------------------------------------------------------\u001b[0m",
      "\u001b[0;31mKeyboardInterrupt\u001b[0m                         Traceback (most recent call last)",
      "\u001b[0;32m<ipython-input-83-1a956d0e9d78>\u001b[0m in \u001b[0;36m<module>\u001b[0;34m()\u001b[0m\n\u001b[1;32m     15\u001b[0m         \u001b[0moptimizer\u001b[0m\u001b[0;34m.\u001b[0m\u001b[0mzero_grad\u001b[0m\u001b[0;34m(\u001b[0m\u001b[0;34m)\u001b[0m   \u001b[0;31m# zero the gradient buffers\u001b[0m\u001b[0;34m\u001b[0m\u001b[0;34m\u001b[0m\u001b[0m\n\u001b[1;32m     16\u001b[0m         \u001b[0moutput\u001b[0m \u001b[0;34m=\u001b[0m \u001b[0mnet\u001b[0m\u001b[0;34m(\u001b[0m\u001b[0msampled_batch\u001b[0m\u001b[0;34m[\u001b[0m\u001b[0;36m0\u001b[0m\u001b[0;34m]\u001b[0m\u001b[0;34m.\u001b[0m\u001b[0mreshape\u001b[0m\u001b[0;34m(\u001b[0m\u001b[0mbatch_size\u001b[0m\u001b[0;34m,\u001b[0m\u001b[0;36m3\u001b[0m\u001b[0;34m,\u001b[0m\u001b[0;36m1\u001b[0m\u001b[0;34m,\u001b[0m\u001b[0mnum_customers\u001b[0m\u001b[0;34m)\u001b[0m\u001b[0;34m.\u001b[0m\u001b[0mto\u001b[0m\u001b[0;34m(\u001b[0m\u001b[0mdevice\u001b[0m\u001b[0;34m)\u001b[0m\u001b[0;34m)\u001b[0m\u001b[0;34m\u001b[0m\u001b[0;34m\u001b[0m\u001b[0m\n\u001b[0;32m---> 17\u001b[0;31m         \u001b[0mloss\u001b[0m \u001b[0;34m=\u001b[0m \u001b[0mcustom_loss\u001b[0m\u001b[0;34m(\u001b[0m\u001b[0moutput\u001b[0m\u001b[0;34m.\u001b[0m\u001b[0mto\u001b[0m\u001b[0;34m(\u001b[0m\u001b[0mdevice\u001b[0m\u001b[0;34m)\u001b[0m\u001b[0;34m,\u001b[0m \u001b[0mtorch\u001b[0m\u001b[0;34m.\u001b[0m\u001b[0mtensor\u001b[0m\u001b[0;34m(\u001b[0m\u001b[0mY_train\u001b[0m\u001b[0;34m[\u001b[0m\u001b[0mi_batch\u001b[0m\u001b[0;34m:\u001b[0m\u001b[0mi_batch\u001b[0m\u001b[0;34m+\u001b[0m\u001b[0mbatch_size\u001b[0m\u001b[0;34m]\u001b[0m\u001b[0;34m.\u001b[0m\u001b[0mreshape\u001b[0m\u001b[0;34m(\u001b[0m\u001b[0mbatch_size\u001b[0m\u001b[0;34m,\u001b[0m\u001b[0mnum_customers\u001b[0m\u001b[0;34m)\u001b[0m\u001b[0;34m)\u001b[0m\u001b[0;34m.\u001b[0m\u001b[0mto\u001b[0m\u001b[0;34m(\u001b[0m\u001b[0mdevice\u001b[0m\u001b[0;34m)\u001b[0m\u001b[0;34m,\u001b[0m \u001b[0msampled_batch\u001b[0m\u001b[0;34m[\u001b[0m\u001b[0;36m0\u001b[0m\u001b[0;34m]\u001b[0m\u001b[0;34m.\u001b[0m\u001b[0mto\u001b[0m\u001b[0;34m(\u001b[0m\u001b[0mdevice\u001b[0m\u001b[0;34m)\u001b[0m\u001b[0;34m)\u001b[0m\u001b[0;34m\u001b[0m\u001b[0;34m\u001b[0m\u001b[0m\n\u001b[0m\u001b[1;32m     18\u001b[0m         \u001b[0mloss\u001b[0m\u001b[0;34m.\u001b[0m\u001b[0mbackward\u001b[0m\u001b[0;34m(\u001b[0m\u001b[0;34m)\u001b[0m\u001b[0;34m\u001b[0m\u001b[0;34m\u001b[0m\u001b[0m\n\u001b[1;32m     19\u001b[0m         \u001b[0moptimizer\u001b[0m\u001b[0;34m.\u001b[0m\u001b[0mstep\u001b[0m\u001b[0;34m(\u001b[0m\u001b[0;34m)\u001b[0m    \u001b[0;31m# Does the update to the network\u001b[0m\u001b[0;34m\u001b[0m\u001b[0;34m\u001b[0m\u001b[0m\n",
      "\u001b[0;32m<ipython-input-81-c908bc581949>\u001b[0m in \u001b[0;36mcustom_loss\u001b[0;34m(output, target, batch_feature_data)\u001b[0m\n\u001b[1;32m     89\u001b[0m \u001b[0;34m\u001b[0m\u001b[0m\n\u001b[1;32m     90\u001b[0m     \u001b[0;31m# Get number of keys predicted to be outside of target window\u001b[0m\u001b[0;34m\u001b[0m\u001b[0;34m\u001b[0m\u001b[0;34m\u001b[0m\u001b[0m\n\u001b[0;32m---> 91\u001b[0;31m     \u001b[0mpred_model_score\u001b[0m \u001b[0;34m=\u001b[0m \u001b[0mmy_model\u001b[0m\u001b[0;34m(\u001b[0m\u001b[0moutput\u001b[0m\u001b[0;34m,\u001b[0m \u001b[0mbatch_feature_data\u001b[0m\u001b[0;34m)\u001b[0m\u001b[0;34m\u001b[0m\u001b[0;34m\u001b[0m\u001b[0m\n\u001b[0m\u001b[1;32m     92\u001b[0m \u001b[0;34m\u001b[0m\u001b[0m\n\u001b[1;32m     93\u001b[0m     \u001b[0;31m# Normalize score to be between zero and 1\u001b[0m\u001b[0;34m\u001b[0m\u001b[0;34m\u001b[0m\u001b[0;34m\u001b[0m\u001b[0m\n",
      "\u001b[0;32m<ipython-input-81-c908bc581949>\u001b[0m in \u001b[0;36mmy_model\u001b[0;34m(output, batch_feature_data)\u001b[0m\n\u001b[1;32m     44\u001b[0m \u001b[0;34m\u001b[0m\u001b[0m\n\u001b[1;32m     45\u001b[0m               \u001b[0;31m# If the location of a customer lies within the line-of-sight of satellite\u001b[0m\u001b[0;34m\u001b[0m\u001b[0;34m\u001b[0m\u001b[0;34m\u001b[0m\u001b[0m\n\u001b[0;32m---> 46\u001b[0;31m               \u001b[0;32mif\u001b[0m \u001b[0mcustomer\u001b[0m\u001b[0;34m[\u001b[0m\u001b[0;36m0\u001b[0m\u001b[0;34m]\u001b[0m \u001b[0;34m<\u001b[0m \u001b[0;34m(\u001b[0m\u001b[0mdist_cnt\u001b[0m \u001b[0;34m+\u001b[0m \u001b[0mobs_window\u001b[0m\u001b[0;34m)\u001b[0m \u001b[0;32mand\u001b[0m \u001b[0mcustomer\u001b[0m\u001b[0;34m[\u001b[0m\u001b[0;36m0\u001b[0m\u001b[0;34m]\u001b[0m \u001b[0;34m>\u001b[0m \u001b[0;34m(\u001b[0m\u001b[0mdist_cnt\u001b[0m\u001b[0;34m)\u001b[0m \u001b[0;34m:\u001b[0m\u001b[0;34m\u001b[0m\u001b[0;34m\u001b[0m\u001b[0m\n\u001b[0m\u001b[1;32m     47\u001b[0m                 \u001b[0;31m# Check if customer has already been accessed\u001b[0m\u001b[0;34m\u001b[0m\u001b[0;34m\u001b[0m\u001b[0;34m\u001b[0m\u001b[0m\n\u001b[1;32m     48\u001b[0m                 \u001b[0;32mtry\u001b[0m\u001b[0;34m:\u001b[0m\u001b[0;34m\u001b[0m\u001b[0;34m\u001b[0m\u001b[0m\n",
      "\u001b[0;31mKeyboardInterrupt\u001b[0m: "
     ]
    }
   ],
   "source": [
    "running_loss = 0.0\n",
    "train_split = num_orbits\n",
    "\n",
    "dset_train = TensorDataset(torch.tensor(X_train), torch.tensor(Y_train))\n",
    "dataloader = DataLoader(dset_train, batch_size=batch_size,\n",
    "                        shuffle=False)\n",
    "\n",
    "# Iterate over entire training set\n",
    "for epoch_num in range(number_epochs):\n",
    "    for i_batch, sampled_batch in enumerate(dataloader):\n",
    "        print(i_batch)\n",
    "        # in your training loop:\n",
    "        if (train_split - (batch_size * i_batch)) < batch_size:\n",
    "            break\n",
    "        optimizer.zero_grad()   # zero the gradient buffers\n",
    "        output = net(sampled_batch[0].reshape(batch_size,3,1,num_customers).to(device))\n",
    "        loss = custom_loss(output.to(device), torch.tensor(Y_train[i_batch:i_batch+batch_size].reshape(batch_size,num_customers)).to(device), sampled_batch[0].to(device))\n",
    "        loss.backward()\n",
    "        optimizer.step()    # Does the update to the network\n",
    "        #print('Finished a batch')\n",
    "        print('loss: %.3f' %\n",
    "          (loss.item()))    \n",
    "        \n",
    "    \n",
    "    \n",
    "    print('Training epoch %d/%d' % (epoch_num+1,number_epochs))\n",
    "    # print statistics\n",
    "    print('loss: %.3f' %\n",
    "          (loss.item()))"
   ]
  },
  {
   "cell_type": "markdown",
   "metadata": {
    "colab_type": "text",
    "id": "i5qiS77R8rHV"
   },
   "source": [
    "### Plot Results"
   ]
  },
  {
   "cell_type": "code",
   "execution_count": 0,
   "metadata": {
    "colab": {},
    "colab_type": "code",
    "collapsed": true,
    "id": "rcvZhRuLBt4p"
   },
   "outputs": [],
   "source": [
    "with torch.no_grad():\n",
    "\n",
    "    # Get test predictions from trained neural network\n",
    "    test_preds = net(torch.tensor(customer_test_arr[:,:,1:4].reshape(num_test_orbits,3,1,num_customers)))"
   ]
  },
  {
   "cell_type": "code",
   "execution_count": 0,
   "metadata": {
    "colab": {
     "base_uri": "https://localhost:8080/",
     "height": 316
    },
    "colab_type": "code",
    "id": "9XFrZIumCtXq",
    "outputId": "787a95d3-921f-41d5-d9cc-c9f82b575cb0"
   },
   "outputs": [
    {
     "ename": "AttributeError",
     "evalue": "ignored",
     "output_type": "error",
     "traceback": [
      "\u001b[0;31m---------------------------------------------------------------------------\u001b[0m",
      "\u001b[0;31mAttributeError\u001b[0m                            Traceback (most recent call last)",
      "\u001b[0;32m<ipython-input-90-93e13ce12289>\u001b[0m in \u001b[0;36m<module>\u001b[0;34m()\u001b[0m\n\u001b[1;32m     27\u001b[0m                 Line2D([0], [0], color=\"k\", lw=4)], ['max-gradient', 'mean-gradient', 'zero-gradient'])\n\u001b[1;32m     28\u001b[0m \u001b[0;34m\u001b[0m\u001b[0m\n\u001b[0;32m---> 29\u001b[0;31m \u001b[0mplot_grad_flow\u001b[0m\u001b[0;34m(\u001b[0m\u001b[0mnet\u001b[0m\u001b[0;34m.\u001b[0m\u001b[0mnamed_parameters\u001b[0m\u001b[0;34m(\u001b[0m\u001b[0;34m)\u001b[0m\u001b[0;34m)\u001b[0m\u001b[0;34m\u001b[0m\u001b[0;34m\u001b[0m\u001b[0m\n\u001b[0m",
      "\u001b[0;32m<ipython-input-90-93e13ce12289>\u001b[0m in \u001b[0;36mplot_grad_flow\u001b[0;34m(named_parameters)\u001b[0m\n\u001b[1;32m     11\u001b[0m         \u001b[0;32mif\u001b[0m\u001b[0;34m(\u001b[0m\u001b[0mp\u001b[0m\u001b[0;34m.\u001b[0m\u001b[0mrequires_grad\u001b[0m\u001b[0;34m)\u001b[0m \u001b[0;32mand\u001b[0m \u001b[0;34m(\u001b[0m\u001b[0;34m\"bias\"\u001b[0m \u001b[0;32mnot\u001b[0m \u001b[0;32min\u001b[0m \u001b[0mn\u001b[0m\u001b[0;34m)\u001b[0m\u001b[0;34m:\u001b[0m\u001b[0;34m\u001b[0m\u001b[0;34m\u001b[0m\u001b[0m\n\u001b[1;32m     12\u001b[0m             \u001b[0mlayers\u001b[0m\u001b[0;34m.\u001b[0m\u001b[0mappend\u001b[0m\u001b[0;34m(\u001b[0m\u001b[0mn\u001b[0m\u001b[0;34m)\u001b[0m\u001b[0;34m\u001b[0m\u001b[0;34m\u001b[0m\u001b[0m\n\u001b[0;32m---> 13\u001b[0;31m             \u001b[0mave_grads\u001b[0m\u001b[0;34m.\u001b[0m\u001b[0mappend\u001b[0m\u001b[0;34m(\u001b[0m\u001b[0mp\u001b[0m\u001b[0;34m.\u001b[0m\u001b[0mgrad\u001b[0m\u001b[0;34m.\u001b[0m\u001b[0mabs\u001b[0m\u001b[0;34m(\u001b[0m\u001b[0;34m)\u001b[0m\u001b[0;34m.\u001b[0m\u001b[0mmean\u001b[0m\u001b[0;34m(\u001b[0m\u001b[0;34m)\u001b[0m\u001b[0;34m)\u001b[0m\u001b[0;34m\u001b[0m\u001b[0;34m\u001b[0m\u001b[0m\n\u001b[0m\u001b[1;32m     14\u001b[0m             \u001b[0mmax_grads\u001b[0m\u001b[0;34m.\u001b[0m\u001b[0mappend\u001b[0m\u001b[0;34m(\u001b[0m\u001b[0mp\u001b[0m\u001b[0;34m.\u001b[0m\u001b[0mgrad\u001b[0m\u001b[0;34m.\u001b[0m\u001b[0mabs\u001b[0m\u001b[0;34m(\u001b[0m\u001b[0;34m)\u001b[0m\u001b[0;34m.\u001b[0m\u001b[0mmax\u001b[0m\u001b[0;34m(\u001b[0m\u001b[0;34m)\u001b[0m\u001b[0;34m)\u001b[0m\u001b[0;34m\u001b[0m\u001b[0;34m\u001b[0m\u001b[0m\n\u001b[1;32m     15\u001b[0m     \u001b[0mplt\u001b[0m\u001b[0;34m.\u001b[0m\u001b[0mbar\u001b[0m\u001b[0;34m(\u001b[0m\u001b[0mnp\u001b[0m\u001b[0;34m.\u001b[0m\u001b[0marange\u001b[0m\u001b[0;34m(\u001b[0m\u001b[0mlen\u001b[0m\u001b[0;34m(\u001b[0m\u001b[0mmax_grads\u001b[0m\u001b[0;34m)\u001b[0m\u001b[0;34m)\u001b[0m\u001b[0;34m,\u001b[0m \u001b[0mmax_grads\u001b[0m\u001b[0;34m,\u001b[0m \u001b[0malpha\u001b[0m\u001b[0;34m=\u001b[0m\u001b[0;36m0.1\u001b[0m\u001b[0;34m,\u001b[0m \u001b[0mlw\u001b[0m\u001b[0;34m=\u001b[0m\u001b[0;36m1\u001b[0m\u001b[0;34m,\u001b[0m \u001b[0mcolor\u001b[0m\u001b[0;34m=\u001b[0m\u001b[0;34m\"c\"\u001b[0m\u001b[0;34m)\u001b[0m\u001b[0;34m\u001b[0m\u001b[0;34m\u001b[0m\u001b[0m\n",
      "\u001b[0;31mAttributeError\u001b[0m: 'NoneType' object has no attribute 'abs'"
     ]
    }
   ],
   "source": [
    "def plot_grad_flow(named_parameters):\n",
    "    '''Plots the gradients flowing through different layers in the net during training.\n",
    "    Can be used for checking for possible gradient vanishing / exploding problems.\n",
    "    \n",
    "    Usage: Plug this function in Trainer class after loss.backwards() as \n",
    "    \"plot_grad_flow(self.model.named_parameters())\" to visualize the gradient flow'''\n",
    "    ave_grads = []\n",
    "    max_grads= []\n",
    "    layers = []\n",
    "    for n, p in named_parameters:\n",
    "        if(p.requires_grad) and (\"bias\" not in n):\n",
    "            layers.append(n)\n",
    "            ave_grads.append(p.grad.abs().mean())\n",
    "            max_grads.append(p.grad.abs().max())\n",
    "    plt.bar(np.arange(len(max_grads)), max_grads, alpha=0.1, lw=1, color=\"c\")\n",
    "    plt.bar(np.arange(len(max_grads)), ave_grads, alpha=0.1, lw=1, color=\"b\")\n",
    "    plt.hlines(0, 0, len(ave_grads)+1, lw=2, color=\"k\" )\n",
    "    plt.xticks(range(0,len(ave_grads), 1), layers, rotation=\"vertical\")\n",
    "    plt.xlim(left=0, right=len(ave_grads))\n",
    "    plt.ylim(bottom = -0.001, top=0.02) # zoom in on the lower gradient regions\n",
    "    plt.xlabel(\"Layers\")\n",
    "    plt.ylabel(\"average gradient\")\n",
    "    plt.title(\"Gradient flow\")\n",
    "    plt.grid(True)\n",
    "    plt.legend([Line2D([0], [0], color=\"c\", lw=4),\n",
    "                Line2D([0], [0], color=\"b\", lw=4),\n",
    "                Line2D([0], [0], color=\"k\", lw=4)], ['max-gradient', 'mean-gradient', 'zero-gradient'])\n",
    "\n",
    "plot_grad_flow(net.named_parameters())"
   ]
  },
  {
   "cell_type": "code",
   "execution_count": 0,
   "metadata": {
    "colab": {
     "base_uri": "https://localhost:8080/",
     "height": 279
    },
    "colab_type": "code",
    "id": "q8lZVHpOIHX2",
    "outputId": "46cd44d8-5be5-4a16-ad21-6a1fbe6361a4"
   },
   "outputs": [
    {
     "data": {
      "image/png": "[encoded data removed]",
      "text/plain": [
       "<Figure size 432x288 with 1 Axes>"
      ]
     },
     "metadata": {
      "tags": []
     },
     "output_type": "display_data"
    }
   ],
   "source": [
    "# Make scatter plot of priority as a function of key dist probability\n",
    "plt.scatter(test_preds[0,:].detach().numpy(),customer_test_arr[0,:,2])\n",
    "plt.xlabel('Predicted probability of key being distributed')\n",
    "plt.ylabel('Base priority level of customer')\n",
    "plt.show()"
   ]
  },
  {
   "cell_type": "code",
   "execution_count": 0,
   "metadata": {
    "colab": {},
    "colab_type": "code",
    "collapsed": true,
    "id": "8o2ZfoD-DYxt"
   },
   "outputs": [],
   "source": [
    "plt.close()"
   ]
  },
  {
   "cell_type": "code",
   "execution_count": 0,
   "metadata": {
    "colab": {},
    "colab_type": "code",
    "collapsed": true,
    "id": "lwgBB0NMd5TQ"
   },
   "outputs": [],
   "source": []
  }
 ],
 "metadata": {
  "accelerator": "GPU",
  "colab": {
   "name": "main.ipynb",
   "provenance": []
  },
  "kernelspec": {
   "display_name": "Python 3",
   "language": "python",
   "name": "python3"
  },
  "language_info": {
   "codemirror_mode": {
    "name": "ipython",
    "version": 3
   },
   "file_extension": ".py",
   "mimetype": "text/x-python",
   "name": "python",
   "nbconvert_exporter": "python",
   "pygments_lexer": "ipython3",
   "version": "3.6.9"
  }
 },
 "nbformat": 4,
 "nbformat_minor": 1
}
