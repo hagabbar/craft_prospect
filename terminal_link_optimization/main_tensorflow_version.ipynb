{
  "nbformat": 4,
  "nbformat_minor": 0,
  "metadata": {
    "accelerator": "GPU",
    "colab": {
      "name": "main.ipynb",
      "provenance": []
    },
    "kernelspec": {
      "display_name": "Python 3",
      "language": "python",
      "name": "python3"
    },
    "language_info": {
      "codemirror_mode": {
        "name": "ipython",
        "version": 3
      },
      "file_extension": ".py",
      "mimetype": "text/x-python",
      "name": "python",
      "nbconvert_exporter": "python",
      "pygments_lexer": "ipython3",
      "version": "3.6.9"
    }
  },
  "cells": [
    {
      "cell_type": "markdown",
      "metadata": {
        "colab_type": "text",
        "id": "av9AyAigIHXG"
      },
      "source": [
        "# Terminal Link Optimization\n",
        "\n",
        "This is the main ipython script for the terminal link optimization algorithm.\n",
        "I will update the documentation accordingly once the project has progressed further."
      ]
    },
    {
      "cell_type": "markdown",
      "metadata": {
        "colab_type": "text",
        "id": "jUjABdnxIHXM"
      },
      "source": [
        "## Import packages"
      ]
    },
    {
      "cell_type": "code",
      "metadata": {
        "colab_type": "code",
        "id": "rmpV99xvIHXP",
        "outputId": "d4e9849c-9c70-405c-ae70-602b32db230d",
        "colab": {
          "base_uri": "https://localhost:8080/",
          "height": 212
        }
      },
      "source": [
        "import tensorflow as tf\n",
        "tf.enable_eager_execution()\n",
        "tfe = tf.contrib.eager\n",
        "\n",
        "from __future__ import absolute_import, division, print_function, unicode_literals\n",
        "\n",
        "import numpy as np\n",
        "import matplotlib.pyplot as plt\n",
        "\n",
        "\n",
        "from tensorflow.keras import datasets, layers, models"
      ],
      "execution_count": 1,
      "outputs": [
        {
          "output_type": "display_data",
          "data": {
            "text/html": [
              "<p style=\"color: red;\">\n",
              "The default version of TensorFlow in Colab will soon switch to TensorFlow 2.x.<br>\n",
              "We recommend you <a href=\"https://www.tensorflow.org/guide/migrate\" target=\"_blank\">upgrade</a> now \n",
              "or ensure your notebook will continue to use TensorFlow 1.x via the <code>%tensorflow_version 1.x</code> magic:\n",
              "<a href=\"https://colab.research.google.com/notebooks/tensorflow_version.ipynb\" target=\"_blank\">more info</a>.</p>\n"
            ],
            "text/plain": [
              "<IPython.core.display.HTML object>"
            ]
          },
          "metadata": {
            "tags": []
          }
        },
        {
          "output_type": "stream",
          "text": [
            "WARNING:tensorflow:\n",
            "The TensorFlow contrib module will not be included in TensorFlow 2.0.\n",
            "For more information, please see:\n",
            "  * https://github.com/tensorflow/community/blob/master/rfcs/20180907-contrib-sunset.md\n",
            "  * https://github.com/tensorflow/addons\n",
            "  * https://github.com/tensorflow/io (for I/O related ops)\n",
            "If you depend on functionality not listed there, please file an issue.\n",
            "\n"
          ],
          "name": "stdout"
        }
      ]
    },
    {
      "cell_type": "markdown",
      "metadata": {
        "colab_type": "text",
        "id": "NunbIazmIHXW"
      },
      "source": [
        "## Make simulation of satellite and customers\n",
        "\n",
        "Lets first start by simulating customers on the ground. This will essentially \n",
        "end up being a straight line with dots (representing customers) being randomly \n",
        "distributed along the line. The line will be spaced according to some \n",
        "arbitrary time metric. Each customer will have (for now) 4 attributes which \n",
        "describe the \"importantness\" of each customer."
      ]
    },
    {
      "cell_type": "code",
      "metadata": {
        "colab_type": "code",
        "id": "TuYKIBsZIHXY",
        "colab": {}
      },
      "source": [
        "\"\"\"\n",
        "Lets make an array containing the physical location of some simulated customers.\n",
        "The array will have the shape (N_time_segments,length_of_time_segment)\n",
        "\n",
        "customer data array `customer_arr` will be of shape (number of training orbits, number of customers \n",
        "in orbit, number of features describing priority of customers)\n",
        "\"\"\"\n",
        "\n",
        "# training set hyperparameters\n",
        "num_customers = 100 # total number of customers on planet\n",
        "num_orbits = 10000  # total number of training samples (in this case orbits)\n",
        "max_dist = 1000    # maximum distance allowed for customers\n",
        "dist_step = 2000     # distance traveled per step by satellite\n",
        "obs_window = 2000    # total size of observation window of satellite in units of distance\n",
        "customer_arr = np.zeros((num_orbits,num_customers,5)) # Define emtpy array to contain customer data\n",
        "\n",
        "# neural network hyperparameters\n",
        "batch_size = 64\n",
        "\n",
        "# Make training set\n",
        "for i in range(num_orbits):\n",
        "    # Make customer index labels\n",
        "    customer_arr[i,:,0] = np.arange(start=0,stop=num_customers,step=1)\n",
        "\n",
        "    # Define random locations of customers on a line defining the planet\n",
        "    customer_arr[i,:,1] = np.random.randint(low=0,high=max_dist,size=(num_customers))\n",
        "\n",
        "    # Assign a random customer important factor. 0 == low importance, 1 == high importance\n",
        "    customer_arr[i,:,2] = np.random.uniform(low=0.0,high=1.0,size=(num_customers))\n",
        "\n",
        "    # Assign a random customer weather factor. 0 == high cloud coverage, 1 == low cloud coverage\n",
        "    customer_arr[i,:,3] = np.random.uniform(low=0.0,high=1.0,size=(num_customers))\n",
        "\n",
        "# Testing set hyperparameters\n",
        "num_test_orbits = 100 # number of test samples to use\n",
        "customer_test_arr = np.zeros((num_test_orbits,num_customers,5))\n",
        "\n",
        "# Make test set\n",
        "for i in range(num_test_orbits):\n",
        "    # Make customer index labels\n",
        "    customer_test_arr[i,:,0] = np.arange(start=0,stop=num_customers,step=1)\n",
        "\n",
        "    # Define random locations of customers on a line defining the planet\n",
        "    customer_test_arr[i,:,1] = np.random.randint(low=0,high=max_dist,size=(num_customers))\n",
        "\n",
        "    # Assign a random customer important factor. 0 == low importance, 1 == high importance\n",
        "    customer_test_arr[i,:,2] = np.random.uniform(low=0.0,high=1.0,size=(num_customers))\n",
        "\n",
        "    # Assign a random customer weather factor. 0 == high cloud coverage, 1 == low cloud coverage\n",
        "    customer_test_arr[i,:,3] = np.random.uniform(low=0.0,high=1.0,size=(num_customers))"
      ],
      "execution_count": 0,
      "outputs": []
    },
    {
      "cell_type": "code",
      "metadata": {
        "colab_type": "code",
        "id": "e_58XuoNpT3u",
        "colab": {}
      },
      "source": [
        "# training features: location, importance, weather\n",
        "X_train = customer_arr[:,:,1:4]\n",
        "X_train = X_train.reshape(X_train.shape[0],X_train.shape[1],X_train.shape[2],1)\n",
        "X_test = customer_test_arr[:,:,1:4].reshape(num_test_orbits,num_customers,3,1)\n",
        "Y_train = np.ones((num_orbits,num_customers))\n",
        "Y_test = np.ones((num_test_orbits,num_customers))"
      ],
      "execution_count": 0,
      "outputs": []
    },
    {
      "cell_type": "markdown",
      "metadata": {
        "colab_type": "text",
        "id": "LeqCYfHIIHXc"
      },
      "source": [
        "## Choose optimal order in which to distribute keys (simple approach)\n",
        "\n",
        "This is an incredibly simple algorithm which only takes into account \n",
        "the importantness and weather factors for each customer. It does not \n",
        "take into account the total time customers have been waiting for \n",
        "a key to be distributed to them."
      ]
    },
    {
      "cell_type": "code",
      "metadata": {
        "colab_type": "code",
        "id": "hHoQra2aIHXe",
        "colab": {}
      },
      "source": [
        "# Loop over all available customers within line-of-sight (this is by default set to num_customers)\n",
        "# This is an example using only one training orbit.\n",
        "for i in range(num_customers):\n",
        "    customer_arr[0,i,4] = customer_arr[0,i,2] * customer_arr[0,i,3]\n",
        "\n",
        "customer_prob_list_idx = np.argsort(customer_arr[0,:,4])\n",
        "customer_prob_list = customer_arr[0,customer_prob_list_idx,0]"
      ],
      "execution_count": 0,
      "outputs": []
    },
    {
      "cell_type": "code",
      "metadata": {
        "colab_type": "code",
        "id": "YHVHRhx-IHXi",
        "outputId": "e2c2d518-ed04-413a-f053-bd027b8fbdf1",
        "colab": {
          "base_uri": "https://localhost:8080/",
          "height": 280
        }
      },
      "source": [
        "# Plot importantness as a function of predicted key probability\n",
        "plt.plot(customer_arr[0,customer_prob_list_idx,2], marker='.')\n",
        "plt.xlabel('Predicted probability of key distribution low to high')\n",
        "plt.ylabel('Importantness of customer from low to high')\n",
        "plt.show()"
      ],
      "execution_count": 5,
      "outputs": [
        {
          "output_type": "display_data",
          "data": {
            "image/png": "[encoded data removed]",
            "text/plain": [
              "<Figure size 432x288 with 1 Axes>"
            ]
          },
          "metadata": {
            "tags": []
          }
        }
      ]
    },
    {
      "cell_type": "code",
      "metadata": {
        "colab_type": "code",
        "id": "EEkO8TvlsfgZ",
        "outputId": "02249cb8-9d23-49fc-e13d-ceb82e44572c",
        "colab": {
          "base_uri": "https://localhost:8080/",
          "height": 325
        }
      },
      "source": [
        "# Plot weather as a function of predicted key probability\n",
        "plt.close()\n",
        "plt.plot(customer_arr[0,customer_prob_list_idx,3], marker='.')\n",
        "plt.xlabel('Predicted probability of key distribution low to high')\n",
        "plt.ylabel('weather around customer from high cloud coverage to low')\n",
        "plt.show()"
      ],
      "execution_count": 6,
      "outputs": [
        {
          "output_type": "display_data",
          "data": {
            "image/png": "[encoded data removed]",
            "text/plain": [
              "<Figure size 432x288 with 1 Axes>"
            ]
          },
          "metadata": {
            "tags": []
          }
        }
      ]
    },
    {
      "cell_type": "markdown",
      "metadata": {
        "colab_type": "text",
        "id": "6pgpxmkGIHXn"
      },
      "source": [
        "## Neural Network Approach (complicated approach)\n",
        "\n",
        "I've written some pseudo code down on a piece of paper. Not guranteeing that \n",
        "this will actually work in practice, but I will make my first attempt of this here. \n",
        "\n",
        "Need to eventually take into account the fact that we will see the customer \n",
        "multiple times over several days. Will also need to account for a decrease \n",
        "in priority for those customers at much greater distances, since it takes \n",
        "longer to distribute keys as the distance between satellite and ground terminal \n",
        "increases."
      ]
    },
    {
      "cell_type": "markdown",
      "metadata": {
        "colab_type": "text",
        "id": "xXOblSrwIHXo"
      },
      "source": [
        "### Define TensorFlow network archetecture"
      ]
    },
    {
      "cell_type": "code",
      "metadata": {
        "colab_type": "code",
        "id": "462PZnjkIHXs",
        "colab": {}
      },
      "source": [
        "def custom_loss(output=None, target=None, batch_feature_data=None, tape=None, model=None):\n",
        "    \"\"\" This is a custom loss function which \n",
        "    takes as input the raw output from the neural \n",
        "    network and returns a loss which attempts to \n",
        "    minimize the number of keys not distributed \n",
        "    within the alloted amount of time.\n",
        "    \"\"\"\n",
        "    \n",
        "    def my_model(output, batch_feature_data):\n",
        "        \"\"\" This is a model which will iterate \n",
        "        over the predicted ordering of keys to be \n",
        "        distributed. There will be a penalty \n",
        "        associated with any keys which are predicted to \n",
        "        be distributed outside of the obersvation window.\n",
        "        \"\"\"\n",
        "\n",
        "        # Assume 5 seconds to distribute key to customer downstream\n",
        "        # Array to store the calculated number of keys lying outside of time alloted\n",
        "#        new_output = tf.zeros((batch_feature_data.shape[0],num_customers))\n",
        "#        new_output = np.zeros((batch_feature_data.shape[0],num_customers))\n",
        "\n",
        "        # Make sure to delete the dummy tensor from previous runs\n",
        "        try:\n",
        "          batch_dummy_tensor\n",
        "          del batch_dummy_tensor\n",
        "        except NameError:\n",
        "          None\n",
        "\n",
        "        # Iterate over all samples in batch \n",
        "        for i in range(batch_size):\n",
        "\n",
        "#          print('Starting operations on sample %d' % i)\n",
        "          # Get predicted output for current sample in batch\n",
        "\n",
        "          tmp_output = output[i,:]\n",
        "\n",
        "          dist_cnt = 0\n",
        "          customers_accessed = []     # list to store customers who have already had a key distributed to them\n",
        "\n",
        "          # Make sure to delete the dummy tensors from previous batch samples\n",
        "          try: \n",
        "            train_samp_dummy_tensor\n",
        "            del train_samp_dummy_tensor\n",
        "          except NameError:\n",
        "            None\n",
        "\n",
        "          # Simulate satellite traveling until maximum distance reached (defined as 1 orbit around Earth)\n",
        "          while dist_cnt <= max_dist:       \n",
        "\n",
        "            customers_in_cur_wind_prob = []\n",
        "            customers_in_cur_wind_idx = []\n",
        "            customers_in_cur_wind_feat = []\n",
        "            \n",
        "            # Iterate over all customers around the globe\n",
        "            for customer_idx,customer in enumerate(batch_feature_data[i,:,:].numpy()):\n",
        " \n",
        "              # If the location of a customer lies within the line-of-sight of satellite \n",
        "              if customer[0] < (dist_cnt + obs_window) and customer[0] > (dist_cnt) :\n",
        "                # Check if customer has already had a key distributed to them\n",
        "                try:\n",
        "                    customers_accessed.index(customer_idx)\n",
        "                except ValueError:\n",
        "                    None\n",
        "                else:\n",
        "                    continue\n",
        "\n",
        "                # Append predicted probability of key being distributed\n",
        "                customers_in_cur_wind_prob.append(tmp_output[customer_idx])\n",
        "\n",
        "                # Append the index of the customer\n",
        "                customers_in_cur_wind_idx.append(customer_idx)\n",
        "\n",
        "                # Append loss value of customer\n",
        "                customers_in_cur_wind_feat.append(customer[1]*customer[2])            \n",
        "\n",
        "            # If there are no customers within the current line-of-sight, add some small distance traveled to satellite\n",
        "            if not customers_in_cur_wind_prob:\n",
        "              dist_cnt+=dist_step\n",
        "              continue\n",
        "            \n",
        "            customers_in_cur_wind_idx = customers_in_cur_wind_idx\n",
        "            # Of all customers within line-of-sight, choose one with max probability\n",
        "            max_cust = tf.gather(customers_in_cur_wind_idx, tf.argmax(tf.gather(tmp_output,customers_in_cur_wind_idx)))\n",
        "#            max_cust = customers_in_cur_wind_idx.get_item(tf.math.argmax(tmp_output[customers_in_cur_wind_idx]))\n",
        "            # Add customer to list of keys already delivered\n",
        "            customers_accessed.append(max_cust.numpy())\n",
        "\n",
        "            # Add to batch sample loss max prob customer weather and importantness scaled by predicted probability of key distribution\n",
        "#            new_output = tf.concat(new_output, (tmp_output[max_cust]**1 * \n",
        "#                                                          batch_feature_data[i,max_cust,1]**1 *\n",
        "#                                                          batch_feature_data[i,max_cust,2]**1))\n",
        "            max_cust = max_cust.numpy()\n",
        "#            print(gr_tape.gradient(tmp_output[max_cust],output))\n",
        "            \"\"\"\n",
        "            # TODO: Need to figure out a way to not use .eval() here!! Otherwise \n",
        "            you loose gradient!! Try using the tensorflow concatenate function. \n",
        "            This should preserve any tensorflow operations performed before \n",
        "            \"\"\"\n",
        "\n",
        "#            new_output[i,max_cust] = tf.add(tf.convert_to_tensor(new_output[i,max_cust], dtype=tf.float32), (tmp_output[max_cust]**1 * \n",
        "#                                                          batch_feature_data[i,max_cust,1]**1 *\n",
        "#                                                          batch_feature_data[i,max_cust,2]**1)).eval()\n",
        "            # check if the training sample customer loop variable exists\n",
        "\n",
        "            #print(tmp_output.shape)\n",
        "            #print(tape.gradient(tf.gather(tmp_output,max_cust), tmp_output))\n",
        "            #stop\n",
        "\n",
        "            try:\n",
        "              train_samp_dummy_tensor\n",
        "            except NameError:\n",
        "              train_samp_dummy_tensor = tf.Variable(tmp_output[max_cust]**1 * \n",
        "                                         tf.Variable(batch_feature_data[i,max_cust,1], dtype=tf.float32)**1 *\n",
        "                                         tf.Variable(batch_feature_data[i,max_cust,2], dtype=tf.float32)**1)\n",
        "              \n",
        "            # if it does exist, add it to existing customer list\n",
        "            else:\n",
        "              train_samp_dummy_tensor = tf.concat([train_samp_dummy_tensor, tf.Variable(tmp_output[max_cust]**1 * \n",
        "                                                          tf.Variable(batch_feature_data[i,max_cust,1], dtype=tf.float32)**1 *\n",
        "                                                          tf.Variable(batch_feature_data[i,max_cust,2], dtype=tf.float32)**1)], axis=0)\n",
        "\n",
        "            # Add a distance traveled by satellite (dist_step)\n",
        "            dist_cnt+=dist_step\n",
        "\n",
        "          \"\"\"\n",
        "          # TODO: Need to somehow organize the outputs such that it is the same order as that which it went in\n",
        "          \"\"\"\n",
        "          # Sort delivered keys from closest to farthest away\n",
        "          train_samp_dummy_tensor = tf.gather(train_samp_dummy_tensor, tf.argsort(customers_accessed))\n",
        "\n",
        "          dummy_idx = 0\n",
        "          # Iterate through keys delivered\n",
        "          for customer_idx,customer in enumerate(batch_feature_data[i,:,:].numpy()):\n",
        "            # Was key delivered?\n",
        "            try:\n",
        "              customers_accessed.index(customer_idx)\n",
        "            # If not delivered, Give penalty of zero\n",
        "            except ValueError:\n",
        "              # Check if the final tensor has been created\n",
        "              try:\n",
        "                train_samp_tensor_final\n",
        "              # If new final tensor hasn't been created, make a new one\n",
        "              except NameError:\n",
        "                # if this is the first customer and the key wasn't delivered, set output to zero\n",
        "                if customer_idx == 0:\n",
        "                  train_samp_tensor_final = tf.expand_dims(tf.gather(tmp_output, customer_idx)*0, axis=0)\n",
        "              # if keys were delivered before this key which wasn't delivered append new result to final tensor\n",
        "              else:\n",
        "                train_samp_tensor_final = tf.concat([train_samp_tensor_final, \n",
        "                                                 tf.expand_dims(tf.gather(tmp_output, customer_idx)*0, axis=0)], axis=0)\n",
        "            # If key was delivered, assign positive reward to final tensor \n",
        "            else:\n",
        "              # Check if the final tensor has been created\n",
        "              try:\n",
        "                train_samp_tensor_final\n",
        "              # If new final tensor hasn't been created, make a new one\n",
        "              except NameError:\n",
        "                if customer_idx == 0:\n",
        "                  # If this is the first customer and the key WAS delivered, set output to precomputed reward from model\n",
        "                  train_samp_tensor_final = tf.expand_dims(train_samp_dummy_tensor[dummy_idx], axis=0)\n",
        "              else:\n",
        "                train_samp_tensor_final = tf.concat([train_samp_tensor_final, \n",
        "                                                 tf.expand_dims(train_samp_dummy_tensor[dummy_idx], axis=0)], axis=0)\n",
        "\n",
        "\n",
        "                dummy_idx+=1\n",
        "\n",
        "          # Add computed loss for current sample to batch loss\n",
        "          try:\n",
        "            batch_dummy_tensor\n",
        "          except NameError:\n",
        "            batch_dummy_tensor = tf.expand_dims(train_samp_tensor_final, axis=0)\n",
        "            del train_samp_tensor_final\n",
        "          else:\n",
        "            batch_dummy_tensor = tf.concat([batch_dummy_tensor, tf.expand_dims(train_samp_tensor_final, axis=0)], axis=0)\n",
        "            del train_samp_tensor_final\n",
        "\n",
        "          #print(len(customers_accessed)) \n",
        "          #print('Found %d cutomers inside required window of operation' % num_inside_dist)\n",
        "    \n",
        "        return batch_dummy_tensor\n",
        "\n",
        "    # record all gradient operations done to predicted output from NN\n",
        "#    with tf.GradientTape(persistent=True) as gr_tape:\n",
        "#        gr_tape.watch(output)\n",
        "\n",
        "    # Get number of keys predicted to be outside of target window\n",
        "    pred_model_score = my_model(output, batch_feature_data)\n",
        "    #print(output.shape, np.array(model.variables).shape)\n",
        "    #print(tape.gradient(pred_model_score,model.variables))\n",
        "    #print(pred_model_score)\n",
        "    #print(tape.gradient(output, model.variables))\n",
        "    #stop\n",
        "\n",
        "        # Normalize score to be between zero and 1\n",
        "    #    pred_model_score = torch.div( pred_model_score, torch.max(pred_model_score))\n",
        "        #print(pred_model_score)\n",
        "\n",
        "        # Compute mean squared loss between predictions and target\n",
        "    #    loss *= 100\n",
        "    return tf.reduce_mean(tf.squared_difference(pred_model_score, tf.Variable(target, dtype=tf.float32)))"
      ],
      "execution_count": 0,
      "outputs": []
    },
    {
      "cell_type": "code",
      "metadata": {
        "colab_type": "code",
        "id": "GRYxGOiyDzz7",
        "colab": {}
      },
      "source": [
        "def grad(model, inputs, targets):\n",
        "  with tf.GradientTape() as tape:\n",
        "    tape.watch(inputs)\n",
        "    output = model(inputs)\n",
        "    loss_value = custom_loss(output=output, target=targets, batch_feature_data=inputs, tape=tape, model=model)\n",
        "  return tape.gradient(loss_value, model.variables)"
      ],
      "execution_count": 0,
      "outputs": []
    },
    {
      "cell_type": "code",
      "metadata": {
        "colab_type": "code",
        "id": "fPpgkEB0IHXp",
        "outputId": "0fca6d5a-f8a1-4e9e-d563-1154fc8e882b",
        "colab": {
          "base_uri": "https://localhost:8080/",
          "height": 1000
        }
      },
      "source": [
        "# This approach uses the TensorFlow neural network library\n",
        "\n",
        "# tf Graph input. We will flatten out input.\n",
        "#x = tf.placeholder(tf.float32, [None, X_train.shape[1], X_train.shape[2],1])\n",
        "#y = tf.placeholder(tf.float32, [None, Y_train.shape[1]])\n",
        "#output_placeholder = tf.placeholder(tf.float32, [None, X_train.shape[1], X_train.shape[2],1])\n",
        "\n",
        "# Simple function to do convolution layer\n",
        "def conv2d(x, W):\n",
        "  return tf.nn.conv2d(x, W, strides=[1, 1, 1, 1], padding='SAME')\n",
        "\n",
        "# Simple function to pooling layer\n",
        "def maxpool2d(x):\n",
        "  return tf.nn.max_pool(x, ksize=[1, 2, 2, 1], strides=[1, 2, 2, 1], padding='SAME')\n",
        "\n",
        "# Define the convolutional model (convolutional neural network)\n",
        "def convolutional_neural_network(x):#, keep_rate):\n",
        "    weights = {\n",
        "        # 5 x 5 convolution, 1 input image, 32 outputs\n",
        "        'W_conv1': tf.Variable(tf.random_normal([3, 1, 1, 32])),\n",
        "        # 5x5 conv, 32 inputs, 64 outputs \n",
        "        'W_conv2': tf.Variable(tf.random_normal([3, 1, 32, 64])),\n",
        "        # fully connected, 7*7*64 inputs, 1024 outputs\n",
        "        'W_fc': tf.Variable(tf.random_normal([(64*num_customers*3), 1024])),\n",
        "        # 1024 inputs, 10 outputs (class prediction)\n",
        "        'out': tf.Variable(tf.random_normal([1024, num_customers]))\n",
        "    }\n",
        "\n",
        "    biases = {\n",
        "        'b_conv1': tf.Variable(tf.random_normal([32])),\n",
        "        'b_conv2': tf.Variable(tf.random_normal([64])),\n",
        "        'b_fc': tf.Variable(tf.random_normal([1024])),\n",
        "        'out': tf.Variable(tf.random_normal([num_customers]))\n",
        "    }\n",
        "\n",
        "    # Reshape input to a 4D tensor \n",
        "    x = tf.reshape(x, shape=[-1, num_customers, 3, 1])\n",
        "    # Convolution Layer, using our function\n",
        "    conv1 = tf.nn.relu(conv2d(x, weights['W_conv1']) + biases['b_conv1'])\n",
        "    # Max Pooling (down-sampling)\n",
        "#    conv1 = maxpool2d(conv1)\n",
        "    # Convolution Layer\n",
        "    conv2 = tf.nn.relu(conv2d(conv1, weights['W_conv2']) + biases['b_conv2'])\n",
        "    # Max Pooling (down-sampling)\n",
        "#    conv2 = maxpool2d(conv2)\n",
        "\n",
        "    # Fully connected layer\n",
        "    # Reshape conv2 output to fit fully connected layer\n",
        "    fc = tf.reshape(conv2, [batch_size, num_customers*64*3])\n",
        "    fc = tf.nn.relu(tf.matmul(fc, weights['W_fc']) + biases['b_fc'])\n",
        "\n",
        "    output = tf.sigmoid(tf.matmul(fc, weights['out']) + biases['out'])\n",
        "    return output\n",
        "\n",
        "def train_keras_neural_network(X_train,Y_train):\n",
        "\n",
        "  # Define the keras CNN model\n",
        "  model = models.Sequential()\n",
        "  model.add(layers.Conv2D(32, kernel_size=(2, 2), strides=(1, 1),\n",
        "                 activation='relu',\n",
        "                 input_shape=(num_customers,3,1)))\n",
        "#  model.add(layers.MaxPooling2D(pool_size=(2, 2), strides=(2, 2)))\n",
        "  model.add(layers.Conv2D(64, (2, 2), activation='relu'))\n",
        "#  model.add(layers.MaxPooling2D(pool_size=(2, 2)))\n",
        "  model.add(layers.Flatten())\n",
        "  model.add(layers.Dense(100, activation='relu'))\n",
        "  model.add(layers.Dense(num_customers, activation='sigmoid'))\n",
        "\n",
        "  print(model.summary())\n",
        "\n",
        "  optimizer = tf.keras.optimizers.SGD(lr=0.01)\n",
        "\n",
        "  hm_epochs = 10\n",
        "\n",
        "  # Iterate over pre-defined number of training epochs\n",
        "  for epoch in range(hm_epochs):\n",
        "    i_batch = 0\n",
        "    \n",
        "    # Start iteration over current epoch in batches\n",
        "    for batch in dataset:\n",
        "      i_batch+=batch_size\n",
        "#      if (num_orbits - (batch_size * i_batch)) < batch_size:\n",
        "#        break\n",
        "        \n",
        "      epoch_x = tf.cast(batch[0], dtype=tf.float32)\n",
        "      epoch_y = tf.cast(batch[1], dtype=tf.float32)\n",
        "\n",
        "      grads = grad(model, epoch_x, epoch_y)\n",
        "\n",
        "      optimizer.apply_gradients(zip(grads, model.variables))\n",
        "\n",
        "      prediction = model(epoch_x)\n",
        "\n",
        "      print(\"Loss at batch {:03d}: {:.3f}\".format(i_batch, custom_loss(output=prediction, target=epoch_y, batch_feature_data=epoch_x)))\n",
        "\n",
        "      model.save('my_trained_model.h5')\n",
        "\n",
        "\n",
        "def train_tf_neural_network(X_train,Y_train):\n",
        "    prediction = convolutional_neural_network(x=x)\n",
        "#    cost = tf.reduce_mean(tf.squared_difference(prediction, y)) # cost is mean squared error\n",
        "    cost = custom_loss(output=y, target=y, batch_feature_data=x)\n",
        "    print(cost)\n",
        "    stop\n",
        "\n",
        "    optimizer = tf.train.AdamOptimizer.minimize(cost)\n",
        "    print('Made it past initilization stage')\n",
        "    stop\n",
        "    \n",
        "    hm_epochs = 10\n",
        "    # setup the variable initialisation\n",
        "    init_op = tf.global_variables_initializer()\n",
        "    # Start TensorFlow training session\n",
        "    with tf.Session() as sess:\n",
        "        sess.run(init_op)\n",
        "        sess.run(iterator.initializer)\n",
        "\n",
        "        # Iterate over pre-defined number of training epochs\n",
        "        for epoch in range(hm_epochs):\n",
        "            epoch_loss = 0\n",
        "            i_batch = 0\n",
        "            # Start iteration over current epoch in batches\n",
        "            for _ in range(int(num_orbits/batch_size)):\n",
        "                i_batch += batch_size\n",
        "                if (num_orbits - (batch_size * i_batch)) < batch_size:\n",
        "                   break\n",
        "                val = sess.run(next_element)\n",
        "                epoch_x, epoch_y = val[0], val[1]\n",
        "                out_pred = sess.run([prediction], feed_dict={x: epoch_x})\n",
        "                out_loss = custom_loss(output=tf.convert_to_tensor(out_pred[0], dtype=tf.float32), target=epoch_y, batch_feature_data=epoch_x)\n",
        "                sess.run([optimizer.minimize(out_loss)])\n",
        "                print(i_batch)\n",
        "                stop\n",
        "\n",
        "                epoch_loss += out_loss / int(num_orbits/batch_size)\n",
        "\n",
        "            print('Epoch', epoch, 'completed out of',hm_epochs,'loss:',epoch_loss)\n",
        "\n",
        "        #correct = tf.equal(tf.argmax(prediction, 1), tf.argmax(y, 1))\n",
        "\n",
        "        #accuracy = tf.reduce_mean(tf.cast(correct, 'float'))\n",
        "        #print('Accuracy:',accuracy.eval({x:X_test, y:Y_test}))\n",
        "\n",
        "        pred_test = sess.run(prediction, feed_dict={x: X_test[:batch_size]})\n",
        "        print(pred_test)\n",
        "\n",
        "\n",
        "# Make tensorflow dataset\n",
        "dataset = tf.data.Dataset.from_tensor_slices((X_train, Y_train))\n",
        "dataset = dataset.batch(batch_size=batch_size)\n",
        "# Create the iterator\n",
        "#iterator = dataset.make_initializable_iterator()\n",
        "# Get first batch of iterator\n",
        "#next_element = iterator.get_next()\n",
        "\n",
        "# Train network\n",
        "#train_tf_neural_network(X_train, Y_train)\n",
        "train_keras_neural_network(X_train, Y_train)"
      ],
      "execution_count": 0,
      "outputs": [
        {
          "output_type": "stream",
          "text": [
            "Model: \"sequential\"\n",
            "_________________________________________________________________\n",
            "Layer (type)                 Output Shape              Param #   \n",
            "=================================================================\n",
            "conv2d (Conv2D)              (None, 99, 2, 32)         160       \n",
            "_________________________________________________________________\n",
            "conv2d_1 (Conv2D)            (None, 98, 1, 64)         8256      \n",
            "_________________________________________________________________\n",
            "flatten (Flatten)            (None, 6272)              0         \n",
            "_________________________________________________________________\n",
            "dense (Dense)                (None, 100)               627300    \n",
            "_________________________________________________________________\n",
            "dense_1 (Dense)              (None, 100)               10100     \n",
            "=================================================================\n",
            "Total params: 645,816\n",
            "Trainable params: 645,816\n",
            "Non-trainable params: 0\n",
            "_________________________________________________________________\n",
            "None\n",
            "WARNING:tensorflow:From /usr/local/lib/python3.6/dist-packages/tensorflow_core/python/ops/array_grad.py:562: _EagerTensorBase.cpu (from tensorflow.python.framework.ops) is deprecated and will be removed in a future version.\n",
            "Instructions for updating:\n",
            "Use tf.identity instead.\n",
            "Loss at batch 064: 0.996\n",
            "Loss at batch 128: 0.996\n",
            "Loss at batch 192: 0.997\n",
            "Loss at batch 256: 0.996\n",
            "Loss at batch 320: 0.996\n",
            "Loss at batch 384: 0.996\n",
            "Loss at batch 448: 0.996\n",
            "Loss at batch 512: 0.996\n",
            "Loss at batch 576: 0.996\n",
            "Loss at batch 640: 0.996\n",
            "Loss at batch 704: 0.996\n",
            "Loss at batch 768: 0.996\n",
            "Loss at batch 832: 0.996\n",
            "Loss at batch 896: 0.996\n",
            "Loss at batch 960: 0.997\n",
            "Loss at batch 1024: 0.996\n",
            "Loss at batch 1088: 0.997\n",
            "Loss at batch 1152: 0.996\n",
            "Loss at batch 1216: 0.996\n",
            "Loss at batch 1280: 0.996\n",
            "Loss at batch 1344: 0.996\n",
            "Loss at batch 1408: 0.995\n",
            "Loss at batch 1472: 0.996\n",
            "Loss at batch 1536: 0.996\n",
            "Loss at batch 1600: 0.996\n",
            "Loss at batch 1664: 0.996\n",
            "Loss at batch 1728: 0.996\n",
            "Loss at batch 1792: 0.996\n",
            "Loss at batch 1856: 0.996\n",
            "Loss at batch 1920: 0.996\n",
            "Loss at batch 1984: 0.996\n",
            "Loss at batch 2048: 0.997\n",
            "Loss at batch 2112: 0.996\n",
            "Loss at batch 2176: 0.996\n",
            "Loss at batch 2240: 0.996\n",
            "Loss at batch 2304: 0.996\n",
            "Loss at batch 2368: 0.996\n",
            "Loss at batch 2432: 0.996\n",
            "Loss at batch 2496: 0.996\n",
            "Loss at batch 2560: 0.996\n",
            "Loss at batch 2624: 0.996\n",
            "Loss at batch 2688: 0.996\n",
            "Loss at batch 2752: 0.996\n",
            "Loss at batch 2816: 0.996\n",
            "Loss at batch 2880: 0.997\n",
            "Loss at batch 2944: 0.996\n",
            "Loss at batch 3008: 0.996\n",
            "Loss at batch 3072: 0.996\n",
            "Loss at batch 3136: 0.996\n",
            "Loss at batch 3200: 0.997\n",
            "Loss at batch 3264: 0.996\n",
            "Loss at batch 3328: 0.996\n",
            "Loss at batch 3392: 0.997\n",
            "Loss at batch 3456: 0.996\n",
            "Loss at batch 3520: 0.997\n",
            "Loss at batch 3584: 0.996\n",
            "Loss at batch 3648: 0.996\n",
            "Loss at batch 3712: 0.996\n",
            "Loss at batch 3776: 0.996\n",
            "Loss at batch 3840: 0.996\n",
            "Loss at batch 3904: 0.996\n",
            "Loss at batch 3968: 0.996\n",
            "Loss at batch 4032: 0.996\n",
            "Loss at batch 4096: 0.997\n",
            "Loss at batch 4160: 0.996\n",
            "Loss at batch 4224: 0.997\n",
            "Loss at batch 4288: 0.996\n",
            "Loss at batch 4352: 0.996\n",
            "Loss at batch 4416: 0.996\n",
            "Loss at batch 4480: 0.996\n",
            "Loss at batch 4544: 0.996\n",
            "Loss at batch 4608: 0.997\n",
            "Loss at batch 4672: 0.996\n",
            "Loss at batch 4736: 0.997\n",
            "Loss at batch 4800: 0.996\n",
            "Loss at batch 4864: 0.996\n",
            "Loss at batch 4928: 0.996\n",
            "Loss at batch 4992: 0.995\n",
            "Loss at batch 5056: 0.997\n",
            "Loss at batch 5120: 0.996\n",
            "Loss at batch 5184: 0.996\n",
            "Loss at batch 5248: 0.996\n",
            "Loss at batch 5312: 0.997\n"
          ],
          "name": "stdout"
        }
      ]
    },
    {
      "cell_type": "code",
      "metadata": {
        "colab_type": "code",
        "id": "KH6mv8ANdQrB",
        "colab": {}
      },
      "source": [
        "\"print(X_train.shape)\n"
      ],
      "execution_count": 0,
      "outputs": []
    },
    {
      "cell_type": "markdown",
      "metadata": {
        "colab_type": "text",
        "id": "opdnwSZqoKm-"
      },
      "source": [
        "Need to fix loss function, such that it is differentiable. This can be done by \n",
        "scaling the loss calculated for each customer by the predicted probability \n",
        "associated with each customer. We would try to maximize the cost function associated with those who had keys distributed to them, rather than minimize the cost function associated with those who did not get keys distributed to them. See picture on your phone for more details.\n"
      ]
    },
    {
      "cell_type": "markdown",
      "metadata": {
        "colab_type": "text",
        "id": "i5qiS77R8rHV"
      },
      "source": [
        "### Plot Results"
      ]
    },
    {
      "cell_type": "code",
      "metadata": {
        "colab_type": "code",
        "id": "8o2ZfoD-DYxt",
        "colab": {
          "base_uri": "https://localhost:8080/",
          "height": 35
        },
        "outputId": "d0e73dc1-71ed-4992-c6fa-ac90fcdb0481"
      },
      "source": [
        "my_trained_model = models.load_model('my_trained_model.h5')"
      ],
      "execution_count": 10,
      "outputs": [
        {
          "output_type": "stream",
          "text": [
            "WARNING:tensorflow:No training configuration found in save file: the model was *not* compiled. Compile it manually.\n"
          ],
          "name": "stdout"
        }
      ]
    },
    {
      "cell_type": "code",
      "metadata": {
        "colab_type": "code",
        "id": "lwgBB0NMd5TQ",
        "colab": {}
      },
      "source": [
        "test_preds = my_trained_model(tf.cast(X_test, dtype=tf.float32))"
      ],
      "execution_count": 0,
      "outputs": []
    },
    {
      "cell_type": "code",
      "metadata": {
        "id": "iKPzN9N1OIgm",
        "colab_type": "code",
        "colab": {
          "base_uri": "https://localhost:8080/",
          "height": 35
        },
        "outputId": "27acc110-25be-4f24-d114-cb0412b974cf"
      },
      "source": [
        "print(X_test.shape, test_preds.shape)"
      ],
      "execution_count": 13,
      "outputs": [
        {
          "output_type": "stream",
          "text": [
            "(100, 100, 3, 1) (100, 100)\n"
          ],
          "name": "stdout"
        }
      ]
    },
    {
      "cell_type": "code",
      "metadata": {
        "id": "MHU-WvReNz8b",
        "colab_type": "code",
        "colab": {
          "base_uri": "https://localhost:8080/",
          "height": 325
        },
        "outputId": "623a5e8b-8c42-4a54-c26d-7d1d7436b30d"
      },
      "source": [
        "# plot weather results\n",
        "plt.close()\n",
        "plt.scatter(test_preds[0,:], X_test[0,:,2,0], marker='.')\n",
        "plt.xlabel('Predicted probability of key distribution low to high')\n",
        "plt.ylabel('weather around customer from high cloud coverage to low')\n",
        "plt.show()"
      ],
      "execution_count": 14,
      "outputs": [
        {
          "output_type": "display_data",
          "data": {
            "image/png": "[encoded data removed]",
            "text/plain": [
              "<Figure size 432x288 with 1 Axes>"
            ]
          },
          "metadata": {
            "tags": []
          }
        }
      ]
    },
    {
      "cell_type": "code",
      "metadata": {
        "id": "Vcsg1BC-OGmq",
        "colab_type": "code",
        "colab": {}
      },
      "source": [
        ""
      ],
      "execution_count": 0,
      "outputs": []
    }
  ]
}