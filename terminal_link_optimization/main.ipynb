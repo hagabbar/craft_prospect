{
  "nbformat": 4,
  "nbformat_minor": 0,
  "metadata": {
    "kernelspec": {
      "display_name": "Python 3",
      "language": "python",
      "name": "python3"
    },
    "language_info": {
      "codemirror_mode": {
        "name": "ipython",
        "version": 3
      },
      "file_extension": ".py",
      "mimetype": "text/x-python",
      "name": "python",
      "nbconvert_exporter": "python",
      "pygments_lexer": "ipython3",
      "version": "3.6.9"
    },
    "colab": {
      "name": "main.ipynb",
      "provenance": []
    }
  },
  "cells": [
    {
      "cell_type": "markdown",
      "metadata": {
        "id": "av9AyAigIHXG",
        "colab_type": "text"
      },
      "source": [
        "# Terminal Link Optimization\n",
        "\n",
        "This is the main ipython script for the terminal link optimization algorithm.\n",
        "I will update the documentation accordingly once the project has progressed further."
      ]
    },
    {
      "cell_type": "markdown",
      "metadata": {
        "id": "jUjABdnxIHXM",
        "colab_type": "text"
      },
      "source": [
        "## Import packages"
      ]
    },
    {
      "cell_type": "code",
      "metadata": {
        "id": "rmpV99xvIHXP",
        "colab_type": "code",
        "colab": {}
      },
      "source": [
        "import numpy as np\n",
        "import matplotlib.pyplot as plt\n",
        "import torch\n",
        "import torch.nn as nn\n",
        "import torch.nn.functional as F\n",
        "import torch.optim as optim\n",
        "from torch.utils.data import DataLoader, TensorDataset\n",
        "device = 'cuda' if torch.cuda.is_available() else 'cpu'"
      ],
      "execution_count": 0,
      "outputs": []
    },
    {
      "cell_type": "markdown",
      "metadata": {
        "id": "NunbIazmIHXW",
        "colab_type": "text"
      },
      "source": [
        "## Make simulation of satellite and customers\n",
        "\n",
        "Lets first start by simulating customers on the ground. This will essentially \n",
        "end up being a straight line with dots (representing customers) being randomly \n",
        "distributed along the line. The line will be spaced according to some \n",
        "arbitrary time metric. Each customer will have (for now) 4 attributes which \n",
        "describe the \"importantness\" of each customer."
      ]
    },
    {
      "cell_type": "code",
      "metadata": {
        "id": "TuYKIBsZIHXY",
        "colab_type": "code",
        "colab": {}
      },
      "source": [
        "\"\"\"\n",
        "Lets make an array containing the physical location of some simulated customers.\n",
        "The array will have the shape (N_time_segments,length_of_time_segment)\n",
        "\n",
        "customer data array `customer_arr` will be of shape (number of training orbits, number of customers \n",
        "in orbit, number of features describing priority of customers)\n",
        "\"\"\"\n",
        "\n",
        "# training set hyperparameters\n",
        "num_customers = 100 # total number of customers on planet\n",
        "num_orbits = 10000  # total number of training samples (in this case orbits)\n",
        "max_dist = 10000    # maximum distance allowed for customers\n",
        "dist_step = 200     # distance traveled per step by satellite\n",
        "obs_window = 200    # total size of observation window of satellite in units of distance\n",
        "customer_arr = np.zeros((num_orbits,num_customers,5)) # Define emtpy array to contain customer data\n",
        "\n",
        "# Make training set\n",
        "for i in range(num_orbits):\n",
        "    # Make customer index labels\n",
        "    customer_arr[i,:,0] = np.arange(start=0,stop=num_customers,step=1)\n",
        "\n",
        "    # Define random locations of customers on a line defining the planet\n",
        "    customer_arr[i,:,1] = np.random.randint(low=0,high=max_dist,size=(num_customers))\n",
        "\n",
        "    # Assign a random customer important factor. 0 == low importance, 1 == high importance\n",
        "    customer_arr[i,:,2] = np.random.uniform(low=0.0,high=1.0,size=(num_customers))\n",
        "\n",
        "    # Assign a random customer weather factor. 0 == high cloud coverage, 1 == low cloud coverage\n",
        "    customer_arr[i,:,3] = np.random.uniform(low=0.0,high=1.0,size=(num_customers))\n",
        "\n",
        "# Testing set hyperparameters\n",
        "num_test_orbits = 100 # number of test samples to use\n",
        "customer_test_arr = np.zeros((num_test_orbits,num_customers,5))\n",
        "\n",
        "# Make test set\n",
        "for i in range(num_test_orbits):\n",
        "    # Make customer index labels\n",
        "    customer_test_arr[i,:,0] = np.arange(start=0,stop=num_customers,step=1)\n",
        "\n",
        "    # Define random locations of customers on a line defining the planet\n",
        "    customer_test_arr[i,:,1] = np.random.randint(low=0,high=max_dist,size=(num_customers))\n",
        "\n",
        "    # Assign a random customer important factor. 0 == low importance, 1 == high importance\n",
        "    customer_test_arr[i,:,2] = np.random.uniform(low=0.0,high=1.0,size=(num_customers))\n",
        "\n",
        "    # Assign a random customer weather factor. 0 == high cloud coverage, 1 == low cloud coverage\n",
        "    customer_test_arr[i,:,3] = np.random.uniform(low=0.0,high=1.0,size=(num_customers))"
      ],
      "execution_count": 0,
      "outputs": []
    },
    {
      "cell_type": "markdown",
      "metadata": {
        "id": "LeqCYfHIIHXc",
        "colab_type": "text"
      },
      "source": [
        "## Choose optimal order in which to distribute keys (simple approach)\n",
        "\n",
        "This is an incredibly simple algorithm which only takes into account \n",
        "the importantness and weather factors for each customer. It does not \n",
        "take into account the total time customers have been waiting for \n",
        "a key to be distributed to them."
      ]
    },
    {
      "cell_type": "code",
      "metadata": {
        "id": "hHoQra2aIHXe",
        "colab_type": "code",
        "colab": {}
      },
      "source": [
        "# Loop over all available customers within line-of-sight (this is by default set to num_customers)\n",
        "# This is an example using only one training orbit.\n",
        "for i in range(num_customers):\n",
        "    customer_arr[0,i,4] = customer_arr[0,i,2] * customer_arr[0,i,3]\n",
        "\n",
        "customer_prob_list_idx = np.argsort(customer_arr[0,:,4])[::-1]\n",
        "customer_prob_list = customer_arr[0,customer_prob_list_idx,0]"
      ],
      "execution_count": 0,
      "outputs": []
    },
    {
      "cell_type": "code",
      "metadata": {
        "id": "YHVHRhx-IHXi",
        "colab_type": "code",
        "outputId": "e2132992-a435-4089-f57e-72247e277c6e",
        "colab": {
          "base_uri": "https://localhost:8080/",
          "height": 161
        }
      },
      "source": [
        "# Print out ordered list of customers to distribute keys to\n",
        "customer_prob_list"
      ],
      "execution_count": 69,
      "outputs": [
        {
          "output_type": "execute_result",
          "data": {
            "text/plain": [
              "array([53., 22., 26., 50., 99., 67.,  3., 30., 20., 45., 17., 12.,  5.,\n",
              "       63.,  6., 91., 29., 13., 79., 80., 75., 93., 74., 55., 43., 58.,\n",
              "       59., 28., 14., 25., 52., 11., 47., 85., 19., 60.,  4.,  7., 15.,\n",
              "       21., 65., 23., 68., 10., 24., 40., 37.,  1., 41., 71., 54.,  9.,\n",
              "       84., 38., 48., 94., 92., 62., 88., 77., 49., 98.,  8., 97.,  2.,\n",
              "       81., 57., 32., 34., 86., 33., 96., 73., 70., 66., 42., 87.,  0.,\n",
              "       82., 18., 76., 27., 31., 46., 56., 83., 64., 89., 78., 36., 16.,\n",
              "       61., 51., 44., 90., 95., 39., 35., 72., 69.])"
            ]
          },
          "metadata": {
            "tags": []
          },
          "execution_count": 69
        }
      ]
    },
    {
      "cell_type": "markdown",
      "metadata": {
        "id": "6pgpxmkGIHXn",
        "colab_type": "text"
      },
      "source": [
        "## Neural Network Approach (complicated approach)\n",
        "\n",
        "I've written some pseudo code down on a piece of paper. Not guranteeing that \n",
        "this will actually work in practice, but I will make my first attempt of this here."
      ]
    },
    {
      "cell_type": "markdown",
      "metadata": {
        "id": "xXOblSrwIHXo",
        "colab_type": "text"
      },
      "source": [
        "### Define network archetecture"
      ]
    },
    {
      "cell_type": "code",
      "metadata": {
        "id": "fPpgkEB0IHXp",
        "colab_type": "code",
        "outputId": "475401c0-b76d-4ebd-d613-c4bf0f01c874",
        "colab": {
          "base_uri": "https://localhost:8080/",
          "height": 143
        }
      },
      "source": [
        "# This approach uses the Pytorch neural network library\n",
        "\n",
        "# neural network hyperparameters\n",
        "number_epochs = 100\n",
        "batch_size = 128\n",
        "\n",
        "# Define network archetecture (convolutional neural network)\n",
        "class Net(nn.Module):\n",
        "\n",
        "    def __init__(self):\n",
        "        super(Net, self).__init__()\n",
        "        self.conv1 = nn.Conv2d(3, 32, (1,3), stride=1).double()\n",
        "        self.conv2 = nn.Conv2d(32, 64, (1,3), stride=1).double()\n",
        "        # an affine operation: y = Wx + b\n",
        "        self.fc1 = nn.Linear(6144, 120).double()\n",
        "        self.fc2 = nn.Linear(120, 84).double()\n",
        "        self.fc3 = nn.Linear(84, num_customers).double() # one node for predicted probability\n",
        "\n",
        "    def forward(self, x):\n",
        "        # Max pooling over a (2, 2) window\n",
        "        x = F.relu(self.conv1(x))\n",
        "        # If the size is a square you can only specify a single number\n",
        "        x = F.relu(self.conv2(x))\n",
        "        x = x.view(-1, self.num_flat_features(x))\n",
        "        # Two fully-connected hidden layers and one output layer\n",
        "        x = F.relu(self.fc1(x))\n",
        "        x = F.relu(self.fc2(x))\n",
        "        x = torch.sigmoid(self.fc3(x))\n",
        "        return x\n",
        "\n",
        "    def num_flat_features(self, x):\n",
        "        size = x.size()[1:]  # all dimensions except the batch dimension\n",
        "        num_features = 1\n",
        "        for s in size:\n",
        "            num_features *= s\n",
        "        return num_features\n",
        "\n",
        "\n",
        "net = Net()\n",
        "net.to(device)\n",
        "print(net)\n",
        "\n",
        "params = list(net.parameters())\n",
        "\n",
        "# create your optimizer\n",
        "optimizer = optim.Adam(net.parameters(), lr=0.001)"
      ],
      "execution_count": 127,
      "outputs": [
        {
          "output_type": "stream",
          "text": [
            "Net(\n",
            "  (conv1): Conv2d(3, 32, kernel_size=(1, 3), stride=(1, 1))\n",
            "  (conv2): Conv2d(32, 64, kernel_size=(1, 3), stride=(1, 1))\n",
            "  (fc1): Linear(in_features=6144, out_features=120, bias=True)\n",
            "  (fc2): Linear(in_features=120, out_features=84, bias=True)\n",
            "  (fc3): Linear(in_features=84, out_features=100, bias=True)\n",
            ")\n"
          ],
          "name": "stdout"
        }
      ]
    },
    {
      "cell_type": "markdown",
      "metadata": {
        "id": "opdnwSZqoKm-",
        "colab_type": "text"
      },
      "source": [
        "Need to fix loss function, such that it is differentiable. This can be done by \n",
        "scaling the loss calculated for each customer by the predicted probability \n",
        "associated with each customer. We would try to maximize the cost function associated with those who had keys distributed to them, rather than minimize the cost function associated with those who did not get keys distributed to them. See picture on your phone for more details.\n"
      ]
    },
    {
      "cell_type": "code",
      "metadata": {
        "id": "462PZnjkIHXs",
        "colab_type": "code",
        "colab": {}
      },
      "source": [
        "def custom_loss(output, target, batch_feature_data):\n",
        "    \"\"\" This is a custom loss function which \n",
        "    takes as input the raw output from the neural \n",
        "    network and returns a loss which attempts to \n",
        "    minimize the number of keys not distributed \n",
        "    within the alloted amount of time.\n",
        "    \"\"\"\n",
        "    \n",
        "    def my_model(output, batch_feature_data):\n",
        "        \"\"\" This is a model which will iterate \n",
        "        over the predicted ordering of keys to be \n",
        "        distributed. There will be a penalty \n",
        "        associated with any keys which are predicted to \n",
        "        be distributed outside of the obersvation window.\n",
        "        \"\"\"\n",
        "\n",
        "        # Assume 5 seconds to distribute key to customer downstream\n",
        "        # Array to store the calculated number of keys lying outside of time alloted\n",
        "        new_output = torch.zeros((batch_feature_data.shape[0],num_customers), requires_grad=True)\n",
        "\n",
        "        # Iterate over all samples in batch\n",
        "        for i in range(batch_feature_data.shape[0]):\n",
        "          #num_inside_dist = 0\n",
        "          tmp_output = output[i,:]\n",
        "\n",
        "#          for dist_cnt in range(0,max_dist,dist_step):\n",
        "          dist_cnt = 0\n",
        "          while dist_cnt <= max_dist:       \n",
        "\n",
        "            # Once satellite goes over horizon, start dropping customers\n",
        "#            if dist_cnt >= max_dist:\n",
        "#              break\n",
        "            num_inside_dist = 0\n",
        "            customers_in_cur_wind_prob = []\n",
        "            customers_in_cur_wind_idx = []\n",
        "            customers_in_cur_wind_feat = []\n",
        "            for customer_idx,customer in enumerate(batch_feature_data[i,:,:]):\n",
        "              if customer[0] < (dist_cnt + obs_window) and customer[0] > (dist_cnt):\n",
        "                num_inside_dist += 1\n",
        "                #print(dist_cnt)\n",
        "                customers_in_cur_wind_prob.append(tmp_output[customer_idx])\n",
        "                customers_in_cur_wind_idx.append(customer_idx)\n",
        "                customers_in_cur_wind_feat.append(customer[1]*customer[2])\n",
        "                # Add reward for being in window associated with importantness and weather\n",
        "                # This is scaled by probability to make it differentiable\n",
        "\n",
        "            if not customers_in_cur_wind_prob:\n",
        "              dist_cnt+=dist_step\n",
        "              continue\n",
        "            \n",
        "            max_cust = customers_in_cur_wind_idx[np.argmax(customers_in_cur_wind_prob)]\n",
        "\n",
        "            #print(i,max_cust)\n",
        "            new_output[i,max_cust] = torch.add(new_output[i,max_cust], (tmp_output[max_cust] * \n",
        "                                                          batch_feature_data[i,max_cust,1] *\n",
        "                                                          batch_feature_data[i,max_cust,2]))\n",
        "            dist_cnt+=dist_step\n",
        "\n",
        "           \n",
        "          #print('Found %d cutomers inside required window of operation' % num_inside_dist)\n",
        "    \n",
        "        return torch.tensor(new_output, requires_grad=True)\n",
        "    \n",
        "    # Get number of keys predicted to be outside of target window\n",
        "    pred_model_score = my_model(output, batch_feature_data)\n",
        "\n",
        "    # Normalize score to be between zero and 1\n",
        "    pred_model_score = torch.div( pred_model_score, torch.max(pred_model_score))\n",
        "    #print(pred_model_score)\n",
        "\n",
        "    loss = torch.mean((pred_model_score - torch.tensor(target, requires_grad=True))**2)\n",
        "    return loss"
      ],
      "execution_count": 0,
      "outputs": []
    },
    {
      "cell_type": "markdown",
      "metadata": {
        "id": "efk69hR3IHXv",
        "colab_type": "text"
      },
      "source": [
        "### Run network over entire training set"
      ]
    },
    {
      "cell_type": "code",
      "metadata": {
        "id": "x-lTI5MHIHXw",
        "colab_type": "code",
        "colab": {}
      },
      "source": [
        "# training features: location, importance, weather\n",
        "X_train = customer_arr[:,:,1:4]\n",
        "Y_train = np.ones((num_orbits,num_customers))"
      ],
      "execution_count": 0,
      "outputs": []
    },
    {
      "cell_type": "code",
      "metadata": {
        "id": "5VIwpRiYIHXz",
        "colab_type": "code",
        "outputId": "19c47e9b-0b83-4071-b0f1-a1fbde35ee54",
        "colab": {
          "base_uri": "https://localhost:8080/",
          "height": 954
        }
      },
      "source": [
        "running_loss = 0.0\n",
        "train_split = num_orbits\n",
        "\n",
        "dset_train = TensorDataset(torch.tensor(X_train), torch.tensor(Y_train))\n",
        "dataloader = DataLoader(dset_train, batch_size=batch_size,\n",
        "                        shuffle=True)\n",
        "\n",
        "# Iterate over entire training set\n",
        "for epoch_num in range(number_epochs):\n",
        "    for i_batch, sampled_batch in enumerate(dataloader):\n",
        "        print(i_batch)\n",
        "        # in your training loop:\n",
        "        if (train_split - (batch_size * i_batch)) < batch_size:\n",
        "            break\n",
        "        optimizer.zero_grad()   # zero the gradient buffers\n",
        "        output = net(sampled_batch[0].reshape(batch_size,3,1,num_customers).to(device))\n",
        "        loss = custom_loss(output, Y_train[i_batch:i_batch+batch_size].reshape(batch_size,num_customers), sampled_batch[0])\n",
        "        loss.backward()\n",
        "        optimizer.step()    # Does the update to the network\n",
        "        #print('Finished a batch')\n",
        "        print('loss: %.3f' %\n",
        "          (loss.item()))    \n",
        "        \n",
        "    \n",
        "    \n",
        "    print('Training epoch %d/%d' % (epoch_num+1,number_epochs))\n",
        "    # print statistics\n",
        "    print('loss: %.3f' %\n",
        "          (loss.item()))"
      ],
      "execution_count": 130,
      "outputs": [
        {
          "output_type": "stream",
          "text": [
            "0\n"
          ],
          "name": "stdout"
        },
        {
          "output_type": "stream",
          "text": [
            "/usr/local/lib/python3.6/dist-packages/ipykernel_launcher.py:62: UserWarning: To copy construct from a tensor, it is recommended to use sourceTensor.clone().detach() or sourceTensor.clone().detach().requires_grad_(True), rather than torch.tensor(sourceTensor).\n"
          ],
          "name": "stderr"
        },
        {
          "output_type": "stream",
          "text": [
            "loss: 0.877\n",
            "1\n",
            "loss: 0.875\n",
            "2\n",
            "loss: 0.878\n",
            "3\n",
            "loss: 0.873\n",
            "4\n",
            "loss: 0.877\n",
            "5\n",
            "loss: 0.875\n",
            "6\n",
            "loss: 0.875\n",
            "7\n",
            "loss: 0.879\n",
            "8\n",
            "loss: 0.877\n",
            "9\n",
            "loss: 0.875\n",
            "10\n",
            "loss: 0.875\n",
            "11\n",
            "loss: 0.877\n",
            "12\n",
            "loss: 0.876\n",
            "13\n",
            "loss: 0.876\n",
            "14\n"
          ],
          "name": "stdout"
        },
        {
          "output_type": "error",
          "ename": "KeyboardInterrupt",
          "evalue": "ignored",
          "traceback": [
            "\u001b[0;31m---------------------------------------------------------------------------\u001b[0m",
            "\u001b[0;31mKeyboardInterrupt\u001b[0m                         Traceback (most recent call last)",
            "\u001b[0;32m<ipython-input-130-4e20e2347361>\u001b[0m in \u001b[0;36m<module>\u001b[0;34m()\u001b[0m\n\u001b[1;32m     15\u001b[0m         \u001b[0moptimizer\u001b[0m\u001b[0;34m.\u001b[0m\u001b[0mzero_grad\u001b[0m\u001b[0;34m(\u001b[0m\u001b[0;34m)\u001b[0m   \u001b[0;31m# zero the gradient buffers\u001b[0m\u001b[0;34m\u001b[0m\u001b[0;34m\u001b[0m\u001b[0m\n\u001b[1;32m     16\u001b[0m         \u001b[0moutput\u001b[0m \u001b[0;34m=\u001b[0m \u001b[0mnet\u001b[0m\u001b[0;34m(\u001b[0m\u001b[0msampled_batch\u001b[0m\u001b[0;34m[\u001b[0m\u001b[0;36m0\u001b[0m\u001b[0;34m]\u001b[0m\u001b[0;34m.\u001b[0m\u001b[0mreshape\u001b[0m\u001b[0;34m(\u001b[0m\u001b[0mbatch_size\u001b[0m\u001b[0;34m,\u001b[0m\u001b[0;36m3\u001b[0m\u001b[0;34m,\u001b[0m\u001b[0;36m1\u001b[0m\u001b[0;34m,\u001b[0m\u001b[0mnum_customers\u001b[0m\u001b[0;34m)\u001b[0m\u001b[0;34m.\u001b[0m\u001b[0mto\u001b[0m\u001b[0;34m(\u001b[0m\u001b[0mdevice\u001b[0m\u001b[0;34m)\u001b[0m\u001b[0;34m)\u001b[0m\u001b[0;34m\u001b[0m\u001b[0;34m\u001b[0m\u001b[0m\n\u001b[0;32m---> 17\u001b[0;31m         \u001b[0mloss\u001b[0m \u001b[0;34m=\u001b[0m \u001b[0mcustom_loss\u001b[0m\u001b[0;34m(\u001b[0m\u001b[0moutput\u001b[0m\u001b[0;34m,\u001b[0m \u001b[0mY_train\u001b[0m\u001b[0;34m[\u001b[0m\u001b[0mi_batch\u001b[0m\u001b[0;34m:\u001b[0m\u001b[0mi_batch\u001b[0m\u001b[0;34m+\u001b[0m\u001b[0mbatch_size\u001b[0m\u001b[0;34m]\u001b[0m\u001b[0;34m.\u001b[0m\u001b[0mreshape\u001b[0m\u001b[0;34m(\u001b[0m\u001b[0mbatch_size\u001b[0m\u001b[0;34m,\u001b[0m\u001b[0mnum_customers\u001b[0m\u001b[0;34m)\u001b[0m\u001b[0;34m,\u001b[0m \u001b[0msampled_batch\u001b[0m\u001b[0;34m[\u001b[0m\u001b[0;36m0\u001b[0m\u001b[0;34m]\u001b[0m\u001b[0;34m)\u001b[0m\u001b[0;34m\u001b[0m\u001b[0;34m\u001b[0m\u001b[0m\n\u001b[0m\u001b[1;32m     18\u001b[0m         \u001b[0mloss\u001b[0m\u001b[0;34m.\u001b[0m\u001b[0mbackward\u001b[0m\u001b[0;34m(\u001b[0m\u001b[0;34m)\u001b[0m\u001b[0;34m\u001b[0m\u001b[0;34m\u001b[0m\u001b[0m\n\u001b[1;32m     19\u001b[0m         \u001b[0moptimizer\u001b[0m\u001b[0;34m.\u001b[0m\u001b[0mstep\u001b[0m\u001b[0;34m(\u001b[0m\u001b[0;34m)\u001b[0m    \u001b[0;31m# Does the update to the network\u001b[0m\u001b[0;34m\u001b[0m\u001b[0;34m\u001b[0m\u001b[0m\n",
            "\u001b[0;32m<ipython-input-128-a045524336df>\u001b[0m in \u001b[0;36mcustom_loss\u001b[0;34m(output, target, batch_feature_data)\u001b[0m\n\u001b[1;32m     63\u001b[0m \u001b[0;34m\u001b[0m\u001b[0m\n\u001b[1;32m     64\u001b[0m     \u001b[0;31m# Get number of keys predicted to be outside of target window\u001b[0m\u001b[0;34m\u001b[0m\u001b[0;34m\u001b[0m\u001b[0;34m\u001b[0m\u001b[0m\n\u001b[0;32m---> 65\u001b[0;31m     \u001b[0mpred_model_score\u001b[0m \u001b[0;34m=\u001b[0m \u001b[0mmy_model\u001b[0m\u001b[0;34m(\u001b[0m\u001b[0moutput\u001b[0m\u001b[0;34m,\u001b[0m \u001b[0mbatch_feature_data\u001b[0m\u001b[0;34m)\u001b[0m\u001b[0;34m\u001b[0m\u001b[0;34m\u001b[0m\u001b[0m\n\u001b[0m\u001b[1;32m     66\u001b[0m \u001b[0;34m\u001b[0m\u001b[0m\n\u001b[1;32m     67\u001b[0m     \u001b[0;31m# Normalize score to be between zero and 1\u001b[0m\u001b[0;34m\u001b[0m\u001b[0;34m\u001b[0m\u001b[0;34m\u001b[0m\u001b[0m\n",
            "\u001b[0;32m<ipython-input-128-a045524336df>\u001b[0m in \u001b[0;36mmy_model\u001b[0;34m(output, batch_feature_data)\u001b[0m\n\u001b[1;32m     36\u001b[0m             \u001b[0mcustomers_in_cur_wind_feat\u001b[0m \u001b[0;34m=\u001b[0m \u001b[0;34m[\u001b[0m\u001b[0;34m]\u001b[0m\u001b[0;34m\u001b[0m\u001b[0;34m\u001b[0m\u001b[0m\n\u001b[1;32m     37\u001b[0m             \u001b[0;32mfor\u001b[0m \u001b[0mcustomer_idx\u001b[0m\u001b[0;34m,\u001b[0m\u001b[0mcustomer\u001b[0m \u001b[0;32min\u001b[0m \u001b[0menumerate\u001b[0m\u001b[0;34m(\u001b[0m\u001b[0mbatch_feature_data\u001b[0m\u001b[0;34m[\u001b[0m\u001b[0mi\u001b[0m\u001b[0;34m,\u001b[0m\u001b[0;34m:\u001b[0m\u001b[0;34m,\u001b[0m\u001b[0;34m:\u001b[0m\u001b[0;34m]\u001b[0m\u001b[0;34m)\u001b[0m\u001b[0;34m:\u001b[0m\u001b[0;34m\u001b[0m\u001b[0;34m\u001b[0m\u001b[0m\n\u001b[0;32m---> 38\u001b[0;31m               \u001b[0;32mif\u001b[0m \u001b[0mcustomer\u001b[0m\u001b[0;34m[\u001b[0m\u001b[0;36m0\u001b[0m\u001b[0;34m]\u001b[0m \u001b[0;34m<\u001b[0m \u001b[0;34m(\u001b[0m\u001b[0mdist_cnt\u001b[0m \u001b[0;34m+\u001b[0m \u001b[0mobs_window\u001b[0m\u001b[0;34m)\u001b[0m \u001b[0;32mand\u001b[0m \u001b[0mcustomer\u001b[0m\u001b[0;34m[\u001b[0m\u001b[0;36m0\u001b[0m\u001b[0;34m]\u001b[0m \u001b[0;34m>\u001b[0m \u001b[0;34m(\u001b[0m\u001b[0mdist_cnt\u001b[0m\u001b[0;34m)\u001b[0m\u001b[0;34m:\u001b[0m\u001b[0;34m\u001b[0m\u001b[0;34m\u001b[0m\u001b[0m\n\u001b[0m\u001b[1;32m     39\u001b[0m                 \u001b[0mnum_inside_dist\u001b[0m \u001b[0;34m+=\u001b[0m \u001b[0;36m1\u001b[0m\u001b[0;34m\u001b[0m\u001b[0;34m\u001b[0m\u001b[0m\n\u001b[1;32m     40\u001b[0m                 \u001b[0;31m#print(dist_cnt)\u001b[0m\u001b[0;34m\u001b[0m\u001b[0;34m\u001b[0m\u001b[0;34m\u001b[0m\u001b[0m\n",
            "\u001b[0;31mKeyboardInterrupt\u001b[0m: "
          ]
        }
      ]
    },
    {
      "cell_type": "markdown",
      "metadata": {
        "id": "i5qiS77R8rHV",
        "colab_type": "text"
      },
      "source": [
        "### Plot Results"
      ]
    },
    {
      "cell_type": "code",
      "metadata": {
        "id": "rcvZhRuLBt4p",
        "colab_type": "code",
        "colab": {}
      },
      "source": [
        "# Get test predictions from trained neural network\n",
        "test_preds = net(torch.tensor(customer_test_arr[:,:,1:4].reshape(num_test_orbits,3,1,num_customers)))"
      ],
      "execution_count": 0,
      "outputs": []
    },
    {
      "cell_type": "code",
      "metadata": {
        "id": "9XFrZIumCtXq",
        "colab_type": "code",
        "colab": {}
      },
      "source": [
        ""
      ],
      "execution_count": 0,
      "outputs": []
    },
    {
      "cell_type": "code",
      "metadata": {
        "id": "q8lZVHpOIHX2",
        "colab_type": "code",
        "outputId": "821ac074-d94c-482f-f6c0-539e5fd01e18",
        "colab": {
          "base_uri": "https://localhost:8080/",
          "height": 279
        }
      },
      "source": [
        "# Make scatter plot of priority as a function of key dist probability\n",
        "plt.scatter(test_preds[0,:].detach().numpy(),customer_test_arr[0,:,2])\n",
        "plt.xlabel('Predicted probability of key being distributed')\n",
        "plt.ylabel('Base priority level of customer')\n",
        "plt.show()"
      ],
      "execution_count": 132,
      "outputs": [
        {
          "output_type": "display_data",
          "data": {
            "image/png": "[encoded data removed]",
            "text/plain": [
              "<Figure size 432x288 with 1 Axes>"
            ]
          },
          "metadata": {
            "tags": []
          }
        }
      ]
    },
    {
      "cell_type": "code",
      "metadata": {
        "id": "8o2ZfoD-DYxt",
        "colab_type": "code",
        "colab": {}
      },
      "source": [
        "plt.close()"
      ],
      "execution_count": 0,
      "outputs": []
    },
    {
      "cell_type": "code",
      "metadata": {
        "id": "lwgBB0NMd5TQ",
        "colab_type": "code",
        "colab": {}
      },
      "source": [
        ""
      ],
      "execution_count": 0,
      "outputs": []
    }
  ]
}