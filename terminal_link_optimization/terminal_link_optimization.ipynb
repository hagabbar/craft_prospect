{
 "cells": [
  {
   "cell_type": "markdown",
   "metadata": {
    "colab_type": "text",
    "id": "av9AyAigIHXG"
   },
   "source": [
    "# Terminal Link Optimization\n",
    "\n",
    "This is the main jupyter notebook script for optimizing the dilvery of keys from the CubeSat to upcoming ground terminals in network. Four independent approaches are used: grid search, random search, function minimization and Markov Chain Monte Carlo. We find that although grid search is typically 3X slower than other techniques, it is the optimal approach."
   ]
  },
  {
   "cell_type": "markdown",
   "metadata": {
    "colab_type": "text",
    "id": "jUjABdnxIHXM"
   },
   "source": [
    "## Import packages\n",
    "\n",
    "The two simplest approaches (grid search and random search) use simple numpy functions. The function minimization approach uses scipy. The MCMC approach uses both the emcee and pymc3 packages."
   ]
  },
  {
   "cell_type": "code",
   "execution_count": 12,
   "metadata": {
    "colab": {
     "base_uri": "https://localhost:8080/",
     "height": 53
    },
    "colab_type": "code",
    "executionInfo": {
     "elapsed": 4554,
     "status": "ok",
     "timestamp": 1580143753116,
     "user": {
      "displayName": "Hunter Gabbard",
      "photoUrl": "https://lh3.googleusercontent.com/a-/AAuE7mBeByGdbpcMPnUMPS-SqHCioC0przxnWAHQJvpCjw=s64",
      "userId": "09311045780758199106"
     },
     "user_tz": 0
    },
    "id": "WymL6H2T-WEm",
    "outputId": "ba9a8de0-8a48-419b-fd70-92c74261befb"
   },
   "outputs": [
    {
     "name": "stdout",
     "output_type": "stream",
     "text": [
      "Requirement already satisfied: emcee in /usr/local/lib/python3.6/dist-packages (3.0.2)\n",
      "Requirement already satisfied: numpy in /usr/local/lib/python3.6/dist-packages (from emcee) (1.17.5)\n"
     ]
    }
   ],
   "source": [
    "pip install emcee"
   ]
  },
  {
   "cell_type": "code",
   "execution_count": 13,
   "metadata": {
    "colab": {
     "base_uri": "https://localhost:8080/",
     "height": 35
    },
    "colab_type": "code",
    "executionInfo": {
     "elapsed": 4248,
     "status": "ok",
     "timestamp": 1580143753120,
     "user": {
      "displayName": "Hunter Gabbard",
      "photoUrl": "https://lh3.googleusercontent.com/a-/AAuE7mBeByGdbpcMPnUMPS-SqHCioC0przxnWAHQJvpCjw=s64",
      "userId": "09311045780758199106"
     },
     "user_tz": 0
    },
    "id": "rmpV99xvIHXP",
    "outputId": "d4d21696-b37d-4add-f16a-e85bd1a4ced7"
   },
   "outputs": [
    {
     "name": "stdout",
     "output_type": "stream",
     "text": [
      "emcee version: 3.0.2\n"
     ]
    }
   ],
   "source": [
    "from __future__ import absolute_import, division, print_function, unicode_literals\n",
    "\n",
    "import numpy as np\n",
    "import matplotlib.pyplot as plt\n",
    "import time\n",
    "\n",
    "# import pymc3 module\n",
    "import pymc3 as pm\n",
    "import emcee\n",
    "print('emcee version: {}'.format(emcee.__version__))\n",
    "\n",
    "\n",
    "#from tensorflow.keras import datasets, layers, models"
   ]
  },
  {
   "cell_type": "markdown",
   "metadata": {
    "colab_type": "text",
    "id": "NunbIazmIHXW"
   },
   "source": [
    "## Make simulation of satellite and customers\n",
    "\n",
    "Each customer is given 4 attributes in the following order: Index within the set, physical distance location, importantness factor (predetermined by Craft Prospect) and a weather indicator. Distance is defined to be between 0 and `max_dist`. Both weather and importantness are defined randomly along a uniform distribution between 0 and 1."
   ]
  },
  {
   "cell_type": "code",
   "execution_count": 0,
   "metadata": {
    "colab": {},
    "colab_type": "code",
    "collapsed": true,
    "id": "TuYKIBsZIHXY"
   },
   "outputs": [],
   "source": [
    "\"\"\"\n",
    "Lets make an array containing the physical location of some simulated customers.\n",
    "The array will have the shape (N_time_segments,length_of_time_segment)\n",
    "\n",
    "customer data array `customer_arr` will be of shape (number of training orbits, number of customers \n",
    "in orbit, number of features describing priority of customers)\n",
    "\"\"\"\n",
    "\n",
    "# training set hyperparameters\n",
    "num_customers = 100                                   # total number of customers on planet for each training sample\n",
    "num_orbits = 10000                                    # total number of training samples\n",
    "max_dist = 1000                                       # maximum distance allowed for customers\n",
    "dist_step = 50                                        # distance traveled per step by satellite\n",
    "obs_window = 200                                      # total size of observation window of satellite in units of distance\n",
    "customer_arr = np.zeros((num_orbits,num_customers,5)) # Define emtpy array to contain customer data\n",
    "\n",
    "# neural network hyperparameters\n",
    "batch_size = 64                                       # batch size (number of samples given to NN for each training epoch)\n",
    "\n",
    "####################\n",
    "# Make training set#\n",
    "####################\n",
    "\n",
    "# iterate over number of training samples (where one sample is defined as a single orbit around the Earth)\n",
    "for i in range(num_orbits):\n",
    "\n",
    "    # Make customer index labels\n",
    "    customer_arr[i,:,0] = np.arange(start=0,stop=num_customers,step=1)\n",
    "\n",
    "    # Define random locations of customers on a line defining the planet\n",
    "    customer_arr[i,:,1] = np.random.randint(low=0,high=max_dist,size=(num_customers))\n",
    "\n",
    "    # Assign a random customer importantness factor. 0 == low importance, 1 == high importance\n",
    "    customer_arr[i,:,2] = np.random.uniform(low=0.0,high=1.0,size=(num_customers))\n",
    "\n",
    "    # Assign a random customer weather factor. 0 == high cloud coverage, 1 == low cloud coverage\n",
    "    customer_arr[i,:,3] = np.random.uniform(low=0.0,high=1.0,size=(num_customers))\n",
    "\n",
    "# Testing set hyperparameters\n",
    "num_test_orbits = 100 # number of test samples to use\n",
    "customer_test_arr = np.zeros((num_test_orbits,num_customers,5))\n",
    "\n",
    "################\n",
    "# Make test set#\n",
    "################\n",
    "\n",
    "for i in range(num_test_orbits):\n",
    "  \n",
    "    # Make customer index labels\n",
    "    customer_test_arr[i,:,0] = np.arange(start=0,stop=num_customers,step=1)\n",
    "\n",
    "    # Define random locations of customers on a line defining the planet\n",
    "    customer_test_arr[i,:,1] = np.random.randint(low=0,high=max_dist,size=(num_customers))\n",
    "\n",
    "    # Assign a random customer importantness factor. 0 == low importance, 1 == high importance\n",
    "    customer_test_arr[i,:,2] = np.random.uniform(low=0.0,high=1.0,size=(num_customers))\n",
    "\n",
    "    # Assign a random customer weather factor. 0 == high cloud coverage, 1 == low cloud coverage\n",
    "    customer_test_arr[i,:,3] = np.random.uniform(low=0.0,high=1.0,size=(num_customers))\n",
    "\n",
    "# reshape training and testing arrays\n",
    "X_train = customer_arr[:,:,1:4]\n",
    "X_train = X_train.reshape(X_train.shape[0],X_train.shape[1],X_train.shape[2],1)\n",
    "X_test = customer_test_arr[:,:,1:4].reshape(num_test_orbits,num_customers,3,1)\n",
    "Y_train = np.ones((num_orbits,num_customers))\n",
    "Y_test = np.ones((num_test_orbits,num_customers))"
   ]
  },
  {
   "cell_type": "markdown",
   "metadata": {
    "colab_type": "text",
    "id": "LeqCYfHIIHXc"
   },
   "source": [
    "## Key delivery without any optimization\n",
    "\n",
    "This is an incredibly simple algorithm which only takes into account \n",
    "the importantness and weather factors for each customer. It does not \n",
    "take into account the total time customers have been waiting for \n",
    "a key to be distributed to them."
   ]
  },
  {
   "cell_type": "code",
   "execution_count": 0,
   "metadata": {
    "colab": {},
    "colab_type": "code",
    "collapsed": true,
    "id": "hHoQra2aIHXe"
   },
   "outputs": [],
   "source": [
    "# Loop over all available customers within line-of-sight (this is by default set to num_customers)\n",
    "\n",
    "# This is an example using only one training orbit.\n",
    "for i in range(num_customers):\n",
    "    customer_arr[0,i,4] = customer_arr[0,i,2] * customer_arr[0,i,3]\n",
    "\n",
    "customer_prob_list_idx = np.argsort(customer_arr[0,:,4])\n",
    "customer_prob_list = customer_arr[0,customer_prob_list_idx,0]"
   ]
  },
  {
   "cell_type": "code",
   "execution_count": 0,
   "metadata": {
    "colab": {
     "base_uri": "https://localhost:8080/",
     "height": 280
    },
    "colab_type": "code",
    "executionInfo": {
     "elapsed": 1334,
     "status": "ok",
     "timestamp": 1579875476234,
     "user": {
      "displayName": "Hunter Gabbard",
      "photoUrl": "https://lh3.googleusercontent.com/a-/AAuE7mBeByGdbpcMPnUMPS-SqHCioC0przxnWAHQJvpCjw=s64",
      "userId": "09311045780758199106"
     },
     "user_tz": 0
    },
    "id": "YHVHRhx-IHXi",
    "outputId": "a12695be-27b1-4736-ba9b-74a517637b30"
   },
   "outputs": [
    {
     "data": {
      "image/png": "[encoded data removed]",
      "text/plain": [
       "<Figure size 432x288 with 1 Axes>"
      ]
     },
     "metadata": {
      "tags": []
     },
     "output_type": "display_data"
    }
   ],
   "source": [
    "# Plot importantness as a function of predicted key probability\n",
    "plt.plot(customer_arr[0,customer_prob_list_idx,2], marker='.')\n",
    "plt.plot(np.linspace(0, num_customers, num_customers), np.linspace(0, 1, num_customers), color='k')\n",
    "plt.xlabel('Predicted probability of key distribution low to high')\n",
    "plt.ylabel('Importantness of customer from low to high')\n",
    "plt.show()"
   ]
  },
  {
   "cell_type": "code",
   "execution_count": 0,
   "metadata": {
    "colab": {
     "base_uri": "https://localhost:8080/",
     "height": 325
    },
    "colab_type": "code",
    "executionInfo": {
     "elapsed": 1550,
     "status": "ok",
     "timestamp": 1579875477977,
     "user": {
      "displayName": "Hunter Gabbard",
      "photoUrl": "https://lh3.googleusercontent.com/a-/AAuE7mBeByGdbpcMPnUMPS-SqHCioC0przxnWAHQJvpCjw=s64",
      "userId": "09311045780758199106"
     },
     "user_tz": 0
    },
    "id": "EEkO8TvlsfgZ",
    "outputId": "69fc78b8-54ee-421d-ac8f-2c266ff5067d"
   },
   "outputs": [
    {
     "data": {
      "image/png": "[encoded data removed]",
      "text/plain": [
       "<Figure size 432x288 with 1 Axes>"
      ]
     },
     "metadata": {
      "tags": []
     },
     "output_type": "display_data"
    }
   ],
   "source": [
    "# Plot weather as a function of predicted key probability\n",
    "plt.close()\n",
    "plt.plot(customer_arr[0,customer_prob_list_idx,3], marker='.')\n",
    "plt.plot(np.linspace(0, num_customers, num_customers), np.linspace(0, 1, num_customers), color='k')\n",
    "plt.xlabel('Predicted probability of key distribution low to high')\n",
    "plt.ylabel('weather around customer from high cloud coverage to low')\n",
    "plt.show()"
   ]
  },
  {
   "cell_type": "code",
   "execution_count": 0,
   "metadata": {
    "colab": {},
    "colab_type": "code",
    "collapsed": true,
    "id": "1FF0CQBesL0l"
   },
   "outputs": [],
   "source": [
    "def window(d,dist_cnt):\n",
    "  \"\"\"\" window length function. one-sidded gaussian.\"\"\"\n",
    "  sigma = obs_window\n",
    "  a = np.sqrt(2) / (sigma * np.sqrt(np.pi))\n",
    "  x = d\n",
    "  return a*np.exp(-(x)**2/(2*sigma**2)) + dist_cnt\n",
    "\n",
    "def simulate_satellite_orbit(alpha_values, orb_idx, total_delivered, cust_prob,\n",
    "                             customers_accessed, \n",
    "                             scipy_optim_flag=False):\n",
    "  \"\"\"simulate one orbit of satellite given orbital training set\"\"\"\n",
    "  alpha_I = alpha_values[0]\n",
    "  alpha_w = alpha_values[1]\n",
    "  alpha_d = alpha_values[2]\n",
    "\n",
    "  # if doing function optimization approach, reset every iteration\n",
    "  if scipy_optim_flag == True:\n",
    "    total_delivered = 0\n",
    "\n",
    "  # declare temparary variables which will be changed if better alpha values found\n",
    "  tmp_cust_prob = np.zeros((num_customers))\n",
    "  tmp_total_delivered = 0\n",
    "   \n",
    "  # define updatable variables to be used while iterating through customers in current sample\n",
    "  dist_cnt = 0                # record of distance traveled\n",
    "\n",
    "  # Simulate satellite traveling until maximum distance reached (defined as 1 orbit around Earth)\n",
    "  while dist_cnt <= max_dist:       \n",
    "\n",
    "    # make empty lists to store customers in current operating window\n",
    "    customers_in_cur_wind_prob = []\n",
    "    customers_in_cur_wind_idx = []\n",
    "    customers_in_cur_wind_feat = []\n",
    "\n",
    "    # Iterate over all customers around the globe\n",
    "    for customer_idx,customer in enumerate(customer_arr[orb_idx,:,:]):\n",
    "\n",
    "      # Check if customer has already had a key distributed to them\n",
    "      try:\n",
    "          customers_accessed.index(customer_idx)\n",
    "\n",
    "      # if customer hasn't had a key delivered, continue on and append to window\n",
    "      except ValueError:\n",
    "          pass\n",
    "\n",
    "      # if customer has already had their key delivered, move on to next customer without appending to window\n",
    "      else:\n",
    "          continue\n",
    "\n",
    "      # Append the index of the customer\n",
    "      customers_in_cur_wind_idx.append(customer_idx)\n",
    "\n",
    "      # Append loss value of customer\n",
    "      customers_in_cur_wind_feat.append(alpha_I * customer[2] +  \n",
    "                      alpha_w * customer[3]) #+ \n",
    "                      #alpha_d * window(customer[1], dist_cnt)) \n",
    "\n",
    "    # If there are no customers within the current line-of-sight or I've chosen to wait for the next one, add some small distance traveled by satellite\n",
    "    if not customers_in_cur_wind_idx:\n",
    "      dist_cnt+=dist_step\n",
    "      continue\n",
    "    elif customer_arr[orb_idx,customers_in_cur_wind_idx[np.argmax(customers_in_cur_wind_feat)],1] > (dist_cnt + obs_window):\n",
    "      dist_cnt+=dist_step\n",
    "      continue\n",
    "\n",
    "    # take maximal likely customer in current window and record their liklihood\n",
    "    tmp_cust_prob[customer_idx] = np.max(customers_in_cur_wind_feat)\n",
    "\n",
    "    # add customer to list of keys already delivered\n",
    "    customers_accessed.append(customers_in_cur_wind_idx[np.argmax(customers_in_cur_wind_feat)])\n",
    "    tmp_total_delivered += 1\n",
    "      \n",
    "    # add a distance traveled by satellite equivalent to time to deliver key\n",
    "    dist_cnt += dist_step\n",
    "\n",
    "  # check if the total number of keys delivered is more than the best so far\n",
    "  if abs(tmp_total_delivered) > abs(total_delivered):\n",
    "      total_delivered = tmp_total_delivered\n",
    "      cust_prob = tmp_cust_prob \n",
    "#      print('Total delivered has increased to: %d' % total_delivered)\n",
    "\n",
    "  if scipy_optim_flag == True:\n",
    "    return -tmp_total_delivered\n",
    "  else:\n",
    "    return total_delivered, cust_prob"
   ]
  },
  {
   "cell_type": "markdown",
   "metadata": {
    "colab_type": "text",
    "id": "V8oYrKzMr-4O"
   },
   "source": [
    "## Grid search approach\n",
    "\n",
    "Grid search is an approach to hyperparameter tuning that will methodically build and evaluate a model for each combination of algorithm parameters specified in a grid (alpha_I, alpha_w, alpha_d).\n",
    "\n",
    "We first define the range over which these tunable hyperparameters can be (i.e. 0 - 1). The grid, in this case, has values ranging from 0 to 1 in steps defined by the variable `grid_size`. We then construct many versions of the model using every combination of values in the grid. The optimal result is achieved according which corresponding grid points return the maximum number of keys delivered. "
   ]
  },
  {
   "cell_type": "code",
   "execution_count": 0,
   "metadata": {
    "colab": {
     "base_uri": "https://localhost:8080/",
     "height": 737
    },
    "colab_type": "code",
    "executionInfo": {
     "elapsed": 44456,
     "status": "ok",
     "timestamp": 1579875560279,
     "user": {
      "displayName": "Hunter Gabbard",
      "photoUrl": "https://lh3.googleusercontent.com/a-/AAuE7mBeByGdbpcMPnUMPS-SqHCioC0przxnWAHQJvpCjw=s64",
      "userId": "09311045780758199106"
     },
     "user_tz": 0
    },
    "id": "5AJLJ8DgDlGy",
    "outputId": "7944b33d-51bc-4668-95fa-e63127c2f11a"
   },
   "outputs": [
    {
     "name": "stdout",
     "output_type": "stream",
     "text": [
      "Distance (m): 0/1000, time_to_execute: 2.225444\n",
      "Number of keys delivered: 1/100\n",
      "Distance (m): 50/1000, time_to_execute: 2.229401\n",
      "Number of keys delivered: 2/100\n",
      "Distance (m): 100/1000, time_to_execute: 2.238214\n",
      "Number of keys delivered: 3/100\n",
      "Distance (m): 150/1000, time_to_execute: 2.211757\n",
      "Number of keys delivered: 4/100\n",
      "Distance (m): 200/1000, time_to_execute: 2.211896\n",
      "Number of keys delivered: 5/100\n",
      "Distance (m): 250/1000, time_to_execute: 2.191294\n",
      "Number of keys delivered: 6/100\n",
      "Distance (m): 300/1000, time_to_execute: 2.208836\n",
      "Number of keys delivered: 7/100\n",
      "Distance (m): 350/1000, time_to_execute: 2.189931\n",
      "Number of keys delivered: 8/100\n",
      "Distance (m): 400/1000, time_to_execute: 2.174918\n",
      "Number of keys delivered: 9/100\n",
      "Distance (m): 450/1000, time_to_execute: 2.165758\n",
      "Number of keys delivered: 10/100\n",
      "Distance (m): 500/1000, time_to_execute: 2.179673\n",
      "Number of keys delivered: 11/100\n",
      "Distance (m): 550/1000, time_to_execute: 2.211885\n",
      "Number of keys delivered: 12/100\n",
      "Distance (m): 600/1000, time_to_execute: 2.166671\n",
      "Number of keys delivered: 13/100\n",
      "Distance (m): 650/1000, time_to_execute: 2.233240\n",
      "Number of keys delivered: 14/100\n",
      "Distance (m): 700/1000, time_to_execute: 2.172794\n",
      "Number of keys delivered: 15/100\n",
      "Distance (m): 750/1000, time_to_execute: 2.183565\n",
      "Number of keys delivered: 16/100\n",
      "Distance (m): 800/1000, time_to_execute: 2.195837\n",
      "Number of keys delivered: 17/100\n",
      "Distance (m): 850/1000, time_to_execute: 2.202920\n",
      "Number of keys delivered: 18/100\n",
      "Distance (m): 900/1000, time_to_execute: 2.196483\n",
      "Number of keys delivered: 19/100\n",
      "Distance (m): 950/1000, time_to_execute: 2.182295\n",
      "Number of keys delivered: 20/100\n"
     ]
    }
   ],
   "source": [
    "# tunable weights\n",
    "alpha_I = 1.0\n",
    "alpha_w = 1.0\n",
    "alpha_d = 1.0\n",
    "\n",
    "# sparcity of grid space\n",
    "grid_size = 10\n",
    "\n",
    "# array to be filled with liklihood of key delivered to customer\n",
    "cust_prob = np.zeros((num_orbits,num_customers,1))\n",
    "\n",
    "dist_idx = 0\n",
    "orb_idx = 0 # currently set to first training set sample. will add another for loop later\n",
    "keys_delivered = 0 # set the number of keys delivered initially to zero\n",
    "\n",
    "# iterate through one orbit using the first training sample \n",
    "while dist_idx < max_dist:\n",
    "\n",
    "  # declare total keys delivered over current training sample to be zero initially\n",
    "  total_delivered = 0\n",
    "\n",
    "  # set there to be no keys initially delivered\n",
    "  if dist_idx == 0:\n",
    "    customers_accessed_outside = []\n",
    "\n",
    "  t0 = time.time()\n",
    "  # run a grid search over all 3 tunable parameters\n",
    "  for alpha_I in np.linspace(1,100,grid_size):\n",
    "    for alpha_w in np.linspace(1,100,grid_size):\n",
    "      for alpha_d in np.linspace(1,100,grid_size):\n",
    "\n",
    "        # simulate one orbit of satellite\n",
    "        alpha_values = np.array([alpha_I,alpha_w,alpha_d])\n",
    "        total_delivered, cust_prob = simulate_satellite_orbit(alpha_values,orb_idx,total_delivered,\n",
    "                                                              cust_prob,customers_accessed_outside)\n",
    "        \n",
    "  # record time to compute\n",
    "  t1 = time.time()\n",
    "  total_time = t1-t0\n",
    "\n",
    "  # deliver key\n",
    "  customers_accessed_outside.append(np.argmax(cust_prob))\n",
    "  keys_delivered += 1\n",
    "  print('Distance (m): %d/%d, time_to_execute: %.6f' % (dist_idx,max_dist,total_time))\n",
    "  print('Number of keys delivered: %d/%d' % (keys_delivered,num_customers))\n",
    "\n",
    "  # add some distance traveled by satellite\n",
    "  dist_idx += dist_step"
   ]
  },
  {
   "cell_type": "code",
   "execution_count": 0,
   "metadata": {
    "colab": {
     "base_uri": "https://localhost:8080/",
     "height": 280
    },
    "colab_type": "code",
    "executionInfo": {
     "elapsed": 1370,
     "status": "ok",
     "timestamp": 1578662414470,
     "user": {
      "displayName": "Hunter Gabbard",
      "photoUrl": "https://lh3.googleusercontent.com/a-/AAuE7mBeByGdbpcMPnUMPS-SqHCioC0przxnWAHQJvpCjw=s64",
      "userId": "09311045780758199106"
     },
     "user_tz": 0
    },
    "id": "QLkRcSWsC9X1",
    "outputId": "353ddfc7-ed31-4068-cb12-db9cfe9f8885"
   },
   "outputs": [
    {
     "data": {
      "image/png": "[encoded data removed]",
      "text/plain": [
       "<Figure size 432x288 with 1 Axes>"
      ]
     },
     "metadata": {
      "tags": []
     },
     "output_type": "display_data"
    }
   ],
   "source": [
    "# Plot importantness as a function of predicted key probability\n",
    "plt.scatter(batch_feature_data[0,:,4],customer_arr[0,:,2])\n",
    "plt.plot(np.linspace(0, 1.0, num_customers), np.linspace(0, 1, num_customers), color='k')\n",
    "plt.xlabel('Predicted probability of key distribution low to high')\n",
    "plt.ylabel('Importantness of customer from low to high')\n",
    "plt.show()"
   ]
  },
  {
   "cell_type": "markdown",
   "metadata": {
    "colab_type": "text",
    "id": "XHGH4hj1DR42"
   },
   "source": [
    "## Random grid search approach\n",
    "\n",
    "The idea of random searching of hyperparameters was proposed by James Bergstra & Yoshua Bengio.\n",
    "\n",
    "Random search differs from a grid search in that you no longer provide a discrete set of values to explore for each hyperparameter; rather, you provide a statistical distribution for each hyperparameter from which values may be randomly sampled. In this case, we draw our tunable hyperparameters from a uniform distribution."
   ]
  },
  {
   "cell_type": "code",
   "execution_count": 0,
   "metadata": {
    "colab": {
     "base_uri": "https://localhost:8080/",
     "height": 775
    },
    "colab_type": "code",
    "executionInfo": {
     "elapsed": 43950,
     "status": "ok",
     "timestamp": 1579883047148,
     "user": {
      "displayName": "Hunter Gabbard",
      "photoUrl": "https://lh3.googleusercontent.com/a-/AAuE7mBeByGdbpcMPnUMPS-SqHCioC0przxnWAHQJvpCjw=s64",
      "userId": "09311045780758199106"
     },
     "user_tz": 0
    },
    "id": "be85XRORDXAY",
    "outputId": "ae8fbe5b-2eca-46cc-9bf6-33ef36a8d326"
   },
   "outputs": [
    {
     "name": "stdout",
     "output_type": "stream",
     "text": [
      "Distance (m): 0/1000, time_to_execute: 2.209883\n",
      "Number of keys delivered: 1/100\n",
      "Distance (m): 50/1000, time_to_execute: 2.168596\n",
      "Number of keys delivered: 2/100\n",
      "Distance (m): 100/1000, time_to_execute: 2.158899\n",
      "Number of keys delivered: 3/100\n",
      "Distance (m): 150/1000, time_to_execute: 2.172915\n",
      "Number of keys delivered: 4/100\n",
      "Distance (m): 200/1000, time_to_execute: 2.187762\n",
      "Number of keys delivered: 5/100\n",
      "Distance (m): 250/1000, time_to_execute: 2.158664\n",
      "Number of keys delivered: 6/100\n",
      "Distance (m): 300/1000, time_to_execute: 2.166448\n",
      "Number of keys delivered: 7/100\n",
      "Distance (m): 350/1000, time_to_execute: 2.177465\n",
      "Number of keys delivered: 8/100\n",
      "Distance (m): 400/1000, time_to_execute: 2.174939\n",
      "Number of keys delivered: 9/100\n",
      "Distance (m): 450/1000, time_to_execute: 2.182907\n",
      "Number of keys delivered: 10/100\n",
      "Distance (m): 500/1000, time_to_execute: 2.175503\n",
      "Number of keys delivered: 11/100\n",
      "Distance (m): 550/1000, time_to_execute: 2.149220\n",
      "Number of keys delivered: 12/100\n",
      "Distance (m): 600/1000, time_to_execute: 2.181159\n",
      "Number of keys delivered: 13/100\n",
      "Distance (m): 650/1000, time_to_execute: 2.149565\n",
      "Number of keys delivered: 14/100\n",
      "Distance (m): 700/1000, time_to_execute: 2.190334\n",
      "Number of keys delivered: 15/100\n",
      "Distance (m): 750/1000, time_to_execute: 2.183730\n",
      "Number of keys delivered: 16/100\n",
      "Distance (m): 800/1000, time_to_execute: 2.157311\n",
      "Number of keys delivered: 17/100\n",
      "Distance (m): 850/1000, time_to_execute: 2.175817\n",
      "Number of keys delivered: 18/100\n",
      "Distance (m): 900/1000, time_to_execute: 2.159997\n",
      "Number of keys delivered: 19/100\n",
      "Distance (m): 950/1000, time_to_execute: 2.147600\n",
      "Number of keys delivered: 20/100\n"
     ]
    },
    {
     "data": {
      "text/plain": [
       "\"\\n# iterate over all samples in training set \\nfor orb_idx in range(num_orbits):\\n\\n  # declare total keys delivered over current training sample to be zero initially\\n  total_delivered = 0\\n\\n  t0 = time.time()\\n\\n  # run a random grid search between 0 and 1 over all 3 tunable parameters\\n  for alpha_I in np.random.uniform(low=0.0,high=1.0,size=(grid_size)):\\n    for alpha_w in np.random.uniform(low=0.0,high=1.0,size=(grid_size)):\\n      for alpha_d in np.random.uniform(low=0.0,high=1.0,size=(grid_size)):\\n\\n        # simulate one orbit of satellite\\n        alpha_values = np.array([alpha_I,alpha_w,alpha_d])\\n        total_delivered, cust_prob = simulate_satellite_orbit(alpha_values,orb_idx,total_delivered,cust_prob)\\n\\n  # record time to compute\\n  t1 = time.time()\\n  total_time = t1-t0\\n  print('Orbit: %d/%d, total time to execute: %.6f' % (orb_idx,num_orbits,total_time))\\n  done\\n\""
      ]
     },
     "execution_count": 14,
     "metadata": {
      "tags": []
     },
     "output_type": "execute_result"
    }
   ],
   "source": [
    "# tunable weights\n",
    "alpha_I = 1.0\n",
    "alpha_w = 1.0\n",
    "alpha_d = 1.0\n",
    "\n",
    "# sparcity of grid space\n",
    "grid_size = 10\n",
    "\n",
    "# array to be filled with liklihood of key delivered to customer\n",
    "cust_prob = np.zeros((num_orbits,num_customers,1))\n",
    "\n",
    "dist_idx = 0\n",
    "orb_idx = 0 # currently set to first training set sample. will add another for loop later\n",
    "keys_delivered = 0 # set the number of keys delivered initially to zero\n",
    "\n",
    "# iterate through one orbit using the first training sample \n",
    "while dist_idx < max_dist:\n",
    "\n",
    "  # declare total keys delivered over current training sample to be zero initially\n",
    "  total_delivered = 0\n",
    "\n",
    "  # set there to be no keys initially delivered\n",
    "  if dist_idx == 0:\n",
    "    customers_accessed_outside = []\n",
    "\n",
    "  t0 = time.time()\n",
    "  # run a grid search over all 3 tunable parameters\n",
    "  for alpha_I in np.random.uniform(0,1,size=(grid_size)):\n",
    "    for alpha_w in np.random.uniform(0,1,size=(grid_size)):\n",
    "      for alpha_d in np.random.uniform(0,1,size=(grid_size)):\n",
    "\n",
    "        # simulate one orbit of satellite\n",
    "        alpha_values = np.array([alpha_I,alpha_w,alpha_d])\n",
    "        total_delivered, cust_prob = simulate_satellite_orbit(alpha_values,orb_idx,total_delivered,\n",
    "                                                              cust_prob,customers_accessed_outside)\n",
    "        \n",
    "  # record time to compute\n",
    "  t1 = time.time()\n",
    "  total_time = t1-t0\n",
    "\n",
    "  # deliver key\n",
    "  customers_accessed_outside.append(np.argmax(cust_prob))\n",
    "  keys_delivered += 1\n",
    "  print('Distance (m): %d/%d, time_to_execute: %.6f' % (dist_idx,max_dist,total_time))\n",
    "  print('Number of keys delivered: %d/%d' % (keys_delivered,num_customers))\n",
    "\n",
    "  # add some distance traveled by satellite\n",
    "  dist_idx += dist_step"
   ]
  },
  {
   "cell_type": "markdown",
   "metadata": {
    "colab_type": "text",
    "id": "o3_y4ghu1b33"
   },
   "source": [
    "# Genetic Algorithm approach\n",
    "\n",
    "An approach using a genetic algorithm. This closely follows the following towradsdatascience article (https://towardsdatascience.com/genetic-algorithm-implementation-in-python-5ab67bb124a6)"
   ]
  },
  {
   "cell_type": "code",
   "execution_count": 0,
   "metadata": {
    "colab": {},
    "colab_type": "code",
    "collapsed": true,
    "id": "ytObSCKV1puN"
   },
   "outputs": [],
   "source": [
    "class ga:\n",
    "    \"\"\" Class which contains genetic algorithm routines \"\"\"\n",
    "\n",
    "    def cal_pop_fitness(equation_inputs, pop):\n",
    "        # Calculating the fitness value of each solution in the current population.\n",
    "        # The fitness function caulcuates the sum of products between each input and its corresponding weight.\n",
    "        fitness = np.sum(pop*equation_inputs, axis=1)\n",
    "        return fitness\n",
    "\n",
    "    def select_mating_pool(pop, fitness, num_parents):\n",
    "        # Selecting the best individuals in the current generation as parents for producing the offspring of the next generation.\n",
    "        parents = np.empty((num_parents, pop.shape[1]))\n",
    "        for parent_num in range(num_parents):\n",
    "            max_fitness_idx = np.where(fitness == np.max(fitness))\n",
    "            max_fitness_idx = max_fitness_idx[0][0]\n",
    "            parents[parent_num, :] = pop[max_fitness_idx, :]\n",
    "            fitness[max_fitness_idx] = -99999999999\n",
    "        return parents\n",
    "\n",
    "    def crossover(parents, offspring_size):\n",
    "        offspring = np.empty(offspring_size)\n",
    "        # The point at which crossover takes place between two parents. Usually it is at the center.\n",
    "        crossover_point = np.uint8(offspring_size[1]/2)\n",
    "\n",
    "        for k in range(offspring_size[0]):\n",
    "            # Index of the first parent to mate.\n",
    "            parent1_idx = k%parents.shape[0]\n",
    "            # Index of the second parent to mate.\n",
    "            parent2_idx = (k+1)%parents.shape[0]\n",
    "            # The new offspring will have its first half of its genes taken from the first parent.\n",
    "            offspring[k, 0:crossover_point] = parents[parent1_idx, 0:crossover_point]\n",
    "            # The new offspring will have its second half of its genes taken from the second parent.\n",
    "            offspring[k, crossover_point:] = parents[parent2_idx, crossover_point:]\n",
    "        return offspring\n",
    "\n",
    "    def mutation(offspring_crossover):\n",
    "        # Mutation changes a single gene in each offspring randomly.\n",
    "        for idx in range(offspring_crossover.shape[0]):\n",
    "            # The random value to be added to the gene.\n",
    "            random_value = np.random.uniform(-1.0, 1.0, 1)\n",
    "            offspring_crossover[idx, 4] = offspring_crossover[idx, 4] + random_value\n",
    "        return offspring_crossover"
   ]
  },
  {
   "cell_type": "code",
   "execution_count": 19,
   "metadata": {
    "colab": {
     "base_uri": "https://localhost:8080/",
     "height": 395
    },
    "colab_type": "code",
    "executionInfo": {
     "elapsed": 446,
     "status": "ok",
     "timestamp": 1580143835505,
     "user": {
      "displayName": "Hunter Gabbard",
      "photoUrl": "https://lh3.googleusercontent.com/a-/AAuE7mBeByGdbpcMPnUMPS-SqHCioC0przxnWAHQJvpCjw=s64",
      "userId": "09311045780758199106"
     },
     "user_tz": 0
    },
    "id": "BwaoZtwy4Up0",
    "outputId": "5ee25552-6891-40dc-a21a-4f02005d5eaf"
   },
   "outputs": [
    {
     "name": "stdout",
     "output_type": "stream",
     "text": [
      "[[ 3.41058202  1.87705406 -2.72554747 -0.20425706  2.25672034 -0.06847779]\n",
      " [ 3.77927105  3.31377217 -0.33139204  2.98938895 -3.02886416  2.7817044 ]\n",
      " [-0.6089331   2.26650562 -0.12722209 -3.21907605  1.0115203   2.40115522]\n",
      " [ 2.88169422 -3.06835627 -1.18418419  3.76580247 -3.90323853 -0.06228135]\n",
      " [ 3.93745267 -2.50201382  1.0926137   2.2658849   1.5363268   3.73584984]\n",
      " [ 2.12088219  1.2910508   0.52193321  1.17628408 -2.02367356 -1.55459427]\n",
      " [-0.58884551  0.34239715  2.22303273 -0.30796046  0.91455601 -0.32048269]\n",
      " [-2.6159705   1.63568354  0.178851   -0.87183929 -0.80706269  2.02144107]]\n",
      "Generation :  0\n",
      "Best result :  92.89682594576817\n",
      "Generation :  1\n",
      "Best result :  92.94926956156449\n",
      "Generation :  2\n",
      "Best result :  113.076252627512\n",
      "Generation :  3\n",
      "Best result :  113.076252627512\n",
      "Generation :  4\n",
      "Best result :  122.43946795893574\n",
      "Best solution :  [[[ 3.93745267 -2.50201382  1.0926137   3.76580247 -7.15815882\n",
      "   -0.06228135]]]\n",
      "Best solution fitness :  [122.43946796]\n"
     ]
    }
   ],
   "source": [
    "\"\"\"\n",
    "The y=target is to maximize this equation ASAP:\n",
    "    y = w1x1+w2x2+w3x3+w4x4+w5x5+6wx6\n",
    "    where (x1,x2,x3,x4,x5,x6)=(4,-2,3.5,5,-11,-4.7)\n",
    "    What are the best values for the 6 weights w1 to w6?\n",
    "    We are going to use the genetic algorithm for the best possible values after a number of generations.\n",
    "\"\"\"\n",
    "\n",
    "# Inputs of the equation.\n",
    "equation_inputs = [4,-2,3.5,5,-11,-4.7]\n",
    "\n",
    "# Number of the weights we are looking to optimize.\n",
    "num_weights = 6\n",
    "\n",
    "\"\"\"\n",
    "Genetic algorithm parameters:\n",
    "    Mating pool size\n",
    "    Population size\n",
    "\"\"\"\n",
    "sol_per_pop = 8\n",
    "num_parents_mating = 4\n",
    "\n",
    "# Defining the population size.\n",
    "pop_size = (sol_per_pop,num_weights) # The population will have sol_per_pop chromosome where each chromosome has num_weights genes.\n",
    "# Creating the initial population.\n",
    "new_population = np.random.uniform(low=-4.0, high=4.0, size=pop_size)\n",
    "print(new_population)\n",
    "\n",
    "num_generations = 5\n",
    "for generation in range(num_generations):\n",
    "    print(\"Generation : \", generation)\n",
    "    # Measing the fitness of each chromosome in the population.\n",
    "    fitness = ga.cal_pop_fitness(equation_inputs, new_population)\n",
    "\n",
    "    # Selecting the best parents in the population for mating.\n",
    "    parents = ga.select_mating_pool(new_population, fitness, \n",
    "                                      num_parents_mating)\n",
    "\n",
    "    # Generating next generation using crossover.\n",
    "    offspring_crossover = ga.crossover(parents,\n",
    "                                       offspring_size=(pop_size[0]-parents.shape[0], num_weights))\n",
    "\n",
    "    # Adding some variations to the offsrping using mutation.\n",
    "    offspring_mutation = ga.mutation(offspring_crossover)\n",
    "\n",
    "    # Creating the new population based on the parents and offspring.\n",
    "    new_population[0:parents.shape[0], :] = parents\n",
    "    new_population[parents.shape[0]:, :] = offspring_mutation\n",
    "\n",
    "    # The best result in the current iteration.\n",
    "    print(\"Best result : \", np.max(np.sum(new_population*equation_inputs, axis=1)))\n",
    "\n",
    "# Getting the best solution after iterating finishing all generations.\n",
    "# At first, the fitness is calculated for each solution in the final generation.\n",
    "fitness = ga.cal_pop_fitness(equation_inputs, new_population)\n",
    "# Then return the index of that solution corresponding to the best fitness.\n",
    "best_match_idx = np.where(fitness == np.max(fitness))\n",
    "\n",
    "print(\"Best solution : \", new_population[best_match_idx, :])\n",
    "print(\"Best solution fitness : \", fitness[best_match_idx])"
   ]
  },
  {
   "cell_type": "markdown",
   "metadata": {
    "colab_type": "text",
    "id": "wA8HYYRpIPnP"
   },
   "source": [
    "## Emcee approach\n",
    "This will maximize a log probability. So I think I need to make the function positive rather than negative."
   ]
  },
  {
   "cell_type": "code",
   "execution_count": 0,
   "metadata": {
    "colab": {},
    "colab_type": "code",
    "collapsed": true,
    "id": "n3gXcUD6YS8C"
   },
   "outputs": [],
   "source": [
    "# define some hyperparameters\n",
    "Nens = 100   # number of ensemble points\n",
    "\n",
    "mmu = 0.     # mean of the Gaussian prior\n",
    "msigma = 10. # standard deviation of the Gaussian prior\n",
    "\n",
    "mini = np.random.normal(mmu, msigma, Nens) # initial m points\n",
    "\n",
    "cmin = -10.  # lower range of prior\n",
    "cmax = 10.   # upper range of prior\n",
    "\n",
    "cini = np.random.uniform(cmin, cmax, Nens) # initial c points\n",
    "\n",
    "inisamples = np.array([mini, cini]).T # initial samples\n",
    "\n",
    "ndims = inisamples.shape[1] # number of parameters/dimensions\n",
    "\n",
    "Nburnin = 500   # number of burn-in samples\n",
    "Nsamples = 500  # number of final posterior samples"
   ]
  },
  {
   "cell_type": "code",
   "execution_count": 0,
   "metadata": {
    "colab": {},
    "colab_type": "code",
    "collapsed": true,
    "id": "H7Lgbu2MZf_u"
   },
   "outputs": [],
   "source": [
    "# define log posterior, prior and liklihood\n",
    "def logposterior(theta, data, total_delivered, cust_prob):\n",
    "    \"\"\"\n",
    "    The natural logarithm of the joint posterior.\n",
    "\n",
    "    Args:\n",
    "        theta (tuple): a sample containing individual tunable parameter values.\n",
    "        data (list): the set of data/observations. In other\n",
    "        words, the properties which describe each customer on the ground.\n",
    "        x (list): the abscissa values at which the data/model is defined. In other\n",
    "        words, the properties which describe each customer on the ground.\n",
    "    \"\"\"\n",
    "\n",
    "    lp = logprior(theta) # get the prior\n",
    "\n",
    "    # if the prior is not finite return a probability of zero (log probability of -inf)\n",
    "    if not np.isfinite(lp):\n",
    "        return -np.inf\n",
    "\n",
    "    # return the likelihood times the prior (log likelihood plus the log prior)\n",
    "    return lp + loglikelihood(theta, data, total_delivered, cust_prob)\n",
    "\n",
    "def loglikelihood(theta, data, total_delivered, cust_prob):\n",
    "    \"\"\"\n",
    "    The natural logarithm of the joint likelihood.\n",
    "\n",
    "    Args:\n",
    "        theta (tuple): a sample containing individual tunable parameter values\n",
    "        data (list): the set of data/observations. In other\n",
    "        words, the properties which describe each customer on the ground.\n",
    "        sigma (float): the standard deviation of the data points\n",
    "        x (list): the abscissa values at which the data/model is defined. In other\n",
    "        words, the properties which describe each customer on the ground.\n",
    "\n",
    "    Note:\n",
    "        We do not include the normalisation constants (as discussed above).\n",
    "    \"\"\"\n",
    "\n",
    "    # evaluate the model/simulation\n",
    "    md, cust_prob = simulate_satellite_orbit(theta,orb_idx,total_delivered,cust_prob)\n",
    "\n",
    "    # return the log likelihood. (Hunter) Should be a positive number?\n",
    "    return np.log(md)\n",
    "\n",
    "def logprior(theta):\n",
    "    \"\"\"\n",
    "    The natural logarithm of the prior probability.\n",
    "\n",
    "    Args:\n",
    "        theta (tuple): a sample containing individual tunable parameter values\n",
    "\n",
    "    Note:\n",
    "        We can ignore the normalisations of the prior here.\n",
    "    \"\"\"\n",
    "\n",
    "    lp = 0.\n",
    "\n",
    "    # unpack the model parameters from the tuple\n",
    "    alpha_I = theta[0]\n",
    "    alpha_w = theta[1]\n",
    "    alpha_d = theta[2]\n",
    "\n",
    "    # uniform prior on alpha_I\n",
    "    alpha_I_min = 0.0 # lower range of prior\n",
    "    alpha_I_max = 1.0  # upper range of prior\n",
    "\n",
    "    # uniform prior on alpha_w\n",
    "    alpha_w_min = 0.0 # lower range of prior\n",
    "    alpha_w_max = 1.0  # upper range of prior\n",
    "\n",
    "    # uniform prior on alpha_d\n",
    "    alpha_d_min = 0.0 # lower range of prior\n",
    "    alpha_d_max = 1.0  # upper range of prior\n",
    "\n",
    "    # set prior to 1 (log prior to 0) if in the range and zero (-inf) outside the range \n",
    "    lp = 0. if alpha_I_min < alpha_I < alpha_I_max else -np.inf\n",
    "\n",
    "    # set prior to 1 (log prior to 0) if in the range and zero (-inf) outside the range \n",
    "    lp = 0. if alpha_w_min < alpha_w < alpha_w_max else -np.inf\n",
    "\n",
    "    # set prior to 1 (log prior to 0) if in the range and zero (-inf) outside the range \n",
    "    lp = 0. if alpha_d_min < alpha_d < alpha_d_max else -np.inf    \n",
    "\n",
    "    # Gaussian prior on m\n",
    "    #mmu = 0.     # mean of the Gaussian prior\n",
    "    #msigma = 10. # standard deviation of the Gaussian prior\n",
    "    #lp -= 0.5*((m - mmu)/msigma)**2\n",
    "\n",
    "    return lp"
   ]
  },
  {
   "cell_type": "code",
   "execution_count": 0,
   "metadata": {
    "colab": {},
    "colab_type": "code",
    "collapsed": true,
    "id": "qSHMV5DWYZcC"
   },
   "outputs": [],
   "source": [
    "data = []\n",
    "sigma = []\n",
    "x = []\n",
    "\n",
    "# set additional args for the posterior (the data, the noise std. dev., and the abscissa)\n",
    "argslist = (data, sigma, x)\n",
    "\n",
    "# set up the sampler\n",
    "sampler = emcee.EnsembleSampler(Nens, ndims, logposterior, args=argslist)"
   ]
  },
  {
   "cell_type": "code",
   "execution_count": 0,
   "metadata": {
    "colab": {},
    "colab_type": "code",
    "collapsed": true,
    "id": "R4rJqxVHaR-y"
   },
   "outputs": [],
   "source": [
    "\"\"\" Now we can run the sampler! \"\"\"\n",
    "\n",
    "# pass the initial samples and total number of samples required\n",
    "t0 = time() # start time\n",
    "sampler.run_mcmc(inisamples, Nsamples+Nburnin);\n",
    "t1 = time()\n",
    "\n",
    "timeemcee = (t1-t0)\n",
    "print(\"Time taken to run 'emcee' is {} seconds\".format(timeemcee))\n",
    "\n",
    "# extract the samples (removing the burn-in)\n",
    "samples_emcee = sampler.chain[:, Nburnin:, :].reshape((-1, ndims))"
   ]
  },
  {
   "cell_type": "markdown",
   "metadata": {
    "colab_type": "text",
    "id": "jBWBbCcLTEb2"
   },
   "source": [
    "## Function optimization approach\n",
    "\n",
    "Doesn't work signficantly better than the random search approach, but I could be doing something wrong with the arguments of the function."
   ]
  },
  {
   "cell_type": "code",
   "execution_count": 0,
   "metadata": {
    "colab": {},
    "colab_type": "code",
    "collapsed": true,
    "id": "7l32ymppS6j0"
   },
   "outputs": [],
   "source": [
    "import numpy as np\n",
    "from scipy.optimize import minimize"
   ]
  },
  {
   "cell_type": "code",
   "execution_count": 0,
   "metadata": {
    "colab": {
     "base_uri": "https://localhost:8080/",
     "height": 1000
    },
    "colab_type": "code",
    "executionInfo": {
     "elapsed": 1190,
     "status": "ok",
     "timestamp": 1579277238797,
     "user": {
      "displayName": "Hunter Gabbard",
      "photoUrl": "https://lh3.googleusercontent.com/a-/AAuE7mBeByGdbpcMPnUMPS-SqHCioC0przxnWAHQJvpCjw=s64",
      "userId": "09311045780758199106"
     },
     "user_tz": 0
    },
    "id": "dUaR14jaS6kE",
    "outputId": "1d374ced-14fc-4295-acea-7d14be4a0b0f"
   },
   "outputs": [
    {
     "name": "stdout",
     "output_type": "stream",
     "text": [
      "Total delivered has increased to: 13\n",
      "Total delivered has increased to: 13\n",
      "Total delivered has increased to: 13\n",
      "Total delivered has increased to: 13\n",
      "Total delivered has increased to: 13\n",
      "Total delivered has increased to: 13\n",
      "Total delivered has increased to: 13\n",
      "Total delivered has increased to: 13\n",
      "Total delivered has increased to: 13\n",
      "Total delivered has increased to: 13\n",
      "Total delivered has increased to: 13\n",
      "Total delivered has increased to: 13\n",
      "Total delivered has increased to: 13\n",
      "Total delivered has increased to: 13\n",
      "Total delivered has increased to: 13\n",
      "Total delivered has increased to: 13\n",
      "Total delivered has increased to: 13\n",
      "Total delivered has increased to: 13\n",
      "Total delivered has increased to: 13\n",
      "Total delivered has increased to: 13\n",
      "Total delivered has increased to: 13\n",
      "Total delivered has increased to: 13\n",
      "Total delivered has increased to: 13\n",
      "Total delivered has increased to: 13\n",
      "Total delivered has increased to: 13\n",
      "Total delivered has increased to: 13\n",
      "Total delivered has increased to: 13\n",
      "Total delivered has increased to: 13\n",
      "Total delivered has increased to: 13\n",
      "Total delivered has increased to: 13\n",
      "Total delivered has increased to: 13\n",
      "Total delivered has increased to: 13\n",
      "Total delivered has increased to: 13\n",
      "Total delivered has increased to: 13\n",
      "Total delivered has increased to: 13\n",
      "Total delivered has increased to: 13\n",
      "Total delivered has increased to: 13\n",
      "Total delivered has increased to: 13\n",
      "Total delivered has increased to: 13\n",
      "Total delivered has increased to: 13\n",
      "Total delivered has increased to: 13\n",
      "Total delivered has increased to: 13\n",
      "Total delivered has increased to: 13\n",
      "Total delivered has increased to: 13\n",
      "Total delivered has increased to: 13\n",
      "Total delivered has increased to: 13\n",
      "Total delivered has increased to: 13\n",
      "Total delivered has increased to: 13\n",
      "Total delivered has increased to: 13\n",
      "Total delivered has increased to: 13\n",
      "Total delivered has increased to: 13\n",
      "Total delivered has increased to: 13\n",
      "Total delivered has increased to: 13\n",
      "Total delivered has increased to: 13\n",
      "Total delivered has increased to: 13\n",
      "Total delivered has increased to: 13\n",
      "Total delivered has increased to: 13\n",
      "Total delivered has increased to: 13\n",
      "Total delivered has increased to: 13\n",
      "Total delivered has increased to: 13\n",
      "Total delivered has increased to: 13\n",
      "Total delivered has increased to: 13\n",
      "Total delivered has increased to: 13\n",
      "Total delivered has increased to: 13\n",
      "Total delivered has increased to: 13\n",
      "Total delivered has increased to: 13\n",
      "Total delivered has increased to: 13\n",
      "Total delivered has increased to: 13\n",
      "Total delivered has increased to: 13\n",
      "Total delivered has increased to: 13\n",
      "Total delivered has increased to: 13\n",
      "Total delivered has increased to: 13\n",
      "Total delivered has increased to: 13\n",
      "Total delivered has increased to: 13\n",
      "Total delivered has increased to: 13\n",
      "Total delivered has increased to: 13\n",
      "Total delivered has increased to: 13\n",
      "Total delivered has increased to: 13\n",
      "Total delivered has increased to: 13\n",
      "Total delivered has increased to: 13\n",
      "Total delivered has increased to: 13\n",
      "Total delivered has increased to: 13\n",
      "Total delivered has increased to: 13\n",
      "Total delivered has increased to: 13\n",
      "Total delivered has increased to: 13\n",
      "Total delivered has increased to: 13\n",
      "Total delivered has increased to: 13\n",
      "Total delivered has increased to: 13\n",
      "Total delivered has increased to: 13\n",
      "Total delivered has increased to: 13\n",
      "Total delivered has increased to: 13\n",
      "Total delivered has increased to: 13\n",
      "Total delivered has increased to: 13\n",
      "Total delivered has increased to: 13\n",
      "Total delivered has increased to: 13\n",
      "Total delivered has increased to: 13\n",
      "Total delivered has increased to: 13\n",
      "Total delivered has increased to: 13\n",
      "Total delivered has increased to: 13\n",
      "Total delivered has increased to: 13\n",
      "Total delivered has increased to: 13\n",
      "Total delivered has increased to: 13\n",
      "Total delivered has increased to: 13\n",
      "Total delivered has increased to: 13\n",
      "Total delivered has increased to: 13\n",
      "Total delivered has increased to: 13\n",
      "Total delivered has increased to: 13\n",
      "Total delivered has increased to: 13\n",
      "Total delivered has increased to: 13\n",
      "Total delivered has increased to: 13\n",
      "Total delivered has increased to: 13\n",
      "Total delivered has increased to: 13\n",
      "Total delivered has increased to: 13\n",
      "Total delivered has increased to: 13\n",
      "Total delivered has increased to: 13\n",
      "Total delivered has increased to: 13\n",
      "Total delivered has increased to: 13\n",
      "Total delivered has increased to: 13\n",
      "Total delivered has increased to: 13\n",
      "Total delivered has increased to: 13\n",
      "Total delivered has increased to: 13\n",
      "Total delivered has increased to: 13\n",
      "Total delivered has increased to: 13\n",
      "Total delivered has increased to: 13\n",
      "Total delivered has increased to: 13\n",
      "Total delivered has increased to: 13\n",
      "Total delivered has increased to: 13\n",
      "Total delivered has increased to: 13\n",
      "Total delivered has increased to: 13\n",
      "Total delivered has increased to: 13\n",
      "Total delivered has increased to: 13\n",
      "Total delivered has increased to: 13\n",
      "Total delivered has increased to: 13\n",
      "Total delivered has increased to: 13\n",
      "Total delivered has increased to: 13\n",
      "Total delivered has increased to: 13\n",
      "Total delivered has increased to: 13\n",
      "Total delivered has increased to: 13\n",
      "Total delivered has increased to: 13\n",
      "Total delivered has increased to: 13\n",
      "Total delivered has increased to: 13\n",
      "Total delivered has increased to: 13\n",
      "Total delivered has increased to: 13\n",
      "Total delivered has increased to: 13\n",
      "Total delivered has increased to: 13\n",
      "Total delivered has increased to: 13\n",
      "Total delivered has increased to: 13\n",
      "Total delivered has increased to: 13\n",
      "Total delivered has increased to: 13\n",
      "Total delivered has increased to: 13\n",
      "Total delivered has increased to: 13\n",
      "Total delivered has increased to: 13\n",
      "Total delivered has increased to: 13\n",
      "Total delivered has increased to: 13\n",
      "Total delivered has increased to: 13\n",
      "Total delivered has increased to: 13\n",
      "Total delivered has increased to: 13\n",
      "Total delivered has increased to: 13\n",
      "Total delivered has increased to: 13\n",
      "Total delivered has increased to: 13\n",
      "Total delivered has increased to: 13\n",
      "Total delivered has increased to: 13\n",
      "Total delivered has increased to: 13\n",
      "Total delivered has increased to: 13\n",
      "Total delivered has increased to: 13\n",
      "Total delivered has increased to: 13\n",
      "Total delivered has increased to: 13\n",
      "Total delivered has increased to: 13\n",
      "Total delivered has increased to: 13\n",
      "Total delivered has increased to: 13\n",
      "Total delivered has increased to: 13\n",
      "Total delivered has increased to: 13\n",
      "Total delivered has increased to: 13\n",
      "Total delivered has increased to: 13\n",
      "Total delivered has increased to: 13\n",
      "Total delivered has increased to: 13\n",
      "Total delivered has increased to: 13\n",
      "Total delivered has increased to: 13\n",
      "Total delivered has increased to: 13\n",
      "Optimization terminated successfully.\n",
      "         Current function value: -13.000000\n",
      "         Iterations: 36\n",
      "         Function evaluations: 179\n",
      "Total time to optimize: 0.752405\n"
     ]
    }
   ],
   "source": [
    "# set total delivered keys initially to zero\n",
    "total_delivered = None\n",
    "orb_idx = 0\n",
    "\n",
    "# array to be filled with liklihood of key delivered to customer\n",
    "cust_prob = np.zeros((num_orbits,num_customers,1))\n",
    "\n",
    "# sparcity of grid space\n",
    "grid_size = 10\n",
    "\n",
    "# define initial guesses for the tunable hyperparameters\n",
    "alpha_values_0 = np.random.uniform(low=0.0, high=1.0, size=3)\n",
    "\n",
    "# tell function to only return the number of keys delivered (this is specifically for the scipy minimization procedure)\n",
    "scipy_optim_flag = True\n",
    "\n",
    "t0 = time.time()\n",
    "# minimize the function\n",
    "res = minimize(simulate_satellite_orbit, alpha_values_0, args=(orb_idx,total_delivered,cust_prob,scipy_optim_flag), method='Nelder-Mead', tol=1e-12,\n",
    "               options={'disp': True})\n",
    "t1 = time.time()\n",
    "total_time = t1-t0\n",
    "print('Total time to optimize: %.6f' % total_time)"
   ]
  },
  {
   "cell_type": "code",
   "execution_count": 0,
   "metadata": {
    "colab": {
     "base_uri": "https://localhost:8080/",
     "height": 35
    },
    "colab_type": "code",
    "executionInfo": {
     "elapsed": 1903,
     "status": "ok",
     "timestamp": 1578929024489,
     "user": {
      "displayName": "Hunter Gabbard",
      "photoUrl": "https://lh3.googleusercontent.com/a-/AAuE7mBeByGdbpcMPnUMPS-SqHCioC0przxnWAHQJvpCjw=s64",
      "userId": "09311045780758199106"
     },
     "user_tz": 0
    },
    "id": "GapXjgfyS6kI",
    "outputId": "81c1da51-39bf-4e28-f118-f85676a879ee"
   },
   "outputs": [
    {
     "data": {
      "text/plain": [
       "array([0.0652295 , 0.49421507, 0.33673122])"
      ]
     },
     "execution_count": 99,
     "metadata": {
      "tags": []
     },
     "output_type": "execute_result"
    }
   ],
   "source": [
    "res.x"
   ]
  },
  {
   "cell_type": "code",
   "execution_count": 0,
   "metadata": {
    "colab": {
     "base_uri": "https://localhost:8080/",
     "height": 35
    },
    "colab_type": "code",
    "executionInfo": {
     "elapsed": 1848,
     "status": "ok",
     "timestamp": 1578929028350,
     "user": {
      "displayName": "Hunter Gabbard",
      "photoUrl": "https://lh3.googleusercontent.com/a-/AAuE7mBeByGdbpcMPnUMPS-SqHCioC0przxnWAHQJvpCjw=s64",
      "userId": "09311045780758199106"
     },
     "user_tz": 0
    },
    "id": "VDSvRYjlXYQ3",
    "outputId": "cecbc37e-df38-4765-d5a2-9439443a574e"
   },
   "outputs": [
    {
     "name": "stdout",
     "output_type": "stream",
     "text": [
      "17\n"
     ]
    }
   ],
   "source": [
    " alpha_values = res.x\n",
    " total_delivered, cust_prob = simulate_satellite_orbit(alpha_values,orb_idx,total_delivered,\n",
    "                                                              cust_prob)\n",
    " print(total_delivered)"
   ]
  },
  {
   "cell_type": "markdown",
   "metadata": {
    "colab_type": "text",
    "id": "s3RTetMLJWDm"
   },
   "source": [
    "## Pymc3 approach"
   ]
  },
  {
   "cell_type": "code",
   "execution_count": 0,
   "metadata": {
    "colab": {
     "base_uri": "https://localhost:8080/",
     "height": 323
    },
    "colab_type": "code",
    "executionInfo": {
     "elapsed": 6638,
     "status": "ok",
     "timestamp": 1578492035357,
     "user": {
      "displayName": "Hunter Gabbard",
      "photoUrl": "https://lh3.googleusercontent.com/a-/AAuE7mBeByGdbpcMPnUMPS-SqHCioC0przxnWAHQJvpCjw=s64",
      "userId": "09311045780758199106"
     },
     "user_tz": 0
    },
    "id": "Q8qQ0ULYL4wK",
    "outputId": "b90efa2b-d876-4865-d324-7f89e7223532"
   },
   "outputs": [
    {
     "name": "stdout",
     "output_type": "stream",
     "text": [
      "Collecting corner\n",
      "  Downloading https://files.pythonhosted.org/packages/65/af/a7ba022f2d5787f51db91b5550cbe8e8c40a6eebd8f15119e743a09a9c19/corner-2.0.1.tar.gz\n",
      "Requirement already satisfied: numpy in /usr/local/lib/python3.6/dist-packages (from corner) (1.17.4)\n",
      "Requirement already satisfied: matplotlib in /usr/local/lib/python3.6/dist-packages (from corner) (3.1.2)\n",
      "Requirement already satisfied: pyparsing!=2.0.4,!=2.1.2,!=2.1.6,>=2.0.1 in /usr/local/lib/python3.6/dist-packages (from matplotlib->corner) (2.4.5)\n",
      "Requirement already satisfied: kiwisolver>=1.0.1 in /usr/local/lib/python3.6/dist-packages (from matplotlib->corner) (1.1.0)\n",
      "Requirement already satisfied: python-dateutil>=2.1 in /usr/local/lib/python3.6/dist-packages (from matplotlib->corner) (2.6.1)\n",
      "Requirement already satisfied: cycler>=0.10 in /usr/local/lib/python3.6/dist-packages (from matplotlib->corner) (0.10.0)\n",
      "Requirement already satisfied: setuptools in /usr/local/lib/python3.6/dist-packages (from kiwisolver>=1.0.1->matplotlib->corner) (42.0.2)\n",
      "Requirement already satisfied: six>=1.5 in /usr/local/lib/python3.6/dist-packages (from python-dateutil>=2.1->matplotlib->corner) (1.12.0)\n",
      "Building wheels for collected packages: corner\n",
      "  Building wheel for corner (setup.py) ... \u001b[?25l\u001b[?25hdone\n",
      "  Created wheel for corner: filename=corner-2.0.1-cp36-none-any.whl size=11643 sha256=222c5ce76a8767866b3ddb6da38098afa6f366576acb957a1051de152f157877\n",
      "  Stored in directory: /root/.cache/pip/wheels/70/d8/e5/e0e7974a2a5757483ea5a180c937041cf6872dc9993d78234a\n",
      "Successfully built corner\n",
      "Installing collected packages: corner\n",
      "Successfully installed corner-2.0.1\n"
     ]
    }
   ],
   "source": [
    "import pymc3 as pm\n",
    "from pymc3 import *\n",
    "!pip install corner"
   ]
  },
  {
   "cell_type": "code",
   "execution_count": 0,
   "metadata": {
    "colab": {},
    "colab_type": "code",
    "collapsed": true,
    "id": "xwtrd3wUdQpi"
   },
   "outputs": [],
   "source": [
    "import corner"
   ]
  },
  {
   "cell_type": "code",
   "execution_count": 0,
   "metadata": {
    "colab": {
     "base_uri": "https://localhost:8080/",
     "height": 125
    },
    "colab_type": "code",
    "executionInfo": {
     "elapsed": 12862,
     "status": "ok",
     "timestamp": 1578491700441,
     "user": {
      "displayName": "Hunter Gabbard",
      "photoUrl": "https://lh3.googleusercontent.com/a-/AAuE7mBeByGdbpcMPnUMPS-SqHCioC0przxnWAHQJvpCjw=s64",
      "userId": "09311045780758199106"
     },
     "user_tz": 0
    },
    "id": "0BXAthGfPzYa",
    "outputId": "2c1fff66-55ec-4645-edb1-faca00ed136a"
   },
   "outputs": [
    {
     "name": "stderr",
     "output_type": "stream",
     "text": [
      "Auto-assigning NUTS sampler...\n",
      "Initializing NUTS using jitter+adapt_diag...\n",
      "Multiprocess sampling (2 chains in 2 jobs)\n",
      "NUTS: [x, Intercept, sigma]\n",
      "Sampling 2 chains: 100%|██████████| 7000/7000 [00:10<00:00, 662.46draws/s]\n",
      "The acceptance probability does not match the target. It is 0.8788238061031783, but should be close to 0.8. Try to increase the number of tuning steps.\n"
     ]
    }
   ],
   "source": [
    "N_SAMPLES = 1\n",
    "y = np.linspace(0, 1, num_customers)\n",
    "x = batch_feature_data[0,:,2] * batch_feature_data[0,:,3]\n",
    "\n",
    "with pm.Model() as model:\n",
    "\n",
    "    # Define priors\n",
    "    sigma = HalfCauchy('sigma', beta=10, testval=1.)\n",
    "    intercept = Normal('Intercept', 0, sigma=20)\n",
    "    x_coeff = Normal('x', 0, sigma=20)\n",
    "\n",
    "    # Define likelihood\n",
    "    likelihood = Normal('y', mu=intercept + x_coeff * (batch_feature_data[0,:,2] * \n",
    "                                               batch_feature_data[0,:,3]),\n",
    "                        sigma=sigma, observed=y)\n",
    "\n",
    "    # Inference!\n",
    "    trace = sample(3000, cores=2) # draw 3000 posterior samples using NUTS sampling\n",
    "    \n",
    "    \"\"\"\n",
    "    # Create the alpha and beta parameters\n",
    "    # Assume a uniform distribution for customer factors\n",
    "    alpha_i = pm.Uniform('alpha', lower=0.0, upper=1.0)\n",
    "    alpha_w = pm.Uniform('beta', lower=0.0, upper=1.0)\n",
    "    \n",
    "    # The sleep probability is modeled as a logistic function\n",
    "    p = pm.Deterministic('p', alpha_i * alpha_w)\n",
    "    \n",
    "    # Create the bernoulli parameter which uses observed data to inform the algorithm\n",
    "    observed = pm.Bernoulli('obs', p, observed=sleep_obs)\n",
    "    \n",
    "    # Using Metropolis Hastings Sampling\n",
    "    step = pm.Metropolis()\n",
    "    \n",
    "    # Draw the specified number of samples\n",
    "    sleep_trace = pm.sample(N_SAMPLES, step=step);\n",
    "    \"\"\""
   ]
  },
  {
   "cell_type": "code",
   "execution_count": 0,
   "metadata": {
    "colab": {
     "base_uri": "https://localhost:8080/",
     "height": 178
    },
    "colab_type": "code",
    "executionInfo": {
     "elapsed": 756,
     "status": "ok",
     "timestamp": 1578491711300,
     "user": {
      "displayName": "Hunter Gabbard",
      "photoUrl": "https://lh3.googleusercontent.com/a-/AAuE7mBeByGdbpcMPnUMPS-SqHCioC0przxnWAHQJvpCjw=s64",
      "userId": "09311045780758199106"
     },
     "user_tz": 0
    },
    "id": "NRvmcopJb_Ib",
    "outputId": "780b840d-c458-4f86-9dc7-a0fb976b4d66"
   },
   "outputs": [
    {
     "name": "stderr",
     "output_type": "stream",
     "text": [
      "/usr/local/lib/python3.6/dist-packages/pymc3/stats.py:991: FutureWarning: The join_axes-keyword is deprecated. Use .reindex or .reindex_like on the result to achieve the same functionality.\n",
      "  axis=1, join_axes=[dforg.index])\n"
     ]
    },
    {
     "data": {
      "text/html": [
       "<div>\n",
       "<style scoped>\n",
       "    .dataframe tbody tr th:only-of-type {\n",
       "        vertical-align: middle;\n",
       "    }\n",
       "\n",
       "    .dataframe tbody tr th {\n",
       "        vertical-align: top;\n",
       "    }\n",
       "\n",
       "    .dataframe thead th {\n",
       "        text-align: right;\n",
       "    }\n",
       "</style>\n",
       "<table border=\"1\" class=\"dataframe\">\n",
       "  <thead>\n",
       "    <tr style=\"text-align: right;\">\n",
       "      <th></th>\n",
       "      <th>mean</th>\n",
       "      <th>sd</th>\n",
       "      <th>mc_error</th>\n",
       "      <th>hpd_2.5</th>\n",
       "      <th>hpd_97.5</th>\n",
       "      <th>n_eff</th>\n",
       "      <th>Rhat</th>\n",
       "    </tr>\n",
       "  </thead>\n",
       "  <tbody>\n",
       "    <tr>\n",
       "      <th>Intercept</th>\n",
       "      <td>0.479099</td>\n",
       "      <td>0.048414</td>\n",
       "      <td>0.000685</td>\n",
       "      <td>0.385118</td>\n",
       "      <td>0.571726</td>\n",
       "      <td>3397.024420</td>\n",
       "      <td>1.000096</td>\n",
       "    </tr>\n",
       "    <tr>\n",
       "      <th>x</th>\n",
       "      <td>0.085556</td>\n",
       "      <td>0.158708</td>\n",
       "      <td>0.002573</td>\n",
       "      <td>-0.239731</td>\n",
       "      <td>0.380710</td>\n",
       "      <td>3136.921913</td>\n",
       "      <td>1.000491</td>\n",
       "    </tr>\n",
       "    <tr>\n",
       "      <th>sigma</th>\n",
       "      <td>0.298162</td>\n",
       "      <td>0.021774</td>\n",
       "      <td>0.000364</td>\n",
       "      <td>0.257168</td>\n",
       "      <td>0.340624</td>\n",
       "      <td>3839.650004</td>\n",
       "      <td>0.999853</td>\n",
       "    </tr>\n",
       "  </tbody>\n",
       "</table>\n",
       "</div>"
      ],
      "text/plain": [
       "               mean        sd  mc_error  ...  hpd_97.5        n_eff      Rhat\n",
       "Intercept  0.479099  0.048414  0.000685  ...  0.571726  3397.024420  1.000096\n",
       "x          0.085556  0.158708  0.002573  ...  0.380710  3136.921913  1.000491\n",
       "sigma      0.298162  0.021774  0.000364  ...  0.340624  3839.650004  0.999853\n",
       "\n",
       "[3 rows x 7 columns]"
      ]
     },
     "execution_count": 26,
     "metadata": {
      "tags": []
     },
     "output_type": "execute_result"
    }
   ],
   "source": [
    "pm.summary(trace)"
   ]
  },
  {
   "cell_type": "code",
   "execution_count": 0,
   "metadata": {
    "colab": {
     "base_uri": "https://localhost:8080/",
     "height": 53
    },
    "colab_type": "code",
    "executionInfo": {
     "elapsed": 729,
     "status": "ok",
     "timestamp": 1578493813836,
     "user": {
      "displayName": "Hunter Gabbard",
      "photoUrl": "https://lh3.googleusercontent.com/a-/AAuE7mBeByGdbpcMPnUMPS-SqHCioC0przxnWAHQJvpCjw=s64",
      "userId": "09311045780758199106"
     },
     "user_tz": 0
    },
    "id": "IrUWt7HFd5GB",
    "outputId": "717c1770-89d4-4c7d-c5f7-86354323c516"
   },
   "outputs": [
    {
     "name": "stdout",
     "output_type": "stream",
     "text": [
      "0.33764414905686424 0.3925981599911167\n",
      "0.49044017260061495\n"
     ]
    }
   ],
   "source": [
    "cust_idx = 2\n",
    "print(batch_feature_data[0,cust_idx,2], batch_feature_data[0,cust_idx,3])\n",
    "print(0.085556 * (batch_feature_data[0,cust_idx,2] * batch_feature_data[0,cust_idx,3]) + 0.479099)"
   ]
  },
  {
   "cell_type": "code",
   "execution_count": 0,
   "metadata": {
    "colab": {
     "base_uri": "https://localhost:8080/",
     "height": 509
    },
    "colab_type": "code",
    "executionInfo": {
     "elapsed": 14130,
     "status": "ok",
     "timestamp": 1578493135234,
     "user": {
      "displayName": "Hunter Gabbard",
      "photoUrl": "https://lh3.googleusercontent.com/a-/AAuE7mBeByGdbpcMPnUMPS-SqHCioC0przxnWAHQJvpCjw=s64",
      "userId": "09311045780758199106"
     },
     "user_tz": 0
    },
    "id": "AjX4CDQpcmMq",
    "outputId": "ac4d4925-b9d5-4ac7-d091-7284c7c1c039"
   },
   "outputs": [
    {
     "data": {
      "image/png": "[encoded data removed]",
      "text/plain": [
       "<Figure size 547.2x547.2 with 9 Axes>"
      ]
     },
     "metadata": {
      "tags": []
     },
     "output_type": "display_data"
    }
   ],
   "source": [
    "\n",
    "fig = corner.corner(np.array([trace['sigma'],trace['x'], trace['Intercept']]).T)"
   ]
  },
  {
   "cell_type": "markdown",
   "metadata": {
    "colab_type": "text",
    "id": "kFBW63NPkBQ5"
   },
   "source": [
    "# Pymc3 approach\n"
   ]
  },
  {
   "cell_type": "code",
   "execution_count": 0,
   "metadata": {
    "colab": {},
    "colab_type": "code",
    "collapsed": true,
    "id": "cm41uYu8lYtT"
   },
   "outputs": [],
   "source": [
    "# define model\n",
    "with pm.Model() as model:\n",
    "    mu = pm.Normal('mu', mu=0, sigma=1)\n",
    "    obs = pm.Normal('obs', mu=mu, sigma=1, observed=np.random.randn(100))\n",
    "\n",
    "    model.basic_RVs\n",
    "    model.free_RVs\n",
    "    model.observed_RVs\n",
    "    model.logp({'mu': 0})\n",
    "\n",
    "    \n"
   ]
  },
  {
   "cell_type": "code",
   "execution_count": 0,
   "metadata": {
    "colab": {},
    "colab_type": "code",
    "collapsed": true,
    "id": "Vcsg1BC-OGmq"
   },
   "outputs": [],
   "source": []
  }
 ],
 "metadata": {
  "colab": {
   "collapsed_sections": [],
   "name": "terminal_link_optimization.ipynb",
   "provenance": [
    {
     "file_id": "https://github.com/hagabbar/craft_prospect/blob/master/terminal_link_optimization/main_tensorflow_version.ipynb",
     "timestamp": 1576161559250
    }
   ]
  },
  "kernelspec": {
   "display_name": "Python 3",
   "language": "python",
   "name": "python3"
  },
  "language_info": {
   "codemirror_mode": {
    "name": "ipython",
    "version": 3
   },
   "file_extension": ".py",
   "mimetype": "text/x-python",
   "name": "python",
   "nbconvert_exporter": "python",
   "pygments_lexer": "ipython3",
   "version": "3.6.9"
  }
 },
 "nbformat": 4,
 "nbformat_minor": 1
}
