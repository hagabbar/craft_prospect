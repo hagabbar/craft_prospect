{
  "nbformat": 4,
  "nbformat_minor": 0,
  "metadata": {
    "kernelspec": {
      "name": "python3",
      "display_name": "Python 3"
    },
    "language_info": {
      "codemirror_mode": {
        "name": "ipython",
        "version": 3
      },
      "file_extension": ".py",
      "mimetype": "text/x-python",
      "name": "python",
      "nbconvert_exporter": "python",
      "pygments_lexer": "ipython3",
      "version": "3.6.8"
    },
    "colab": {
      "name": "main.ipynb",
      "provenance": [],
      "collapsed_sections": [],
      "include_colab_link": true
    },
    "accelerator": "GPU"
  },
  "cells": [
    {
      "cell_type": "markdown",
      "metadata": {
        "id": "view-in-github",
        "colab_type": "text"
      },
      "source": [
        "<a href=\"https://colab.research.google.com/github/hagabbar/craft_prospect/blob/master/main.ipynb\" target=\"_parent\"><img src=\"https://colab.research.google.com/assets/colab-badge.svg\" alt=\"Open In Colab\"/></a>"
      ]
    },
    {
      "cell_type": "code",
      "metadata": {
        "id": "x0d8svffgxxl",
        "colab_type": "code",
        "outputId": "dbaf8500-44ac-49d1-e2b3-32bf5c4850bf",
        "colab": {
          "base_uri": "https://localhost:8080/",
          "height": 35
        }
      },
      "source": [
        "import numpy as np\n",
        "from keras import Sequential\n",
        "from keras.layers import LSTM, Dense, Embedding, SpatialDropout1D\n"
      ],
      "execution_count": 2,
      "outputs": [
        {
          "output_type": "stream",
          "text": [
            "Using TensorFlow backend.\n"
          ],
          "name": "stderr"
        }
      ]
    },
    {
      "cell_type": "code",
      "metadata": {
        "id": "_z3_M173gxx1",
        "colab_type": "code",
        "colab": {}
      },
      "source": [
        "\"\"\"\n",
        "This is a script which will check for non-random subsequences \n",
        "from the quantum random number generator onboard the CubeSat. \n",
        "The code will first perform a benchmark suite of tests known \n",
        "as Diehard tests. We will then use the results from these \n",
        "tests in order to train and compare the results of a \n",
        "neural network approach (LSTMs).\n",
        "\"\"\"\n",
        "\n",
        "# Define important global variables here\n",
        "tot_num_samples = 2000 # total number of training samples (50/50 split between rand and non-rand)\n",
        "train_split = int(int(tot_num_samples/2) * 0.9) # use 90% for training, 10% for testing\n",
        "bitstream_len = 32     # length of observation window of network\n",
        "batch_size = 8         # batch size (how many samples NN sees during each iteration)\n",
        "true_rand_url = \"https://raw.githubusercontent.com/hagabbar/craft_prospect/master/true_random_nums.txt\"\n",
        "\n",
        "# Generate a set of pseudo random numbers\n",
        "pseudo_rand_data_train = np.random.randint(low=0,high=2,size=(train_split,bitstream_len))\n",
        "pseudo_rand_data_test = np.random.randint(low=0,high=2,size=(int(tot_num_samples/2) - train_split,bitstream_len))\n",
        "pseudo_rand_labels_train = np.ones(train_split)\n",
        "pseudo_rand_labels_test = np.ones(int(tot_num_samples/2) - train_split)\n",
        "\n",
        "# Load in set of true random numbers\n",
        "true_rand_data_train = np.loadtxt(true_rand_url)[:train_split,:]\n",
        "true_rand_data_test = np.loadtxt(true_rand_url)[train_split:int(tot_num_samples/2),:]\n",
        "true_rand_labels_train = np.zeros(train_split)\n",
        "true_rand_labels_test = np.zeros(int(tot_num_samples/2) - train_split)\n",
        "\n",
        "# Combine all data and labels into two arrays (x and y respectively)\n",
        "X_train = np.concatenate((pseudo_rand_data_train,true_rand_data_train))\n",
        "X_test = np.concatenate((pseudo_rand_data_test,true_rand_data_test))\n",
        "Y_train = np.concatenate((pseudo_rand_labels_train,true_rand_labels_train))\n",
        "Y_test = np.concatenate((pseudo_rand_labels_test,true_rand_labels_test))\n",
        "\n",
        "# Randomly shuffle training sets\n",
        "idx_shuffle = np.random.permutation(int(train_split*2))\n",
        "X_train = X_train[idx_shuffle,:]\n",
        "Y_train = Y_train[idx_shuffle]\n"
      ],
      "execution_count": 0,
      "outputs": []
    },
    {
      "cell_type": "code",
      "metadata": {
        "id": "kZUcP44ugxyG",
        "colab_type": "code",
        "outputId": "be888cfb-c3d5-44ab-9090-37b67332db5b",
        "colab": {
          "base_uri": "https://localhost:8080/",
          "height": 143
        }
      },
      "source": [
        "print(X_test)"
      ],
      "execution_count": 4,
      "outputs": [
        {
          "output_type": "stream",
          "text": [
            "[[1. 0. 1. ... 0. 0. 1.]\n",
            " [0. 0. 0. ... 1. 1. 1.]\n",
            " [0. 0. 1. ... 1. 1. 0.]\n",
            " ...\n",
            " [0. 1. 0. ... 1. 0. 0.]\n",
            " [1. 1. 1. ... 1. 0. 1.]\n",
            " [0. 0. 0. ... 0. 1. 1.]]\n"
          ],
          "name": "stdout"
        }
      ]
    },
    {
      "cell_type": "code",
      "metadata": {
        "id": "DjskvhCbgxyM",
        "colab_type": "code",
        "outputId": "4d7995e3-ae6d-41dc-a96c-8ff99ab02d6a",
        "colab": {
          "base_uri": "https://localhost:8080/",
          "height": 467
        }
      },
      "source": [
        "# Set-up LSTM network\n",
        "embed_dim = 128\n",
        "lstm_out = 200\n",
        "batch_size = 32\n",
        "\n",
        "model = Sequential()\n",
        "model.add(Embedding(2500, embed_dim,input_length = bitstream_len))\n",
        "SpatialDropout1D(0.2)\n",
        "model.add(LSTM(lstm_out, dropout_U = 0.2, return_sequences=True, dropout_W = 0.2))\n",
        "model.add(LSTM(lstm_out, dropout_U = 0.2, return_sequences=True, dropout_W = 0.2))\n",
        "model.add(LSTM(lstm_out, dropout_U = 0.2, dropout_W = 0.2))\n",
        "model.add(Dense(1,activation='sigmoid'))\n",
        "model.compile(loss = 'mean_squared_error', optimizer='adam',metrics = ['accuracy'])\n",
        "print(model.summary())"
      ],
      "execution_count": 15,
      "outputs": [
        {
          "output_type": "stream",
          "text": [
            "/usr/local/lib/python3.6/dist-packages/ipykernel_launcher.py:8: UserWarning: Update your `LSTM` call to the Keras 2 API: `LSTM(200, return_sequences=True, dropout=0.2, recurrent_dropout=0.2)`\n",
            "  \n",
            "/usr/local/lib/python3.6/dist-packages/ipykernel_launcher.py:9: UserWarning: Update your `LSTM` call to the Keras 2 API: `LSTM(200, return_sequences=True, dropout=0.2, recurrent_dropout=0.2)`\n",
            "  if __name__ == '__main__':\n",
            "/usr/local/lib/python3.6/dist-packages/ipykernel_launcher.py:10: UserWarning: Update your `LSTM` call to the Keras 2 API: `LSTM(200, dropout=0.2, recurrent_dropout=0.2)`\n",
            "  # Remove the CWD from sys.path while we load stuff.\n"
          ],
          "name": "stderr"
        },
        {
          "output_type": "stream",
          "text": [
            "Model: \"sequential_5\"\n",
            "_________________________________________________________________\n",
            "Layer (type)                 Output Shape              Param #   \n",
            "=================================================================\n",
            "embedding_5 (Embedding)      (None, 32, 128)           320000    \n",
            "_________________________________________________________________\n",
            "lstm_7 (LSTM)                (None, 32, 200)           263200    \n",
            "_________________________________________________________________\n",
            "lstm_8 (LSTM)                (None, 32, 200)           320800    \n",
            "_________________________________________________________________\n",
            "lstm_9 (LSTM)                (None, 200)               320800    \n",
            "_________________________________________________________________\n",
            "dense_4 (Dense)              (None, 1)                 201       \n",
            "=================================================================\n",
            "Total params: 1,225,001\n",
            "Trainable params: 1,225,001\n",
            "Non-trainable params: 0\n",
            "_________________________________________________________________\n",
            "None\n"
          ],
          "name": "stdout"
        }
      ]
    },
    {
      "cell_type": "code",
      "metadata": {
        "id": "SXcu0cSbgxyY",
        "colab_type": "code",
        "outputId": "4c0d6b20-ec5b-448f-9598-b262292042e9",
        "colab": {
          "base_uri": "https://localhost:8080/",
          "height": 215
        }
      },
      "source": [
        "# Train LSTM network\n",
        "model.fit(X_train, Y_train, batch_size =batch_size, epochs = 10,  verbose = 5)"
      ],
      "execution_count": 16,
      "outputs": [
        {
          "output_type": "stream",
          "text": [
            "Epoch 1/10\n",
            "Epoch 2/10\n",
            "Epoch 3/10\n",
            "Epoch 4/10\n",
            "Epoch 5/10\n",
            "Epoch 6/10\n",
            "Epoch 7/10\n",
            "Epoch 8/10\n",
            "Epoch 9/10\n",
            "Epoch 10/10\n"
          ],
          "name": "stdout"
        },
        {
          "output_type": "execute_result",
          "data": {
            "text/plain": [
              "<keras.callbacks.History at 0x7fbe1600f7f0>"
            ]
          },
          "metadata": {
            "tags": []
          },
          "execution_count": 16
        }
      ]
    },
    {
      "cell_type": "code",
      "metadata": {
        "id": "6VmUI9YPgxyd",
        "colab_type": "code",
        "outputId": "73c92faf-6769-48f4-ad79-46898db46c34",
        "colab": {
          "base_uri": "https://localhost:8080/",
          "height": 53
        }
      },
      "source": [
        "score,acc = model.evaluate(X_test,Y_test,batch_size=batch_size,verbose=2)\n",
        "print(\"Score: %.2f\" % (score))\n",
        "print(\"Validation Accuracy: %.2f\" % (acc))"
      ],
      "execution_count": 17,
      "outputs": [
        {
          "output_type": "stream",
          "text": [
            "Score: 0.25\n",
            "Validation Accuracy: 0.51\n"
          ],
          "name": "stdout"
        }
      ]
    },
    {
      "cell_type": "code",
      "metadata": {
        "id": "aZ7ej2RQgxyx",
        "colab_type": "code",
        "colab": {}
      },
      "source": [
        ""
      ],
      "execution_count": 0,
      "outputs": []
    }
  ]
}