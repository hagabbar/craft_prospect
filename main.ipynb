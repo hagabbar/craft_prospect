{
  "nbformat": 4,
  "nbformat_minor": 0,
  "metadata": {
    "kernelspec": {
      "name": "python3",
      "display_name": "Python 3"
    },
    "language_info": {
      "codemirror_mode": {
        "name": "ipython",
        "version": 3
      },
      "file_extension": ".py",
      "mimetype": "text/x-python",
      "name": "python",
      "nbconvert_exporter": "python",
      "pygments_lexer": "ipython3",
      "version": "3.6.8"
    },
    "colab": {
      "name": "main.ipynb",
      "provenance": [],
      "collapsed_sections": [],
      "include_colab_link": true
    },
    "accelerator": "GPU"
  },
  "cells": [
    {
      "cell_type": "markdown",
      "metadata": {
        "id": "view-in-github",
        "colab_type": "text"
      },
      "source": [
        "<a href=\"https://colab.research.google.com/github/hagabbar/craft_prospect/blob/master/main.ipynb\" target=\"_parent\"><img src=\"https://colab.research.google.com/assets/colab-badge.svg\" alt=\"Open In Colab\"/></a>"
      ]
    },
    {
      "cell_type": "code",
      "metadata": {
        "id": "x0d8svffgxxl",
        "colab_type": "code",
        "outputId": "2e67f7fe-2f5f-44fd-e352-8513ca1b362f",
        "colab": {
          "base_uri": "https://localhost:8080/",
          "height": 35
        }
      },
      "source": [
        "# Import required scripts to run\n",
        "import numpy as np\n",
        "from keras import Sequential\n",
        "from keras.layers import LSTM, Dense, Embedding, SpatialDropout1D\n"
      ],
      "execution_count": 0,
      "outputs": [
        {
          "output_type": "stream",
          "text": [
            "Using TensorFlow backend.\n"
          ],
          "name": "stderr"
        }
      ]
    },
    {
      "cell_type": "code",
      "metadata": {
        "id": "_z3_M173gxx1",
        "colab_type": "code",
        "colab": {}
      },
      "source": [
        "\"\"\"\n",
        "This is a script which will check for non-random subsequences \n",
        "from the quantum random number generator onboard the CubeSat. \n",
        "The code will first perform a benchmark suite of tests known \n",
        "as Diehard tests. We will then use the results from these \n",
        "tests in order to train and compare the results of a \n",
        "neural network approach (LSTMs).\n",
        "\"\"\"\n",
        "\n",
        "# Define important global variables here\n",
        "tot_num_samples = 10000 # total number of training samples (50/50 split between rand and non-rand)\n",
        "train_split = int(int(tot_num_samples/2) * 0.9) # use 90% for training, 10% for testing\n",
        "bitstream_len = 32     # length of observation window of network\n",
        "batch_size = 8         # batch size (how many samples NN sees during each iteration)\n",
        "#true_rand_url = \"https://raw.githubusercontent.com/hagabbar/craft_prospect/master/key_assurance/true_random_nums.txt\"\n",
        "\n",
        "# Generate a set of pseudo random numbers\n",
        "pseudo_rand_data_train = np.random.uniform(low=0,high=32,size=(train_split,bitstream_len))\n",
        "pseudo_rand_data_test = np.random.uniform(low=0,high=32,size=(int(tot_num_samples/2) - train_split,bitstream_len))\n",
        "pseudo_rand_labels_train = np.ones(train_split)\n",
        "pseudo_rand_labels_test = np.ones(int(tot_num_samples/2) - train_split)\n",
        "\n",
        "# Inject noise signal into pseudo random number sequences (sine-wave in binary)\n",
        "time = np.arange(0, bitstream_len, 1)\n",
        "#nonrand_seq = [0,1,0,1,0,1,0,1,0,1,0,1,0,1,0,1,0,1,0,1,0,1,0,1,0,1,0,1,0,1,0,1]\n",
        "#nonrand_seq = np.random.shuffle(nonrand_seq)\n",
        "nonrand_seq = (np.sin(time) + 1)\n",
        "noise_data_train = np.random.uniform(low=0,high=32,size=(train_split,bitstream_len))\n",
        "noise_data_train += nonrand_seq\n",
        "noise_data_test = np.random.uniform(low=0,high=32,size=(int(tot_num_samples/2) - train_split,bitstream_len))\n",
        "noise_labels_train = np.ones(train_split)\n",
        "noise_labels_test = np.ones(int(tot_num_samples/2) - train_split)\n",
        "\n",
        "# Load in set of true random numbers\n",
        "#true_rand_data_train = np.loadtxt(true_rand_url)[:train_split,:]\n",
        "#true_rand_data_test = np.loadtxt(true_rand_url)[train_split:int(tot_num_samples/2),:]\n",
        "#true_rand_labels_train = np.zeros(train_split)\n",
        "#true_rand_labels_test = np.zeros(int(tot_num_samples/2) - train_split)\n",
        "\n",
        "# Combine all data and labels into two arrays (x and y respectively)\n",
        "X_train = np.concatenate((pseudo_rand_data_train,noise_data_train))\n",
        "X_test = np.concatenate((pseudo_rand_data_test,noise_data_test))\n",
        "Y_train = np.concatenate((pseudo_rand_labels_train,noise_labels_train))\n",
        "Y_test = np.concatenate((pseudo_rand_labels_test,noise_labels_test))\n",
        "\n",
        "# Randomly shuffle training sets\n",
        "idx_shuffle = np.random.permutation(int(train_split*2))\n",
        "X_train = X_train[idx_shuffle,:]\n",
        "Y_train = Y_train[idx_shuffle]\n"
      ],
      "execution_count": 0,
      "outputs": []
    },
    {
      "cell_type": "code",
      "metadata": {
        "id": "kZUcP44ugxyG",
        "colab_type": "code",
        "outputId": "dcad18dc-6ed5-43a4-da8b-bd1702669788",
        "colab": {
          "base_uri": "https://localhost:8080/",
          "height": 161
        }
      },
      "source": [
        "print(nonrand_seq)"
      ],
      "execution_count": 0,
      "outputs": [
        {
          "output_type": "stream",
          "text": [
            "[1.00000000e+00 1.84147098e+00 1.90929743e+00 1.14112001e+00\n",
            " 2.43197505e-01 4.10757253e-02 7.20584502e-01 1.65698660e+00\n",
            " 1.98935825e+00 1.41211849e+00 4.55978889e-01 9.79344930e-06\n",
            " 4.63427082e-01 1.42016704e+00 1.99060736e+00 1.65028784e+00\n",
            " 7.12096683e-01 3.86025081e-02 2.49012753e-01 1.14987721e+00\n",
            " 1.91294525e+00 1.83665564e+00 9.91148691e-01 1.53779596e-01\n",
            " 9.44216380e-02 8.67648250e-01 1.76255845e+00 1.95637593e+00\n",
            " 1.27090579e+00 3.36366116e-01 1.19683759e-02 5.95962355e-01]\n"
          ],
          "name": "stdout"
        }
      ]
    },
    {
      "cell_type": "code",
      "metadata": {
        "id": "DjskvhCbgxyM",
        "colab_type": "code",
        "outputId": "d9c71736-2112-4577-c31d-bb433ba2312d",
        "colab": {
          "base_uri": "https://localhost:8080/",
          "height": 667
        }
      },
      "source": [
        "# Set-up LSTM network\n",
        "embed_dim = 128\n",
        "lstm_out = 200\n",
        "batch_size = 32\n",
        "\n",
        "model = Sequential()\n",
        "model.add(Embedding(2500, embed_dim,input_length = bitstream_len))\n",
        "SpatialDropout1D(0.2)\n",
        "#model.add(LSTM(lstm_out, dropout_U = 0.2, return_sequences=True, dropout_W = 0.2))\n",
        "#model.add(LSTM(lstm_out, dropout_U = 0.2, return_sequences=True, dropout_W = 0.2))\n",
        "model.add(LSTM(lstm_out, dropout_U = 0.2, dropout_W = 0.2))\n",
        "model.add(Dense(1,activation='sigmoid'))\n",
        "model.compile(loss = 'binary_crossentropy', optimizer='adam',metrics = ['accuracy'])\n",
        "print(model.summary())"
      ],
      "execution_count": 0,
      "outputs": [
        {
          "output_type": "stream",
          "text": [
            "WARNING:tensorflow:From /usr/local/lib/python3.6/dist-packages/keras/backend/tensorflow_backend.py:66: The name tf.get_default_graph is deprecated. Please use tf.compat.v1.get_default_graph instead.\n",
            "\n",
            "WARNING:tensorflow:From /usr/local/lib/python3.6/dist-packages/keras/backend/tensorflow_backend.py:541: The name tf.placeholder is deprecated. Please use tf.compat.v1.placeholder instead.\n",
            "\n",
            "WARNING:tensorflow:From /usr/local/lib/python3.6/dist-packages/keras/backend/tensorflow_backend.py:4432: The name tf.random_uniform is deprecated. Please use tf.random.uniform instead.\n",
            "\n"
          ],
          "name": "stdout"
        },
        {
          "output_type": "stream",
          "text": [
            "/usr/local/lib/python3.6/dist-packages/ipykernel_launcher.py:10: UserWarning: Update your `LSTM` call to the Keras 2 API: `LSTM(200, dropout=0.2, recurrent_dropout=0.2)`\n",
            "  # Remove the CWD from sys.path while we load stuff.\n"
          ],
          "name": "stderr"
        },
        {
          "output_type": "stream",
          "text": [
            "WARNING:tensorflow:From /usr/local/lib/python3.6/dist-packages/keras/backend/tensorflow_backend.py:148: The name tf.placeholder_with_default is deprecated. Please use tf.compat.v1.placeholder_with_default instead.\n",
            "\n",
            "WARNING:tensorflow:From /usr/local/lib/python3.6/dist-packages/keras/backend/tensorflow_backend.py:3733: calling dropout (from tensorflow.python.ops.nn_ops) with keep_prob is deprecated and will be removed in a future version.\n",
            "Instructions for updating:\n",
            "Please use `rate` instead of `keep_prob`. Rate should be set to `rate = 1 - keep_prob`.\n",
            "WARNING:tensorflow:From /usr/local/lib/python3.6/dist-packages/keras/optimizers.py:793: The name tf.train.Optimizer is deprecated. Please use tf.compat.v1.train.Optimizer instead.\n",
            "\n",
            "WARNING:tensorflow:From /usr/local/lib/python3.6/dist-packages/keras/backend/tensorflow_backend.py:3657: The name tf.log is deprecated. Please use tf.math.log instead.\n",
            "\n",
            "WARNING:tensorflow:From /usr/local/lib/python3.6/dist-packages/tensorflow/python/ops/nn_impl.py:180: add_dispatch_support.<locals>.wrapper (from tensorflow.python.ops.array_ops) is deprecated and will be removed in a future version.\n",
            "Instructions for updating:\n",
            "Use tf.where in 2.0, which has the same broadcast rule as np.where\n",
            "Model: \"sequential_1\"\n",
            "_________________________________________________________________\n",
            "Layer (type)                 Output Shape              Param #   \n",
            "=================================================================\n",
            "embedding_1 (Embedding)      (None, 32, 128)           320000    \n",
            "_________________________________________________________________\n",
            "lstm_1 (LSTM)                (None, 200)               263200    \n",
            "_________________________________________________________________\n",
            "dense_1 (Dense)              (None, 1)                 201       \n",
            "=================================================================\n",
            "Total params: 583,401\n",
            "Trainable params: 583,401\n",
            "Non-trainable params: 0\n",
            "_________________________________________________________________\n",
            "None\n"
          ],
          "name": "stdout"
        }
      ]
    },
    {
      "cell_type": "code",
      "metadata": {
        "id": "SXcu0cSbgxyY",
        "colab_type": "code",
        "outputId": "987379ac-304b-4031-f43f-1b07508f7ca4",
        "colab": {
          "base_uri": "https://localhost:8080/",
          "height": 125
        }
      },
      "source": [
        "# Train LSTM network\n",
        "model.fit(X_train, Y_train, batch_size =batch_size, epochs = 5,  verbose = 5)"
      ],
      "execution_count": 0,
      "outputs": [
        {
          "output_type": "stream",
          "text": [
            "Epoch 1/5\n",
            "Epoch 2/5\n",
            "Epoch 3/5\n",
            "Epoch 4/5\n",
            "Epoch 5/5\n"
          ],
          "name": "stdout"
        },
        {
          "output_type": "execute_result",
          "data": {
            "text/plain": [
              "<keras.callbacks.History at 0x7efdf4cc6c50>"
            ]
          },
          "metadata": {
            "tags": []
          },
          "execution_count": 13
        }
      ]
    },
    {
      "cell_type": "code",
      "metadata": {
        "id": "6VmUI9YPgxyd",
        "colab_type": "code",
        "outputId": "a0dc5de9-e903-4ad0-ca8e-fa70eae2e0ba",
        "colab": {
          "base_uri": "https://localhost:8080/",
          "height": 53
        }
      },
      "source": [
        "score,acc = model.evaluate(X_test,Y_test,batch_size=batch_size,verbose=2)\n",
        "print(\"Score: %.2f\" % (score))\n",
        "print(\"Validation Accuracy: %.2f\" % (acc))"
      ],
      "execution_count": 0,
      "outputs": [
        {
          "output_type": "stream",
          "text": [
            "Score: 0.00\n",
            "Validation Accuracy: 1.00\n"
          ],
          "name": "stdout"
        }
      ]
    },
    {
      "cell_type": "code",
      "metadata": {
        "id": "aZ7ej2RQgxyx",
        "colab_type": "code",
        "colab": {}
      },
      "source": [
        ""
      ],
      "execution_count": 0,
      "outputs": []
    }
  ]
}